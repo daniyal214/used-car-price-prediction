{
 "cells": [
<<<<<<< HEAD
=======
    "tags": []
   },
   "source": [
    "05-05-2021\n",
    "\n",
    "In this model Linear Regression model is used to Predict Car Prices.\n",
    "Steps:\n",
    "1. Understanding the Data and Check for Missing values if any\n",
    "2. Data Cleaning - Data Cleaning is the primmary step for any ML problem, if your data is not cleaned it will affect your model's accuracy\n",
    "3. Check Correlations\n",
    "4. Data Preparation - Make sure you don't have multicollinearity using Pearson-coeff and P_value\n",
    "5. Model Building and evaluation"
   ]
  },
>>>>>>> 9418390fb39083ee8847305c6590153d942faccb
  {
   "cell_type": "code",
   "execution_count": 530,
   "metadata": {
    "_cell_guid": "b1076dfc-b9ad-4769-8c92-a6c4dae69d19",
    "_uuid": "8f2839f25d086af736a60e9eeb907d3b93b6e0e5",
    "execution": {
     "iopub.execute_input": "2021-05-05T13:27:07.656627Z",
     "iopub.status.busy": "2021-05-05T13:27:07.656063Z",
     "iopub.status.idle": "2021-05-05T13:27:08.593984Z",
     "shell.execute_reply": "2021-05-05T13:27:08.593207Z"
    },
    "papermill": {
     "duration": 0.962858,
     "end_time": "2021-05-05T13:27:08.594165",
     "exception": false,
     "start_time": "2021-05-05T13:27:07.631307",
     "status": "completed"
    },
    "tags": []
   },
   "outputs": [],
   "source": [
    "import numpy as np # linear algebra\n",
    "import pandas as pd # data processing, CSV file I/O (e.g. pd.read_csv)\n",
    "import matplotlib.pyplot as plt\n",
    "import seaborn as sns\n",
    "import re\n",
    "import warnings\n",
    "warnings.filterwarnings('ignore')"
   ]
  },
  {
   "cell_type": "markdown",
   "metadata": {
    "papermill": {
     "duration": 0.022999,
     "end_time": "2021-05-05T13:27:08.640679",
     "exception": false,
     "start_time": "2021-05-05T13:27:08.617680",
     "status": "completed"
    },
    "tags": []
   },
   "source": [
    "## Reading the Data"
   ]
  },
  {
   "cell_type": "code",
   "execution_count": 406,
   "metadata": {
    "execution": {
     "iopub.execute_input": "2021-05-05T13:27:08.688790Z",
     "iopub.status.busy": "2021-05-05T13:27:08.687840Z",
     "iopub.status.idle": "2021-05-05T13:27:08.712410Z",
     "shell.execute_reply": "2021-05-05T13:27:08.711094Z"
    },
    "papermill": {
     "duration": 0.049899,
     "end_time": "2021-05-05T13:27:08.712560",
     "exception": false,
     "start_time": "2021-05-05T13:27:08.662661",
     "status": "completed"
    },
    "tags": []
   },
   "outputs": [],
   "source": [
    "df = pd.read_csv('Cleaned.csv')"
   ]
  },
  {
   "cell_type": "code",
   "execution_count": 407,
   "metadata": {
    "execution": {
     "iopub.execute_input": "2021-05-05T13:27:08.780817Z",
     "iopub.status.busy": "2021-05-05T13:27:08.780116Z",
     "iopub.status.idle": "2021-05-05T13:27:08.813637Z",
     "shell.execute_reply": "2021-05-05T13:27:08.814033Z"
    },
    "papermill": {
     "duration": 0.079445,
     "end_time": "2021-05-05T13:27:08.814213",
     "exception": false,
     "start_time": "2021-05-05T13:27:08.734768",
     "status": "completed"
    },
    "tags": []
   },
   "outputs": [
    {
     "data": {
      "text/html": [
       "<div>\n",
       "<style scoped>\n",
       "    .dataframe tbody tr th:only-of-type {\n",
       "        vertical-align: middle;\n",
       "    }\n",
       "\n",
       "    .dataframe tbody tr th {\n",
       "        vertical-align: top;\n",
       "    }\n",
       "\n",
       "    .dataframe thead th {\n",
       "        text-align: right;\n",
       "    }\n",
       "</style>\n",
       "<table border=\"1\" class=\"dataframe\">\n",
       "  <thead>\n",
       "    <tr style=\"text-align: right;\">\n",
       "      <th></th>\n",
       "      <th>Make</th>\n",
       "      <th>Model</th>\n",
       "      <th>Model_Year</th>\n",
       "      <th>Fuel_Type</th>\n",
       "      <th>Transmission</th>\n",
       "      <th>Engine_Capacity(cc)</th>\n",
       "      <th>Kms_Driven</th>\n",
       "      <th>Color</th>\n",
       "      <th>Assembly</th>\n",
       "      <th>Body_Type</th>\n",
       "      <th>Price</th>\n",
       "      <th>Capacity_KWh</th>\n",
       "      <th>Condition</th>\n",
       "    </tr>\n",
       "  </thead>\n",
       "  <tbody>\n",
       "    <tr>\n",
       "      <th>0</th>\n",
       "      <td>Audi</td>\n",
       "      <td>A3</td>\n",
       "      <td>2016</td>\n",
       "      <td>Petrol</td>\n",
       "      <td>Automatic</td>\n",
       "      <td>1200</td>\n",
       "      <td>45000</td>\n",
       "      <td>White</td>\n",
       "      <td>Imported</td>\n",
       "      <td>Sedan</td>\n",
       "      <td>6125000</td>\n",
       "      <td>0.0</td>\n",
       "      <td>Excellent</td>\n",
       "    </tr>\n",
       "    <tr>\n",
       "      <th>1</th>\n",
       "      <td>Audi</td>\n",
       "      <td>A4</td>\n",
       "      <td>2017</td>\n",
       "      <td>Petrol</td>\n",
       "      <td>Automatic</td>\n",
       "      <td>1400</td>\n",
       "      <td>42000</td>\n",
       "      <td>Black</td>\n",
       "      <td>Imported</td>\n",
       "      <td>Sedan</td>\n",
       "      <td>8700000</td>\n",
       "      <td>0.0</td>\n",
       "      <td>Excellent</td>\n",
       "    </tr>\n",
       "    <tr>\n",
       "      <th>2</th>\n",
       "      <td>Audi</td>\n",
       "      <td>A5</td>\n",
       "      <td>2018</td>\n",
       "      <td>Petrol</td>\n",
       "      <td>Automatic</td>\n",
       "      <td>1400</td>\n",
       "      <td>18000</td>\n",
       "      <td>White</td>\n",
       "      <td>Local</td>\n",
       "      <td>Sedan</td>\n",
       "      <td>12400000</td>\n",
       "      <td>0.0</td>\n",
       "      <td>Excellent</td>\n",
       "    </tr>\n",
       "    <tr>\n",
       "      <th>3</th>\n",
       "      <td>Audi</td>\n",
       "      <td>A5</td>\n",
       "      <td>2018</td>\n",
       "      <td>Petrol</td>\n",
       "      <td>Automatic</td>\n",
       "      <td>1400</td>\n",
       "      <td>25000</td>\n",
       "      <td>Blue</td>\n",
       "      <td>Local</td>\n",
       "      <td>Sedan</td>\n",
       "      <td>12200000</td>\n",
       "      <td>0.0</td>\n",
       "      <td>Excellent</td>\n",
       "    </tr>\n",
       "    <tr>\n",
       "      <th>4</th>\n",
       "      <td>Audi</td>\n",
       "      <td>A6</td>\n",
       "      <td>2015</td>\n",
       "      <td>Petrol</td>\n",
       "      <td>Automatic</td>\n",
       "      <td>1800</td>\n",
       "      <td>57000</td>\n",
       "      <td>Grey</td>\n",
       "      <td>Local</td>\n",
       "      <td>Sedan</td>\n",
       "      <td>9750000</td>\n",
       "      <td>0.0</td>\n",
       "      <td>Excellent</td>\n",
       "    </tr>\n",
       "  </tbody>\n",
       "</table>\n",
       "</div>"
      ],
      "text/plain": [
       "   Make Model  Model_Year Fuel_Type Transmission  Engine_Capacity(cc)  \\\n",
       "0  Audi    A3        2016    Petrol    Automatic                 1200   \n",
       "1  Audi    A4        2017    Petrol    Automatic                 1400   \n",
       "2  Audi    A5        2018    Petrol    Automatic                 1400   \n",
       "3  Audi    A5        2018    Petrol    Automatic                 1400   \n",
       "4  Audi    A6        2015    Petrol    Automatic                 1800   \n",
       "\n",
       "   Kms_Driven  Color  Assembly Body_Type     Price  Capacity_KWh  Condition  \n",
       "0       45000  White  Imported     Sedan   6125000           0.0  Excellent  \n",
       "1       42000  Black  Imported     Sedan   8700000           0.0  Excellent  \n",
       "2       18000  White     Local     Sedan  12400000           0.0  Excellent  \n",
       "3       25000   Blue     Local     Sedan  12200000           0.0  Excellent  \n",
       "4       57000   Grey     Local     Sedan   9750000           0.0  Excellent  "
      ]
     },
     "execution_count": 407,
     "metadata": {},
     "output_type": "execute_result"
    }
   ],
   "source": [
    "df.head()"
   ]
  },
  {
   "cell_type": "code",
   "execution_count": 408,
   "metadata": {
    "execution": {
     "iopub.execute_input": "2021-05-05T13:27:08.862644Z",
     "iopub.status.busy": "2021-05-05T13:27:08.862030Z",
     "iopub.status.idle": "2021-05-05T13:27:08.882639Z",
     "shell.execute_reply": "2021-05-05T13:27:08.882125Z"
    },
    "papermill": {
     "duration": 0.045852,
     "end_time": "2021-05-05T13:27:08.882789",
     "exception": false,
     "start_time": "2021-05-05T13:27:08.836937",
     "status": "completed"
    },
    "tags": []
   },
   "outputs": [
    {
     "name": "stdout",
     "output_type": "stream",
     "text": [
      "<class 'pandas.core.frame.DataFrame'>\n",
      "RangeIndex: 90346 entries, 0 to 90345\n",
      "Data columns (total 13 columns):\n",
      " #   Column               Non-Null Count  Dtype  \n",
      "---  ------               --------------  -----  \n",
      " 0   Make                 90346 non-null  object \n",
      " 1   Model                90346 non-null  object \n",
      " 2   Model_Year           90346 non-null  int64  \n",
      " 3   Fuel_Type            90346 non-null  object \n",
      " 4   Transmission         90346 non-null  object \n",
      " 5   Engine_Capacity(cc)  90346 non-null  int64  \n",
      " 6   Kms_Driven           90346 non-null  int64  \n",
      " 7   Color                90346 non-null  object \n",
      " 8   Assembly             90346 non-null  object \n",
      " 9   Body_Type            90346 non-null  object \n",
      " 10  Price                90346 non-null  int64  \n",
      " 11  Capacity_KWh         90346 non-null  float64\n",
      " 12  Condition            90346 non-null  object \n",
      "dtypes: float64(1), int64(4), object(8)\n",
      "memory usage: 9.0+ MB\n"
     ]
    }
   ],
   "source": [
    "df.info()"
   ]
  },
  {
   "cell_type": "markdown",
   "metadata": {
    "papermill": {
     "duration": 0.023663,
     "end_time": "2021-05-05T13:27:08.930165",
     "exception": false,
     "start_time": "2021-05-05T13:27:08.906502",
     "status": "completed"
    },
    "tags": []
   },
   "source": [
    "### Checking Null values"
   ]
  },
  {
   "cell_type": "code",
   "execution_count": 409,
   "metadata": {
    "execution": {
     "iopub.execute_input": "2021-05-05T13:27:08.984646Z",
     "iopub.status.busy": "2021-05-05T13:27:08.983999Z",
     "iopub.status.idle": "2021-05-05T13:27:08.988251Z",
     "shell.execute_reply": "2021-05-05T13:27:08.987508Z"
    },
    "papermill": {
     "duration": 0.035216,
     "end_time": "2021-05-05T13:27:08.988401",
     "exception": false,
     "start_time": "2021-05-05T13:27:08.953185",
     "status": "completed"
    },
    "tags": []
   },
   "outputs": [
    {
     "data": {
      "text/plain": [
       "Make                   0\n",
       "Model                  0\n",
       "Model_Year             0\n",
       "Fuel_Type              0\n",
       "Transmission           0\n",
       "Engine_Capacity(cc)    0\n",
       "Kms_Driven             0\n",
       "Color                  0\n",
       "Assembly               0\n",
       "Body_Type              0\n",
       "Price                  0\n",
       "Capacity_KWh           0\n",
       "Condition              0\n",
       "dtype: int64"
      ]
     },
     "execution_count": 409,
     "metadata": {},
     "output_type": "execute_result"
    }
   ],
   "source": [
    "df.isnull().sum()"
   ]
  },
  {
   "cell_type": "markdown",
   "metadata": {
    "papermill": {
     "duration": 0.0233,
     "end_time": "2021-05-05T13:27:09.035452",
     "exception": false,
     "start_time": "2021-05-05T13:27:09.012152",
     "status": "completed"
    },
    "tags": []
   },
   "source": [
    "## Data Cleaning"
   ]
  },
  {
   "cell_type": "code",
   "execution_count": 410,
   "metadata": {
    "execution": {
     "iopub.execute_input": "2021-05-05T13:27:09.136467Z",
     "iopub.status.busy": "2021-05-05T13:27:09.135130Z",
     "iopub.status.idle": "2021-05-05T13:27:09.139656Z",
     "shell.execute_reply": "2021-05-05T13:27:09.140136Z"
    },
    "papermill": {
     "duration": 0.033041,
     "end_time": "2021-05-05T13:27:09.140303",
     "exception": false,
     "start_time": "2021-05-05T13:27:09.107262",
     "status": "completed"
    },
    "tags": []
   },
   "outputs": [
    {
     "name": "stdout",
     "output_type": "stream",
     "text": [
      "['Petrol' 'Diesel' 'Hybrid' 'CNG' 'Electric' 'Lpg']\n",
      "['Automatic' 'Manual']\n",
      "['White' 'Black' 'Blue' 'Grey' 'Silver' 'All' 'Green' 'Red' 'Gold'\n",
      " 'Red Wine' 'Unlisted' 'Beige' 'Shalimar Rose' 'Maroon' 'Turquoise'\n",
      " 'Char Coal' 'Metallic Grey' 'Bronze' 'Brown' 'Metallic Gray' 'Burgundy'\n",
      " 'Navy' 'Pearl White' 'Panthera Metal' 'Purple' 'Pink' 'Smoke Green'\n",
      " 'Orange' 'L Sky Blue' 'Yellow' 'Peral White' 'Rose Pink' 'Wine Red'\n",
      " 'Magneta' 'Red Wine ' 'Gun Mettalic' 'Super White' 'Peral White '\n",
      " 'Sky Blue' 'Pencil Grey' 'Unlosted' 'Gun Metalic' 'Olive Green' 'Surmai'\n",
      " 'Indigo' 'Ice Blue' 'Turqouise' 'Pearl White ' 'P White' 'All Colours'\n",
      " 'White And Black With All Interior' 'Preal White' 'Camel '\n",
      " 'Black With Red' 'Royal Blue' 'Redwine' 'Simmering Green' 'Gun Metallic'\n",
      " 'Strong Blue Metallic' 'Pearl Black' 'Champion' 'Strong Metallic Blue'\n",
      " 'Pinkish Silver' 'Light Green' 'Flexin Mica' 'Shimming Green' 'Silver G'\n",
      " 'Levander' 'Lavender' 'Phantom Brown ' 'P With' 'Rosemist'\n",
      " 'Polish Metallic' 'Steel Blonde Metallic' 'Dorado Gold' 'Mica Metallic'\n",
      " 'Pearl White And Black' 'Indica' 'Foan' 'Chocolate Color'\n",
      " 'Bronze Mica Metallic' 'Metallic Rose' 'Light Blue' 'Gray Graphite'\n",
      " 'Blue And Silver ' 'Gunmetallic' 'Metallic Brown , Two Tone' 'Sky Blue '\n",
      " 'Royal White' 'Shimmering Green' 'Dark Grey Colour (Original )'\n",
      " 'British Green And Pearl Blue Two Toon' 'Gun Matalic' 'Rose Metalic'\n",
      " 'British Green' 'Rose Metal' 'Apple Green'\n",
      " '{:wine=>\"Wine\", :beige=>\"Beige\", :black=>\"Black\", :blue=>\"Blue\", :bronze=>\"Bronze\", :brown=>\"Brown\", :burgundy=>\"Burgundy\", :gold=>\"Gold\", :green=>\"Green\", :grey=>\"Grey\", :indigo=>\"Indigo\", :magenta=>\"Magenta\", :maroon=>\"Maroon\", :orange=>\"Orange\", :pink=>\"Pink\", :purple=>\"Purple\", :red=>\"Red\", :silver=>\"Silver\", :turquoise=>\"Turquoise\", :white=>\"White\", :yellow=>\"Yellow\", :navy=>\"Navy\", :unlisted=>\"Unlisted\"}'\n",
      " 'Champagne ' 'Lit Gareen' 'Red Vine' 'Mehndi Color' 'Medium Silver'\n",
      " 'Light Yellow' 'Gunmatalic' 'Pearl Green' 'Rose Gold' 'Rose Mist'\n",
      " 'Tose Miss' 'Light Pink Rose' 'Rose' 'Saloon' 'Rose Matalic' 'Gray'\n",
      " 'Moonlight' 'Red Wine Pal Calour' 'Pearl Blue' 'C Green '\n",
      " 'Mica Green Metallic' 'Green ' 'Rose Metallic' 'Metallic' 'Olive'\n",
      " 'Green Or Somehow Between' 'Tea Pink' 'Rose Mose' 'Rose White'\n",
      " 'Shemreen Gun Matel Green' 'Grey Metalic' 'Lime Yellow' 'Mtalic Silver'\n",
      " 'Blueish' 'Black Green' 'Silver Pista' 'Jarama Beige' 'Pearl' 'Rose Mis'\n",
      " 'Dark Blue' 'Metallic Sky Blue' 'Peach' 'Lite Green' 'Grey Pistol Color'\n",
      " 'Nebula Blue' 'White With Beige' 'Strom Blue' 'Metallic Blue'\n",
      " 'Sparkling Black Mica' 'All Colours Available'\n",
      " 'Color Urban Titanium Metallic, Honda' 'Urban Titanium' 'Metallic Silver'\n",
      " 'Urban ' 'Gun Mattlic Colour ' 'Dark Metallic Green' 'Modern Steel'\n",
      " 'Chocolate Brown' 'Urban Titanium Metallic' 'Charcol Grey Pearl'\n",
      " 'As You Can See Pictures' 'Red Cherry' 'Dark Brown' 'Nardo Grey'\n",
      " 'Modern Steel 22,85,' 'Gun Metallic ' 'Aqua Green' 'Modern Steel Matlic'\n",
      " 'Tefta White' 'Gun Matellic' 'Titania' 'Metallic Green' 'Army Green'\n",
      " 'Careem' 'Lapis Blue Metallic ' 'Bottel Green' 'Cyprus Blue'\n",
      " 'Titanium Brown' 'Purle White' 'Goldan' 'Purel White ' 'Matalic'\n",
      " 'Urban Titanium ' 'Redvine' 'Beige Gold' 'Silver Metallic '\n",
      " 'Urban Titenium' 'Sky ' 'Titanium ' 'Metallic Grey ' 'Oolong Grey'\n",
      " 'Liquid Blue' 'Manhatten Grey ' 'Modern Metallic' 'Arban Titenium'\n",
      " 'Cashmere Silver' 'Ssss' 'Sedan' 'Silver Grey' 'Silvergolden'\n",
      " 'Gun Matelic' 'Graphite' 'Bowla' 'Brown Metallic' 'S' 'Granite Metallic'\n",
      " 'Titanium Mettalic' 'Smokey Metallic' 'Metallic Dark Green' 'Dark Green'\n",
      " 'Gunmatellic' 'Shalimar Rose Mist ' 'Golden' 'S Rose Mis'\n",
      " 'Titanium Colour' 'Polish Metal Metalic' 'Gun Metelic' 'Beig' 'R Metelic'\n",
      " 'S Grey' 'Metalic Light Blue' 'Titanium' 'Titanium Mettallic'\n",
      " 'Shalimar Rose Mist' 'Brownmica ' 'Gan Matelk' 'Peel Brown'\n",
      " 'Blackish Nevy Blue Peral' 'Urban Titan' 'Dark Gren' 'Bold Matalic Beig'\n",
      " 'Pal White' 'Polish Metal Metallic' 'Mettalic Grey' 'Gun Metallic Grey'\n",
      " 'Polish Matilic' 'Polish Metalic' 'S Green' 'Shalimar Stone'\n",
      " 'Arabian Titanium' 'Militry Green Color' 'Mettalic Wine Red'\n",
      " 'Magnesium Metallic' 'Shalimar Rose Color' 'Blue Pearl' 'Metalic Gun'\n",
      " 'Grefite' 'Gary' 'Polished Metallic Grey' 'Titanium Metallic '\n",
      " 'Lite Grey' 'Titanium Grey' 'Canuon Stone Silver' 'Light Purple Metallic'\n",
      " 'Mettalic Steel' 'Cool Red' 'Grey Metallic' 'Pearlwhite' 'Rose Black'\n",
      " 'Gr Vr Matl' 'Dark Grey' 'Grey Blue Type' 'Gun Metal' 'Metalic Gray'\n",
      " 'Pearl Grey' 'Matellic Grey' 'Matlic Color' 'Modren Steel' 'Mist'\n",
      " 'Greymettalic' 'Charcoal' 'Pearl Purple ' 'Gun Mettelic' 'Purple Lite'\n",
      " 'Stone Silver' 'Canyon Silver' 'Crystal Pearl Black' 'Matlic Rose'\n",
      " 'Any Color Available' 'Other' 'Matlic' 'See In Pics' 'Sky Bue'\n",
      " 'Steel Metallic' 'Metalic Blue' 'Bottle Green' 'Modern Steel Metallic'\n",
      " 'Granite' 'Urban Titenum' 'Urban Titinum' 'Aqua Green ' 'Metallic Steel '\n",
      " 'Urbantitanium' 'Shalimar' 'Metalic' 'Rose Mint' 'Matalic Gray'\n",
      " 'Grey Titanium' 'Shalimar Rose Gold' 'Lunar Silver' 'Italic'\n",
      " 'Metallic Steel' 'Brown Type' 'Modern Gray' 'Metal Metallic' 'Rose Magna'\n",
      " 'British Dark Green' 'Dark' 'Glossy Blue Color' 'Rose Matelik' 'Rose '\n",
      " 'Gunmetalic' 'Carniel Red' 'Skin' 'Metallic Titanium' 'Matellic Steel'\n",
      " 'Arabic Matalic' 'Urban Titnum' 'Peal Bule' 'Dalmatalak'\n",
      " 'Same As Picture' 'Modern Steel Matelic' 'Cooper Gold' 'Rust Orange'\n",
      " 'Light Golden' 'Light Blue Metallic' 'Oxford Metallic Green ' 'Multi'\n",
      " 'Light Metallic Blue' 'Evo' 'Sky Blue (Light)' 'Aqua Blue' 'Light Green '\n",
      " 'Magenta' 'Urban Sand Brown ' 'Aky Blue' 'By6' 'Eminent Blue' 'Grey Type'\n",
      " 'Blueish Grey' 'Smoke Gr' 'Sand Beigh' 'Sand Beige' 'Cool Beige'\n",
      " 'Pheonix Red' 'Matte Black' 'Olymipc White' 'Smoke Grey' 'Sliver Grey'\n",
      " 'Olivia Green' 'Salon' 'Palwheth' 'Rose Green' 'Offwhite'\n",
      " 'Dark Gray Metalic' 'Military Green' 'C Green' 'Matelic Blue' 'Ice White'\n",
      " 'Biscuit' 'See Green' 'Grinish' 'Misty Green' 'Green Smoker'\n",
      " 'Metalic Green' 'Apky Samny' 'Mehndi Colour' 'Matalic Blue' 'Gun Mtalick'\n",
      " 'Rose Mattalic' 'Sea Gerrn' 'Gun Mutalic' 'Azure Gray Pearl' 'Gold Wight'\n",
      " 'Gold White' 'Bule Mint' 'Coffee' 'Snoke Green' 'Yellow And Black'\n",
      " 'Biscut' 'Smo Grey' 'Cegreen' 'Spacio' 'Sea Green' 'Mehran' 'Sandbeig'\n",
      " 'White And Silver Colours' 'White And Silver' 'Saloon Gray'\n",
      " 'Smoker Green' 'Win Brown' 'Army ' 'Grpht Grey' 'Peral Blue' 'Jade'\n",
      " 'Good Condition Ok Golden Colour And Good Condition'\n",
      " 'Gun Metallic Colour' 'Gun Mattelic' 'Steel Grey' 'Mustard '\n",
      " 'Silky Green' 'Army Clr' 'Sky Blue Matalic' 'Red Pearl' 'Golden Green'\n",
      " 'Silver Green' 'Graphite Grey' 'Graphite Grey ' 'Check Pictures'\n",
      " 'Mateluck' 'Mica Dark' 'Light Green Boder Raping Sheet' 'Good'\n",
      " 'Creem Color' 'O Green' 'Aq Jade' 'Whitish Silver' 'Silver Gray' 'Smoke'\n",
      " ' ' 'Smoke Gray' 'Smoke Garen' 'Ganmatlic' 'Beige Ici' 'White Blue'\n",
      " 'Navy Blue' 'One Pis Tachinig' 'Smokey Green' 'Lake Blue' 'Keen Golden'\n",
      " '???' 'Peral Wine' 'Red And Black' 'Sand Biege' 'Azury Gray' 'Sea Blue'\n",
      " 'Ocean Blue Pearl' 'Gunmattlic' 'Shown In Pix' 'As Seen In The Pics'\n",
      " 'Metallik' 'Graphite Metalic' 'Pics' 'Greyish/ Blue Shade' 'Off White'\n",
      " 'Smook Green' 'Sand Gold' 'Foji Green' 'Leith Mahande' 'Grenish' 'Wite'\n",
      " 'Dull Yellow' 'Misty Green ' 'Mouse Couler' 'Greenish' 'Metro Blue'\n",
      " 'Skye ' 'Urban Brown Pearl Metallic' 'Gunmtalic' 'Fol Bage' 'Gunmtalk'\n",
      " 'Cerulean B' 'Indica, Graphite' 'Green Metalic' 'Gunmetelic'\n",
      " 'Silk Silver' 'Angori' 'Smo Green' 'Moongia' 'Green Matelic' 'Cool Batch'\n",
      " 'Smoke Gray ' 'Sky Light Blue' 'Azure Gray ' 'S Weunset Red'\n",
      " 'Pentha Metal' 'All Colors Are Available' 'Mercury Blue'\n",
      " 'White And Black Colours' 'Violet Mist Metallic' 'Panthera Metallic Blue'\n",
      " 'Anthera Metal Color' 'Penthra Metal' 'Rich Espresso' 'Penthera Metal'\n",
      " 'Indium Grey' 'Cuprite Brown' 'Green Black Metalic'\n",
      " 'Inkish Metallic Blue' 'Dark Blue/Black' 'Greish Blue' 'Light Pink'\n",
      " 'Emint Blue' 'Not Defined' 'Olympus White' 'Gan Matalik' 'Sand Baige'\n",
      " 'Imported' 'Shrimp Green' 'Matalic Green' 'Cool Bebige' 'Smoky Greeen'\n",
      " 'None' 'Jett Grey' 'Warm Silver Metallic' 'Light Pista Green'\n",
      " 'Light Gold' 'Gm' 'Warm Silver' 'Two Toned Color'\n",
      " 'Outer Shawer Iner Jenean' 'Black ' 'Light Grey' 'Golden Beach'\n",
      " 'Beach Color' 'Rose Metaalic' 'Shining Pearl White' 'Bronze Mica'\n",
      " 'Metallic Brown' 'Pearl Bedge' 'Flaxen Mica' 'Boardox'\n",
      " 'All Colours Are Available' 'Rose Metallic ' 'Super White And Black'\n",
      " 'White, Black And Silver' 'White, Black,Silver With All Interiors'\n",
      " 'No Idea' 'Lime Green' 'Peral' 'Stone Blue' 'Bluish Purple'\n",
      " 'Phantom Brown' 'Strong Blue' 'Blueish Silver' 'Bronze Micca' 'Two Tone'\n",
      " 'Jarma Beige' 'Metalic S' 'Metal Stream Met' 'Teel Green' 'Phattom Brown'\n",
      " 'Greenish Silver' 'بسکوٹی' 'Bronze Mitallic' 'Moon Light Silver'\n",
      " 'Moigia Color' 'Metalic Sky Blue' 'Matelic Grey' 'Levander '\n",
      " 'Bluish Silver' 'Shamreen Green' 'Bage' 'Black Metallic' 'Shimran Green'\n",
      " 'Special Edition' 'Red Wine Body Colour' 'Bluish Silver Mica Metallica'\n",
      " 'Gun Metal Gray ' 'Brown Micca' 'Sky Silver' 'Metallic Flaxen Mica'\n",
      " 'Pink Rose' 'Onion Color Type' 'Electric Blue' 'Shalimar Roze'\n",
      " 'Rose Meta' 'Mild Green' 'Levender Silver' 'Nice' 'Redwine Metallic'\n",
      " 'Pearl Sky Blue' 'Grin' 'Vine Red' 'Gin Metallic' 'Shimrin Green' 'Lemon'\n",
      " 'Blueish Green Pearl' 'Blueish Green' 'Rose Mitalic' 'Peli White'\n",
      " 'Shimmeer Green' 'Lightly Blue' 'Ash White' 'Meca Matelic Blue '\n",
      " 'Light Brown' 'Olive Mica Metallic' 'Purl White ' 'Mat Green'\n",
      " 'Parl Wahit' 'Cream Color' 'Sea Pearl' 'Stone Grey' 'Golden Silke'\n",
      " 'Dark Red Wine' 'Skyblue' 'T' 'Golden Silver' 'Flexin Golden' 'Malti'\n",
      " 'Sharming Green' 'Rose Metalic(Falsa Color)' 'Mustard' 'Defined'\n",
      " 'Mallow Silver Met' 'Blue Type' 'Grey ' 'Rose Mettalic' 'Gum Metallic'\n",
      " 'Elegant Dark Grey' 'Rose Pink Color' 'Dark Grey Gun Mettalic' 'Bluewish'\n",
      " 'Jerma Badge' 'Attitude Black' 'Viking Blue' 'Cherry Red' 'Gen Metallic'\n",
      " 'Wine' 'Metalic F' 'Simren Green' 'Mix Silver' 'Showered Below'\n",
      " 'Olive Mica' 'Shimmer Green' 'Silver Gold' 'Gun Metallica' 'Creem'\n",
      " 'Samrin Green Matalic' 'Pearl  White' 'Ross Matlk' 'Sliver'\n",
      " 'Rose Mettalic ' 'Beige Metallic' 'Spatial Sky Blue' 'Parrot Green'\n",
      " 'Pencil Gray' 'Gan Matalik Garr' 'Gunmatelic' 'Lavander' 'Shimeren Green'\n",
      " 'Shimmering Green Metallic' 'Light Purple' 'Shapain' 'Grey Silver'\n",
      " 'Superwhite' 'Metallic Orange' 'B' 'Mat Flax M ' 'Ovals' 'Rose Shalimar'\n",
      " 'Red Vine Color' 'Abc' 'Moonglow Pearl' 'Silver Type' 'Gunmetalick'\n",
      " 'Pearl Whte' 'Redwine Color' 'Tee Pink' 'Bluish Grey' 'Hvhhb'\n",
      " 'Pearl Beige' 'Red Winw' 'Pel White' 'Purpal' 'White ' 'Trim'\n",
      " 'Grips Gareen' 'Dark Gray' 'Brawn' 'Mande' 'Bottle Green Matellic '\n",
      " 'Rose M' 'Rose Silver' 'Gun Mattilac' 'Mica (Blueish Black) Colour'\n",
      " 'Surmayi' 'Super Dark Blue' 'Sky Green' 'Rose Matel' 'Unknown'\n",
      " 'Grapes Color' 'Shell Rose' 'Phenom Brown' 'Mellow Silver' 'Greapsgreen'\n",
      " 'Shemring Green' 'Double Sheet' 'Pista Green' 'Thermotec Lime Green'\n",
      " 'Shimring Green' 'Meca Bronze' 'Piyazi' 'Pearl Blue ' 'Gun Matlic'\n",
      " 'Shimmring Green' 'Matelic' 'Copper Golden' 'Rid Wien' 'Sarmin Green'\n",
      " 'Mandi Color' 'Super White ' 'Sea Matalic' 'Baby Pink' 'Red Wine Colour'\n",
      " 'Red Vine ' 'Charcoal Grey' 'White  Black' 'Metallic Light Green'\n",
      " 'Celestite Grey' 'Blue And White ' 'Roz Mataiq' 'Rose Met' 'Green Van'\n",
      " 'Blue Light' 'G' 'Sky Blue, Parliament Color' 'Emerld Pearl Green'\n",
      " 'Pearl White With Black Roof' '14/ 16' 'Aqua Green Pearl' 'Grapet Silver'\n",
      " 'Comet Blue' 'Black Paper Lga Hua H Golden' 'Chocolate Red Wine' 'Sky'\n",
      " 'Metalic Cooper' 'Brownish Black' 'Metallic Purple' 'Tea Pink '\n",
      " 'Light Orange Or Peach Color' 'Copper' 'Lalik Brown' 'Perl White'\n",
      " 'Musterd' 'Army Desert Color' 'Navy Green' 'Copper Pink' 'Steel' 'Shade'\n",
      " 'Family Used Car Good Looking' 'Carem' 'Green Type' 'Ferozi'\n",
      " 'Light Green Type' 'Angroi' 'Garnish Blue' 'Neon Glittery Yellow'\n",
      " 'Oly Green' 'Mehroon' 'Ash Grey' 'Genuine Colour' 'Voilet Metalic'\n",
      " 'Pethera Metallic' 'As You Can See' 'Lavander Blue' 'Blue And Grey'\n",
      " 'Snow White' 'Vine' 'Rose Clour' 'Bright' 'Shampion Green' 'Metalic Grey'\n",
      " 'Dark Green And Silver ' 'Bhati Japani Color' 'Silwer' 'Champagne'\n",
      " 'Cream' 'Lavendar' 'Golden Rose' 'Bhatti Colour' 'Watch Pictures'\n",
      " 'Matelic Rose' 'Silve & Green' 'Cgreen' 'Unkhown' 'Rose Miss'\n",
      " 'Commando Green' 'Yslr' 'Pinc' 'Pearl Colour' 'White And Golden'\n",
      " 'Pearl Copper Brown' 'Gooldan' 'Dark Silver' 'Cheku Colour'\n",
      " 'Pearl Red Vine ']\n",
      "['Imported' 'Local']\n",
      "['Sedan' 'Hatchback' 'SUV' 'Mini Van' 'Pick Up' 'Crossover' 'MPV' 'Coupe'\n",
      " 'Compact sedan' 'Compact SUV' 'Double Cabin' 'Station Wagon' 'Van'\n",
      " 'Subcompact hatchback' 'Micro Van' 'High Roof' 'Single Cabin' 'Pickup'\n",
      " 'Mini Vehicles' 'Off-Road Vehicles' 'Convertible' 'Truck' 'Unknown']\n",
      "['Excellent' 'Very Good' 'Good' 'Fair' 'Poor']\n"
     ]
    }
   ],
   "source": [
    "print(df['Fuel_Type'].unique())\n",
    "print(df['Transmission'].unique())\n",
    "print(df['Color'].unique())\n",
    "print(df['Assembly'].unique())\n",
    "print(df['Body_Type'].unique())\n",
    "print(df['Condition'].unique())"
   ]
  },
  {
   "cell_type": "code",
   "execution_count": 411,
   "metadata": {},
   "outputs": [
    {
     "data": {
      "text/plain": [
       "White                                                 36596\n",
       "Silver                                                14841\n",
       "Black                                                 12419\n",
       "Grey                                                   8898\n",
       "Blue                                                   4047\n",
       "Green                                                  1827\n",
       "Red                                                    1788\n",
       "Gold                                                   1622\n",
       "Maroon                                                 1540\n",
       "Beige                                                  1030\n",
       "Burgundy                                                600\n",
       "Brown                                                   568\n",
       "                                                      ...  \n",
       "Vine                                                      1\n",
       "Super White And Black                                     1\n",
       "Meca Matelic Blue                                         1\n",
       "Unlosted                                                  1\n",
       "Sky Bue                                                   1\n",
       "Good Condition Ok Golden Colour And Good Condition        1\n",
       "Polish Metallic                                           1\n",
       "Creem                                                     1\n",
       "Mix Silver                                                1\n",
       "Neon Glittery Yellow                                      1\n",
       "Shapain                                                   1\n",
       "Multi                                                     1\n",
       "Name: Color, Length: 785, dtype: int64"
      ]
     },
     "execution_count": 411,
     "metadata": {},
     "output_type": "execute_result"
    }
   ],
   "source": [
    "df['Color'].value_counts()"
   ]
  },
  {
   "cell_type": "code",
   "execution_count": 412,
   "metadata": {},
   "outputs": [],
   "source": [
    "re.search(r'white',df['Color'][0])"
   ]
  },
  {
   "cell_type": "code",
   "execution_count": 413,
   "metadata": {},
   "outputs": [],
   "source": [
    "white = list(df['Color'][df['Color'].str.lower().str.contains(r'white')])\n",
    "blue = list(df['Color'][df['Color'].str.lower().str.contains(r'blue')])\n",
    "red = list(df['Color'][df['Color'].str.lower().str.contains(r'red')])\n",
    "black = list(df['Color'][df['Color'].str.lower().str.contains(r'black')])\n",
    "silver = list(df['Color'][df['Color'].str.lower().str.contains(r'silver')])\n",
    "grey = list(df['Color'][df['Color'].str.lower().str.contains(r'grey')])\n",
    "golden = list(df['Color'][df['Color'].str.lower().str.contains(r'golden')])\n",
    "green = list(df['Color'][df['Color'].str.lower().str.contains(r'green')])\n",
    "brown = list(df['Color'][df['Color'].str.lower().str.contains(r'brown')])\n",
    "rose = list(df['Color'][df['Color'].str.lower().str.contains(r'rose')])\n",
    "gun = list(df['Color'][df['Color'].str.lower().str.contains(r'gun')])\n",
    "gray = list(df['Color'][df['Color'].str.lower().str.contains(r'gray')])\n",
    "metallic = list(df['Color'][df['Color'].str.lower().str.contains(r'metallic')])\n",
    "biege = list(df['Color'][df['Color'].str.lower().str.contains(r'beige')])"
   ]
  },
  {
   "cell_type": "code",
   "execution_count": 414,
   "metadata": {},
   "outputs": [],
   "source": [
    "df['Color'].replace(white,'White', inplace=True)\n",
    "df['Color'].replace(blue,'Blue', inplace=True)\n",
    "df['Color'].replace(red,'Red', inplace=True)\n",
    "df['Color'].replace(black,'Black', inplace=True)\n",
    "df['Color'].replace(silver,'Silver', inplace=True)\n",
    "df['Color'].replace(grey,'Grey', inplace=True)\n",
    "df['Color'].replace(golden,'Golden', inplace=True)"
   ]
  },
  {
   "cell_type": "code",
   "execution_count": 415,
   "metadata": {},
   "outputs": [],
   "source": [
    "df['Color'].replace(green,'Green', inplace=True)"
   ]
  },
  {
   "cell_type": "code",
   "execution_count": 416,
   "metadata": {},
   "outputs": [],
   "source": [
    "df['Color'].replace(brown,'Brown', inplace=True)"
   ]
  },
  {
   "cell_type": "code",
   "execution_count": 417,
   "metadata": {},
   "outputs": [],
   "source": [
    "df['Color'].replace(rose,'Rose', inplace=True)\n",
    "df['Color'].replace(gun,'Gun Metallic', inplace=True)\n",
    "df['Color'].replace(gray,'Grey', inplace=True)\n",
    "df['Color'].replace(metallic,'Metallic', inplace=True)\n",
    "df['Color'].replace(biege,'Beige', inplace=True)"
   ]
  },
  {
   "cell_type": "code",
   "execution_count": 418,
   "metadata": {},
   "outputs": [],
   "source": [
    "df['Color'].str.lower().replace(to_replace=r'Rose.+', value='Rose', regex=True, inplace=True)"
   ]
  },
  {
   "cell_type": "code",
   "execution_count": 419,
   "metadata": {},
   "outputs": [],
   "source": [
    "df['Color'].replace('Turqouise','Turquoise', inplace=True)"
   ]
  },
  {
   "cell_type": "code",
   "execution_count": 420,
   "metadata": {},
   "outputs": [],
   "source": [
    "pd.options.display.max_rows = None"
   ]
  },
  {
   "cell_type": "code",
   "execution_count": 421,
   "metadata": {},
   "outputs": [
    {
     "data": {
      "text/plain": [
       "White                           37022\n",
       "Silver                          14894\n",
       "Black                           12438\n",
       "Grey                             9021\n",
       "Blue                             4297\n",
       "Green                            2064\n",
       "Red                              1971\n",
       "Gold                             1622\n",
       "Maroon                           1540\n",
       "Beige                            1046\n",
       "Metallic                          795\n",
       "Brown                             604\n",
       "Turquoise                         472\n",
       "Bronze                            427\n",
       "Navy                              292\n",
       "Pink                              269\n",
       "Unlisted                          238\n",
       "Indigo                            192\n",
       "Magneta                           177\n",
       "Purple                            148\n",
       "Yellow                            143\n",
       "Rose                              122\n",
       "Orange                            106\n",
       "Urban Titanium                     55\n",
       "Golden                             45\n",
       "Modern Steel                        8\n",
       "Lavender                            7\n",
       "P With                              5\n",
       "Pearl                               4\n",
       "Tea Pink                            4\n",
       "All                                 4\n",
       "Light Pink                          4\n",
       "Matalic                             4\n",
       "Urban Titanium                      4\n",
       "Peach                               3\n",
       "Smoke Gr                            3\n",
       "Aq Jade                             3\n",
       "Sand Biege                          2\n",
       "Two Tone                            2\n",
       "Graphite                            2\n",
       "Indica                              2\n",
       "Gary                                2\n",
       "None                                2\n",
       "Coffee                              2\n",
       "Angori                              2\n",
       "Metalic                             2\n",
       "Titanium                            2\n",
       "Other                               2\n",
       "Mist                                2\n",
       "Charcoal                            2\n",
       "Light Gold                          2\n",
       "Grinish                             2\n",
       "Sky                                 2\n",
       "Grenish                             2\n",
       "Light Purple                        2\n",
       "Panthera Metal                      2\n",
       "Cool Batch                          2\n",
       "All Colours                         2\n",
       "Mehndi Colour                       2\n",
       "Moonlight                           2\n",
       "Skin                                2\n",
       "Magenta                             2\n",
       "Unknown                             2\n",
       "Jade                                2\n",
       "Biscuit                             2\n",
       "All Colours Are Available           2\n",
       "Dark                                2\n",
       "Saloon                              2\n",
       "Urban Titinum                       2\n",
       "Dalmatalak                          1\n",
       "Mouse Couler                        1\n",
       "Light Orange Or Peach Color         1\n",
       "Gan Matelk                          1\n",
       "Genuine Colour                      1\n",
       "Pics                                1\n",
       "Peal Bule                           1\n",
       "Titanium                            1\n",
       "Ganmatlic                           1\n",
       "Double Sheet                        1\n",
       "Gan Matalik                         1\n",
       "Ross Matlk                          1\n",
       "Dark Gren                           1\n",
       "Levander                            1\n",
       "Cerulean B                          1\n",
       "بسکوٹی                              1\n",
       "Pearl Purple                        1\n",
       "Leith Mahande                       1\n",
       "Matlic Color                        1\n",
       "Urban Titenum                       1\n",
       "Army                                1\n",
       "Same As Picture                     1\n",
       "Two Toned Color                     1\n",
       "Bright                              1\n",
       "Matlic                              1\n",
       "Watch Pictures                      1\n",
       "Bhatti Colour                       1\n",
       "Pinc                                1\n",
       "Modern Steel Matelic                1\n",
       "Mica Dark                           1\n",
       "???                                 1\n",
       "Brawn                               1\n",
       "Chocolate Color                     1\n",
       "As Seen In The Pics                 1\n",
       "Trim                                1\n",
       "Sand Baige                          1\n",
       "Purple Lite                         1\n",
       "Char Coal                           1\n",
       "Shalimar Roze                       1\n",
       "Baby Pink                           1\n",
       "Rid Wien                            1\n",
       "Spacio                              1\n",
       "Arabian Titanium                    1\n",
       "Salon                               1\n",
       "Piyazi                              1\n",
       "Grips Gareen                        1\n",
       "Matellic Steel                      1\n",
       "Sea Gerrn                           1\n",
       "Carem                               1\n",
       "Cream Color                         1\n",
       "Smoke                               1\n",
       "Check Pictures                      1\n",
       "Sedan                               1\n",
       "Italic                              1\n",
       "Pentha Metal                        1\n",
       "All Colors Are Available            1\n",
       "Biscut                              1\n",
       "Ovals                               1\n",
       "Onion Color Type                    1\n",
       "Shalimar Stone                      1\n",
       "Beach Color                         1\n",
       "Ferozi                              1\n",
       "See In Pics                         1\n",
       "Fol Bage                            1\n",
       "Titania                             1\n",
       "Wite                                1\n",
       "Titanium Colour                     1\n",
       "Apky Samny                          1\n",
       "Penthra Metal                       1\n",
       "Careem                              1\n",
       "Angroi                              1\n",
       "Lavendar                            1\n",
       "Special Edition                     1\n",
       "Mehran                              1\n",
       "Modern Steel 22,85,                 1\n",
       "Not Defined                         1\n",
       "Matelic                             1\n",
       "Cooper Gold                         1\n",
       "Bronze Micca                        1\n",
       "Urban Titan                         1\n",
       "Metal Stream Met                    1\n",
       "Any Color Available                 1\n",
       "Family Used Car Good Looking        1\n",
       "Granite                             1\n",
       "Malti                               1\n",
       "Bhati Japani Color                  1\n",
       "Peral Wine                          1\n",
       "                                    1\n",
       "Sea Pearl                           1\n",
       "Outer Shawer Iner Jenean            1\n",
       "Modren Steel                        1\n",
       "Unkhown                             1\n",
       "Good                                1\n",
       "Mettalic Steel                      1\n",
       "Metalic F                           1\n",
       "Penthera Metal                      1\n",
       "Mehndi Color                        1\n",
       "Olive                               1\n",
       "Grapes Color                        1\n",
       "Polish Metalic                      1\n",
       "Peral                               1\n",
       "Bronze Mitallic                     1\n",
       "Titanium Mettallic                  1\n",
       "Cool Bebige                         1\n",
       "Pearl Colour                        1\n",
       "Urban Titnum                        1\n",
       "Urban Titenium                      1\n",
       "Cheku Colour                        1\n",
       "Purpal                              1\n",
       "Modern Steel Matlic                 1\n",
       "Bold Matalic Beig                   1\n",
       "Flexin Mica                         1\n",
       "As You Can See Pictures             1\n",
       "Dull Yellow                         1\n",
       "Arban Titenium                      1\n",
       "Lemon                               1\n",
       "Army Clr                            1\n",
       "Bage                                1\n",
       "Gan Matalik Garr                    1\n",
       "Sea Matalic                         1\n",
       "Voilet Metalic                      1\n",
       "Musterd                             1\n",
       "Metalic Cooper                      1\n",
       "Olive Mica                          1\n",
       "Tose Miss                           1\n",
       "Champion                            1\n",
       "Army Desert Color                   1\n",
       "Anthera Metal Color                 1\n",
       "Tee Pink                            1\n",
       "Copper Pink                         1\n",
       "As You Can See                      1\n",
       "Smoky Greeen                        1\n",
       "Smoke Garen                         1\n",
       "Gold Wight                          1\n",
       "Dorado Gold                         1\n",
       "Bule Mint                           1\n",
       "Levander                            1\n",
       "Lime Yellow                         1\n",
       "Palwheth                            1\n",
       "Mat Flax M                          1\n",
       "Foan                                1\n",
       "Lit Gareen                          1\n",
       "Boardox                             1\n",
       "Mustard                             1\n",
       "Urbantitanium                       1\n",
       "Lavander                            1\n",
       "Bronze Mica                         1\n",
       "Polish Metal Metalic                1\n",
       "Hvhhb                               1\n",
       "Shade                               1\n",
       "Goldan                              1\n",
       "Rich Espresso                       1\n",
       "Pearl Bedge                         1\n",
       "Mateluck                            1\n",
       "Tea Pink                            1\n",
       "No Idea                             1\n",
       "Metalic S                           1\n",
       "Bowla                               1\n",
       "Steel                               1\n",
       "Gr Vr Matl                          1\n",
       "Titanium Mettalic                   1\n",
       "Mandi Color                         1\n",
       "Sandbeig                            1\n",
       "Moigia Color                        1\n",
       "Grefite                             1\n",
       "S                                   1\n",
       "Evo                                 1\n",
       "Shalimar                            1\n",
       "Silwer                              1\n",
       "Ssss                                1\n",
       "Moonglow Pearl                      1\n",
       "Meca Bronze                         1\n",
       "Grin                                1\n",
       "Shown In Pix                        1\n",
       "Sliver                              1\n",
       "Light Yellow                        1\n",
       "Mustard                             1\n",
       "Abc                                 1\n",
       "Polish Matilic                      1\n",
       "Roz Mataiq                          1\n",
       "All Colours Available               1\n",
       "Urban                               1\n",
       "T                                   1\n",
       "Rust Orange                         1\n",
       "Surmai                              1\n",
       "Parl Wahit                          1\n",
       "Pearl Whte                          1\n",
       "Skye                                1\n",
       "Sand Gold                           1\n",
       "G                                   1\n",
       "Metallik                            1\n",
       "14/ 16                              1\n",
       "Yslr                                1\n",
       "Champagne                           1\n",
       "Copper                              1\n",
       "By6                                 1\n",
       "Camel                               1\n",
       "Nice                                1\n",
       "Defined                             1\n",
       "Sky                                 1\n",
       "Beig                                1\n",
       "Mehroon                             1\n",
       "Jerma Badge                         1\n",
       "Gm                                  1\n",
       "Arabic Matalic                      1\n",
       "Wine                                1\n",
       "R Metelic                           1\n",
       "Indica, Graphite                    1\n",
       "Surmayi                             1\n",
       "Flaxen Mica                         1\n",
       "Bluish Purple                       1\n",
       "Mande                               1\n",
       "Cream                               1\n",
       "B                                   1\n",
       "Moongia                             1\n",
       "Imported                            1\n",
       "Graphite Metalic                    1\n",
       "Vine                                1\n",
       "Sky Bue                             1\n",
       "Creem                               1\n",
       "Neon Glittery Yellow                1\n",
       "Shapain                             1\n",
       "Unlosted                            1\n",
       "Champagne                           1\n",
       "Sand Beigh                          1\n",
       "Creem Color                         1\n",
       "One Pis Tachinig                    1\n",
       "Gooldan                             1\n",
       "Multi                               1\n",
       "Name: Color, dtype: int64"
      ]
     },
     "execution_count": 421,
     "metadata": {},
     "output_type": "execute_result"
    }
   ],
   "source": [
    "df['Color'].value_counts()"
   ]
  },
  {
   "cell_type": "code",
   "execution_count": 449,
   "metadata": {},
   "outputs": [],
   "source": [
    "golden = ['Cooper Gold', 'Flexin Mica', 'Gold Wight','Dorado Gold','Goldan','Sand Gold','G','Gooldan','Flaxen Mica',\n",
    "         'Light Gold']\n",
    "beige = ['Sand Biege', 'Sand Baige','Cool Bebige', 'Bage','Pearl Bedge','Sandbeig','Beig','Jerma Badge','Sand Beigh']\n",
    "grey = ['Charcoal', 'Graphite', 'Mouse Couler','Rich Espresso','Grefite','Surmai', \n",
    "        'Indica, Graphite','Surmayi','Graphite Metalic', 'Smoke Gr', 'Gary','Italic','Sedan','Smoke']\n",
    "gun = ['Gan Matalik', 'Ganmatlic', 'Dalmatalak', 'Gan Matelk','Gan Matalik Garr']\n",
    "orange = ['Light Orange Or Peach Color', 'Rust Orange']\n",
    "rose = ['Ross Matlk', 'Shalimar Roze','Roz Mataiq']\n",
    "yellow = ['Dull Yellow', 'Lemon', 'Lime Yellow','Light Yellow','Neon Glittery Yellow']\n",
    "maroon = ['Boardox', 'Mehroon']\n",
    "silver = ['S','Silwer','Ssss','Sliver','Yslr','Yslr']\n",
    "red = ['Rid Wien','Peral Wine','Champagne','Wine','Vine','Sky Bue','Shapain','Champagne ']\n",
    "blue = ['Saloon', 'Cerulean B','Peal Bule','???','Trim','Spacio','Salon','Beach Color','Ferozi','Sea Pearl',\n",
    "       'Peral','Pearl Colour','Bule Mint','Shade','Mateluck','Moonglow Pearl','Abc','Skye ','By6','Sky','Sky ',\n",
    "       'Aq Jade']\n",
    "magenta = ['Magneta', 'Magenta','B']\n",
    "purple = ['Light Purple', 'Levander', 'Pearl Purple ','Purple Lite','Lavendar','Purpal','Voilet Metalic','Levander',\n",
    "         'Lavander','Bluish Purple','Lavender','Levander ']\n",
    "pink = ['P With', 'Tea Pink ', 'Light Pin','Pinc','Baby Pink','Piyazi','Onion Color Type','Tee Pink',\n",
    "       'Copper Pink','Tea Pink','Light Pink']\n",
    "brown = ['Coffee', 'Biscuit', 'Skin','بسکوٹی','Army ','Brawn','Bhatti Colour','Chocolate Colo','Char Coal',\n",
    "        'Biscut','Fol Bage','Bronze Micca','Malti','Bhati Japani Color','Cheku Colour', 'Army Clr',\n",
    "        'Musterd','Army Desert Color','Mat Flax M ','Foan', 'Mustard','Bronze Mica','Bowla','Meca Bronze',\n",
    "        'Copper','Camel','Chocolate Color','Evo','Cream', 'Creem Color', 'Peach', 'None', 'Indica','Mist','Creem',\n",
    "        'Mustard ','Cream Color','Carem','Careem', 'Camel ']\n",
    "green = ['Grinish', 'Mehndi Colour', 'Angori','Jade','Grenish', 'Dark Gren', 'Leith Mahande','Granite',\n",
    "        'Grips Gareen','Sea Gerrn','Angroi','Ovals','Mehndi Color','Olive','Grapes Color','Olive Mica',\n",
    "        'Smoky Greeen','Smoke Garen','Lit Gareen','Gr Vr Matl','Mandi Color','Moigia Color','Grin','Gm','Levander',\n",
    "        'Shalimar']\n",
    "black = ['Dark', 'Cool Batch','Mica Dark','Mande','Moongia','Shalimar Stone']\n",
    "metallic = ['Matalic', 'Panthera Metal', 'Metalic','Two Toned Color','Matlic','Matlic Color','Double Sheet',\n",
    "           'Penthra Metal','Pentha Metal','Modern Steel 22,85,','Matelic','Metal Stream Met','Modren Steel',\n",
    "           'Mettalic Steel','Metalic F','Penthera Metal','Polish Metalic','Modern Steel Matlic',\n",
    "           'Bold Matalic Beig', 'Sea Matalic', 'Metalic Cooper','Anthera Metal Color', 'Polish Metal Metalic',\n",
    "           'Polish Matilic','T','Bronze Mitallic','Metallik','R Metelic','Modern Steel','Modern Steel Matelic'\n",
    "            , 'Gun Metallic', 'Two Tone','Matellic Steel'] \n",
    "white = ['Pearl','All','Other','Moonlight','All Colours Are Availabl','Unknown','Genuine Colour', 'Pics',\n",
    "        'Same As Picture', 'Bright','Watch Pictures','As Seen In The Pics','Check Pictures',\n",
    "        'All Colors Are Available','See In Pics','Titania','Wite','Apky Samny','Special Edition',\n",
    "        'Mehran','Not Defined','Any Color Available','Family Used Car Good Looking',' ', \n",
    "         'Outer Shawer Iner Jenean','Unkhown','Good','As You Can See Pictures','Tose Miss','Champion',\n",
    "        'As You Can See','Palwheth','Hvhhb','No Idea','Metalic S','Steel','Shown In Pix','All Colours Available',\n",
    "        'Parl Wahit','Pearl Whte','14/ 16','Nice','Defined','Imported','One Pis Tachinig','Multi',\n",
    "        'All Colours Are Available','All Colours']\n",
    "urban =  ['Urban Titaniu', 'Titanium', 'Urban Titinum', 'Titanium', 'Urban Titenum','Arabian Titanium','Titanium Colour',\n",
    "'Urban Titan','Urban','Titanium Mettalli','Urban Titnum','Urban Titenium','Arban Titenium','Urbantitanium',\n",
    "'Titanium Mettalic ','Arabic Matalic','Titanium','Urban Titanium ','Titanium ','Urban ','Titanium Mettallic',\n",
    "         'Titanium Mettalic','Urban Titanium']"
   ]
  },
  {
   "cell_type": "code",
   "execution_count": 450,
   "metadata": {},
   "outputs": [],
   "source": [
    "colors = {tuple(golden):'Golden', tuple(beige) :'Beige', tuple(grey):'Grey', tuple(gun):'Gun Metallic', tuple(orange):'Orange',\n",
    "          tuple(rose):'Rose', tuple(yellow): 'Yellow', tuple(maroon):'Maroon', tuple(silver):'Silver',\n",
    "          tuple(red):'Red', tuple(blue):'Blue', tuple(magenta):'Magenta', tuple(purple):'Purple', \n",
    "          tuple(pink):'Pink', tuple(brown):'Brown',  tuple(green):'Green',  tuple(black):'Black', tuple(metallic):'Metallic', tuple(white):'White'\n",
    "          ,tuple(urban):'Urban Titanium'}\n",
    "\n",
    "for i in colors:\n",
    "#     print((i))\n",
    "    df['Color'].replace(i,colors[i], inplace=True)"
   ]
  },
  {
   "cell_type": "code",
   "execution_count": 451,
   "metadata": {},
   "outputs": [
    {
     "data": {
      "text/plain": [
       "White       37319\n",
       "Silver      14899\n",
       "Black       12446\n",
       "Grey         9040\n",
       "Blue         5087\n",
       "Brown        2133\n",
       "Green        2094\n",
       "Red          1979\n",
       "Gold         1678\n",
       "Maroon       1542\n",
       "Metallic      921\n",
       "Pink          594\n",
       "Purple        358\n",
       "Yellow        148\n",
       "Orange        108\n",
       "Name: Color, dtype: int64"
      ]
     },
     "execution_count": 451,
     "metadata": {},
     "output_type": "execute_result"
    }
   ],
   "source": [
    "df['Color'].value_counts()"
   ]
  },
  {
   "cell_type": "code",
   "execution_count": 452,
   "metadata": {},
   "outputs": [],
   "source": [
    "df['Color'].replace('Unlosted','Unlisted', inplace=True)"
   ]
  },
  {
   "cell_type": "code",
   "execution_count": 453,
   "metadata": {},
   "outputs": [],
   "source": [
    "df['Color'].replace('Unlisted','White', inplace=True)\n",
    "df['Color'].replace('Golden','Gold', inplace=True)\n",
    "df['Color'].replace('Beige','Brown', inplace=True)\n",
    "df['Color'].replace('Turquoise','Blue', inplace=True)\n",
    "df['Color'].replace('Navy','Blue', inplace=True)\n",
    "df['Color'].replace('Indigo','Purple', inplace=True)\n",
    "df['Color'].replace('Magenta','Pink', inplace=True)\n",
    "df['Color'].replace('Rose','Pink', inplace=True)\n",
    "df['Color'].replace('Bronze','Brown', inplace=True)\n",
    "\n",
    "\n",
    "df['Color'].replace('Urban Titanium','Metallic', inplace=True)\n"
   ]
  },
  {
   "cell_type": "code",
   "execution_count": 454,
   "metadata": {},
   "outputs": [
    {
     "data": {
      "text/plain": [
       "White       37319\n",
       "Silver      14899\n",
       "Black       12446\n",
       "Grey         9040\n",
       "Blue         5087\n",
       "Brown        2133\n",
       "Green        2094\n",
       "Red          1979\n",
       "Gold         1678\n",
       "Maroon       1542\n",
       "Metallic      921\n",
       "Pink          594\n",
       "Purple        358\n",
       "Yellow        148\n",
       "Orange        108\n",
       "Name: Color, dtype: int64"
      ]
     },
     "execution_count": 454,
     "metadata": {},
     "output_type": "execute_result"
    }
   ],
   "source": [
    "df['Color'].value_counts()"
   ]
  },
  {
   "cell_type": "code",
   "execution_count": 455,
   "metadata": {},
   "outputs": [
    {
     "name": "stdout",
     "output_type": "stream",
     "text": [
      "['Petrol' 'Diesel' 'Hybrid' 'CNG' 'Electric' 'Lpg']\n",
      "['Automatic' 'Manual']\n",
      "['White' 'Black' 'Blue' 'Grey' 'Silver' 'Green' 'Red' 'Gold' 'Brown'\n",
      " 'Pink' 'Maroon' 'Metallic' 'Purple' 'Orange' 'Yellow']\n",
      "['Imported' 'Local']\n",
      "['Sedan' 'Hatchback' 'SUV' 'Mini Van' 'Pick Up' 'Crossover' 'MPV' 'Coupe'\n",
      " 'Compact sedan' 'Compact SUV' 'Double Cabin' 'Station Wagon' 'Van'\n",
      " 'Subcompact hatchback' 'Micro Van' 'High Roof' 'Single Cabin' 'Pickup'\n",
      " 'Mini Vehicles' 'Off-Road Vehicles' 'Convertible' 'Truck' 'Unknown']\n",
      "['Excellent' 'Very Good' 'Good' 'Fair' 'Poor']\n"
     ]
    }
   ],
   "source": [
    "print(df['Fuel_Type'].unique())\n",
    "print(df['Transmission'].unique())\n",
    "print(df['Color'].unique())\n",
    "print(df['Assembly'].unique())\n",
    "print(df['Body_Type'].unique())\n",
    "print(df['Condition'].unique())"
   ]
  },
  {
   "cell_type": "code",
   "execution_count": 456,
   "metadata": {},
   "outputs": [
    {
     "data": {
      "text/html": [
       "<div>\n",
       "<style scoped>\n",
       "    .dataframe tbody tr th:only-of-type {\n",
       "        vertical-align: middle;\n",
       "    }\n",
       "\n",
       "    .dataframe tbody tr th {\n",
       "        vertical-align: top;\n",
       "    }\n",
       "\n",
       "    .dataframe thead th {\n",
       "        text-align: right;\n",
       "    }\n",
       "</style>\n",
       "<table border=\"1\" class=\"dataframe\">\n",
       "  <thead>\n",
       "    <tr style=\"text-align: right;\">\n",
       "      <th></th>\n",
       "      <th>Make</th>\n",
       "      <th>Model</th>\n",
       "      <th>Model_Year</th>\n",
       "      <th>Fuel_Type</th>\n",
       "      <th>Transmission</th>\n",
       "      <th>Engine_Capacity(cc)</th>\n",
       "      <th>Kms_Driven</th>\n",
       "      <th>Color</th>\n",
       "      <th>Assembly</th>\n",
       "      <th>Body_Type</th>\n",
       "      <th>Price</th>\n",
       "      <th>Capacity_KWh</th>\n",
       "      <th>Condition</th>\n",
       "    </tr>\n",
       "  </thead>\n",
       "  <tbody>\n",
       "    <tr>\n",
       "      <th>0</th>\n",
       "      <td>Audi</td>\n",
       "      <td>A3</td>\n",
       "      <td>2016</td>\n",
       "      <td>Petrol</td>\n",
       "      <td>Automatic</td>\n",
       "      <td>1200</td>\n",
       "      <td>45000</td>\n",
       "      <td>White</td>\n",
       "      <td>Imported</td>\n",
       "      <td>Sedan</td>\n",
       "      <td>6125000</td>\n",
       "      <td>0.0</td>\n",
       "      <td>Excellent</td>\n",
       "    </tr>\n",
       "    <tr>\n",
       "      <th>1</th>\n",
       "      <td>Audi</td>\n",
       "      <td>A4</td>\n",
       "      <td>2017</td>\n",
       "      <td>Petrol</td>\n",
       "      <td>Automatic</td>\n",
       "      <td>1400</td>\n",
       "      <td>42000</td>\n",
       "      <td>Black</td>\n",
       "      <td>Imported</td>\n",
       "      <td>Sedan</td>\n",
       "      <td>8700000</td>\n",
       "      <td>0.0</td>\n",
       "      <td>Excellent</td>\n",
       "    </tr>\n",
       "    <tr>\n",
       "      <th>2</th>\n",
       "      <td>Audi</td>\n",
       "      <td>A5</td>\n",
       "      <td>2018</td>\n",
       "      <td>Petrol</td>\n",
       "      <td>Automatic</td>\n",
       "      <td>1400</td>\n",
       "      <td>18000</td>\n",
       "      <td>White</td>\n",
       "      <td>Local</td>\n",
       "      <td>Sedan</td>\n",
       "      <td>12400000</td>\n",
       "      <td>0.0</td>\n",
       "      <td>Excellent</td>\n",
       "    </tr>\n",
       "    <tr>\n",
       "      <th>3</th>\n",
       "      <td>Audi</td>\n",
       "      <td>A5</td>\n",
       "      <td>2018</td>\n",
       "      <td>Petrol</td>\n",
       "      <td>Automatic</td>\n",
       "      <td>1400</td>\n",
       "      <td>25000</td>\n",
       "      <td>Blue</td>\n",
       "      <td>Local</td>\n",
       "      <td>Sedan</td>\n",
       "      <td>12200000</td>\n",
       "      <td>0.0</td>\n",
       "      <td>Excellent</td>\n",
       "    </tr>\n",
       "    <tr>\n",
       "      <th>4</th>\n",
       "      <td>Audi</td>\n",
       "      <td>A6</td>\n",
       "      <td>2015</td>\n",
       "      <td>Petrol</td>\n",
       "      <td>Automatic</td>\n",
       "      <td>1800</td>\n",
       "      <td>57000</td>\n",
       "      <td>Grey</td>\n",
       "      <td>Local</td>\n",
       "      <td>Sedan</td>\n",
       "      <td>9750000</td>\n",
       "      <td>0.0</td>\n",
       "      <td>Excellent</td>\n",
       "    </tr>\n",
       "  </tbody>\n",
       "</table>\n",
       "</div>"
      ],
      "text/plain": [
       "   Make Model  Model_Year Fuel_Type Transmission  Engine_Capacity(cc)  \\\n",
       "0  Audi    A3        2016    Petrol    Automatic                 1200   \n",
       "1  Audi    A4        2017    Petrol    Automatic                 1400   \n",
       "2  Audi    A5        2018    Petrol    Automatic                 1400   \n",
       "3  Audi    A5        2018    Petrol    Automatic                 1400   \n",
       "4  Audi    A6        2015    Petrol    Automatic                 1800   \n",
       "\n",
       "   Kms_Driven  Color  Assembly Body_Type     Price  Capacity_KWh  Condition  \n",
       "0       45000  White  Imported     Sedan   6125000           0.0  Excellent  \n",
       "1       42000  Black  Imported     Sedan   8700000           0.0  Excellent  \n",
       "2       18000  White     Local     Sedan  12400000           0.0  Excellent  \n",
       "3       25000   Blue     Local     Sedan  12200000           0.0  Excellent  \n",
       "4       57000   Grey     Local     Sedan   9750000           0.0  Excellent  "
      ]
     },
     "execution_count": 456,
     "metadata": {},
     "output_type": "execute_result"
    }
   ],
   "source": [
    "df.head()"
   ]
  },
  {
   "cell_type": "code",
   "execution_count": 1355,
   "metadata": {},
   "outputs": [],
   "source": [
    "df= pd.read_csv('Cleaned2.csv')"
   ]
  },
  {
   "cell_type": "markdown",
   "metadata": {
    "papermill": {
     "duration": 0.024834,
     "end_time": "2021-05-05T13:27:09.504102",
     "exception": false,
     "start_time": "2021-05-05T13:27:09.479268",
     "status": "completed"
    },
    "tags": []
   },
   "source": [
    "## Data Preparation"
   ]
  },
  {
   "cell_type": "code",
   "execution_count": 1360,
   "metadata": {
    "execution": {
     "iopub.execute_input": "2021-05-05T13:27:09.931655Z",
     "iopub.status.busy": "2021-05-05T13:27:09.930828Z",
     "iopub.status.idle": "2021-05-05T13:27:09.935583Z",
     "shell.execute_reply": "2021-05-05T13:27:09.935021Z"
    },
    "papermill": {
     "duration": 0.036064,
     "end_time": "2021-05-05T13:27:09.935749",
     "exception": false,
     "start_time": "2021-05-05T13:27:09.899685",
     "status": "completed"
    },
    "tags": []
   },
   "outputs": [
    {
     "data": {
      "text/plain": [
       "(90346, 13)"
      ]
     },
     "execution_count": 1360,
     "metadata": {},
     "output_type": "execute_result"
    }
   ],
   "source": [
    "df.shape"
   ]
  },
  {
   "cell_type": "code",
   "execution_count": 1361,
   "metadata": {},
   "outputs": [
    {
     "data": {
      "text/plain": [
       "110000000"
      ]
     },
     "execution_count": 1361,
     "metadata": {},
     "output_type": "execute_result"
    }
   ],
   "source": [
    "df['Price'].max()"
   ]
  },
  {
   "cell_type": "code",
   "execution_count": 1362,
   "metadata": {},
   "outputs": [
    {
     "data": {
      "text/plain": [
       "75000"
      ]
     },
     "execution_count": 1362,
     "metadata": {},
     "output_type": "execute_result"
    }
   ],
   "source": [
    "df['Price'].min()"
   ]
  },
  {
   "cell_type": "code",
   "execution_count": 1363,
   "metadata": {},
   "outputs": [
    {
     "data": {
      "text/plain": [
       "<AxesSubplot:xlabel='Price', ylabel='Count'>"
      ]
     },
     "execution_count": 1363,
     "metadata": {},
     "output_type": "execute_result"
    },
    {
     "data": {
      "image/png": "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\n",
      "text/plain": [
       "<Figure size 1080x720 with 1 Axes>"
      ]
     },
     "metadata": {},
     "output_type": "display_data"
    }
   ],
   "source": [
    "plt.figure(figsize=(15,10))\n",
    "sns.histplot(x='Price',data=df, kde=True )"
   ]
  },
  {
   "cell_type": "code",
   "execution_count": 1364,
   "metadata": {},
   "outputs": [
    {
     "name": "stdout",
     "output_type": "stream",
     "text": [
      "75000\n",
      "1650000.0\n",
      "110000000\n"
     ]
    }
   ],
   "source": [
    "print(df['Price'].min())\n",
    "print(df['Price'].median())\n",
    "print(df['Price'].max())"
   ]
  },
  {
   "cell_type": "code",
   "execution_count": 1365,
   "metadata": {},
   "outputs": [],
   "source": [
    "pd.options.display.max_rows = False"
   ]
  },
  {
   "cell_type": "code",
   "execution_count": 1366,
   "metadata": {},
   "outputs": [
    {
     "data": {
      "text/html": [
       "<div>\n",
       "<style scoped>\n",
       "    .dataframe tbody tr th:only-of-type {\n",
       "        vertical-align: middle;\n",
       "    }\n",
       "\n",
       "    .dataframe tbody tr th {\n",
       "        vertical-align: top;\n",
       "    }\n",
       "\n",
       "    .dataframe thead th {\n",
       "        text-align: right;\n",
       "    }\n",
       "</style>\n",
       "<table border=\"1\" class=\"dataframe\">\n",
       "  <thead>\n",
       "    <tr style=\"text-align: right;\">\n",
       "      <th></th>\n",
       "      <th>Make</th>\n",
       "      <th>Model</th>\n",
       "      <th>Model_Year</th>\n",
       "      <th>Fuel_Type</th>\n",
       "      <th>Transmission</th>\n",
       "      <th>Engine_Capacity(cc)</th>\n",
       "      <th>Kms_Driven</th>\n",
       "      <th>Color</th>\n",
       "      <th>Assembly</th>\n",
       "      <th>Body_Type</th>\n",
       "      <th>Price</th>\n",
       "      <th>Capacity_KWh</th>\n",
       "      <th>Condition</th>\n",
       "    </tr>\n",
       "  </thead>\n",
       "  <tbody>\n",
       "    <tr>\n",
       "      <th>21473</th>\n",
       "      <td>Lexus</td>\n",
       "      <td>LX Series</td>\n",
       "      <td>2020</td>\n",
       "      <td>Petrol</td>\n",
       "      <td>Automatic</td>\n",
       "      <td>5663</td>\n",
       "      <td>10000</td>\n",
       "      <td>Black</td>\n",
       "      <td>Imported</td>\n",
       "      <td>SUV</td>\n",
       "      <td>95000000</td>\n",
       "      <td>0.0</td>\n",
       "      <td>Good</td>\n",
       "    </tr>\n",
       "    <tr>\n",
       "      <th>21596</th>\n",
       "      <td>Lexus</td>\n",
       "      <td>LX Series</td>\n",
       "      <td>2020</td>\n",
       "      <td>Petrol</td>\n",
       "      <td>Automatic</td>\n",
       "      <td>5700</td>\n",
       "      <td>16</td>\n",
       "      <td>Black</td>\n",
       "      <td>Imported</td>\n",
       "      <td>SUV</td>\n",
       "      <td>87500000</td>\n",
       "      <td>0.0</td>\n",
       "      <td>Good</td>\n",
       "    </tr>\n",
       "    <tr>\n",
       "      <th>36007</th>\n",
       "      <td>Nissan</td>\n",
       "      <td>GT-R</td>\n",
       "      <td>2020</td>\n",
       "      <td>Petrol</td>\n",
       "      <td>Automatic</td>\n",
       "      <td>3800</td>\n",
       "      <td>6700</td>\n",
       "      <td>White</td>\n",
       "      <td>Imported</td>\n",
       "      <td>Coupe</td>\n",
       "      <td>72000000</td>\n",
       "      <td>0.0</td>\n",
       "      <td>Good</td>\n",
       "    </tr>\n",
       "    <tr>\n",
       "      <th>56044</th>\n",
       "      <td>Mercedes Benz</td>\n",
       "      <td>G Class</td>\n",
       "      <td>2019</td>\n",
       "      <td>Petrol</td>\n",
       "      <td>Automatic</td>\n",
       "      <td>4000</td>\n",
       "      <td>25000</td>\n",
       "      <td>Black</td>\n",
       "      <td>Imported</td>\n",
       "      <td>SUV</td>\n",
       "      <td>110000000</td>\n",
       "      <td>0.0</td>\n",
       "      <td>Good</td>\n",
       "    </tr>\n",
       "  </tbody>\n",
       "</table>\n",
       "</div>"
      ],
      "text/plain": [
       "                Make      Model  Model_Year Fuel_Type Transmission  \\\n",
       "21473          Lexus  LX Series        2020    Petrol    Automatic   \n",
       "21596          Lexus  LX Series        2020    Petrol    Automatic   \n",
       "36007         Nissan       GT-R        2020    Petrol    Automatic   \n",
       "56044  Mercedes Benz    G Class        2019    Petrol    Automatic   \n",
       "\n",
       "       Engine_Capacity(cc)  Kms_Driven  Color  Assembly Body_Type      Price  \\\n",
       "21473                 5663       10000  Black  Imported       SUV   95000000   \n",
       "21596                 5700          16  Black  Imported       SUV   87500000   \n",
       "36007                 3800        6700  White  Imported     Coupe   72000000   \n",
       "56044                 4000       25000  Black  Imported       SUV  110000000   \n",
       "\n",
       "       Capacity_KWh Condition  \n",
       "21473           0.0      Good  \n",
       "21596           0.0      Good  \n",
       "36007           0.0      Good  \n",
       "56044           0.0      Good  "
      ]
     },
     "execution_count": 1366,
     "metadata": {},
     "output_type": "execute_result"
    }
   ],
   "source": [
    "df[df['Price'] > 70000000]"
   ]
  },
  {
   "cell_type": "code",
   "execution_count": 1367,
   "metadata": {},
   "outputs": [
    {
     "data": {
      "text/plain": [
       "<AxesSubplot:xlabel='Price'>"
      ]
     },
     "execution_count": 1367,
     "metadata": {},
     "output_type": "execute_result"
    },
    {
     "data": {
      "image/png": "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\n",
      "text/plain": [
       "<Figure size 1080x432 with 1 Axes>"
      ]
     },
     "metadata": {},
     "output_type": "display_data"
    }
   ],
   "source": [
    "plt.figure(figsize=(15,6))\n",
    "sns.set_theme(style=\"whitegrid\")\n",
    "sns.boxplot(x= df['Price'])"
   ]
  },
  {
   "cell_type": "code",
   "execution_count": 1368,
   "metadata": {},
   "outputs": [
    {
     "data": {
      "text/html": [
       "<div>\n",
       "<style scoped>\n",
       "    .dataframe tbody tr th:only-of-type {\n",
       "        vertical-align: middle;\n",
       "    }\n",
       "\n",
       "    .dataframe tbody tr th {\n",
       "        vertical-align: top;\n",
       "    }\n",
       "\n",
       "    .dataframe thead th {\n",
       "        text-align: right;\n",
       "    }\n",
       "</style>\n",
       "<table border=\"1\" class=\"dataframe\">\n",
       "  <thead>\n",
       "    <tr style=\"text-align: right;\">\n",
       "      <th></th>\n",
       "      <th>Make</th>\n",
       "      <th>Model</th>\n",
       "      <th>Model_Year</th>\n",
       "      <th>Fuel_Type</th>\n",
       "      <th>Transmission</th>\n",
       "      <th>Engine_Capacity(cc)</th>\n",
       "      <th>Kms_Driven</th>\n",
       "      <th>Color</th>\n",
       "      <th>Assembly</th>\n",
       "      <th>Body_Type</th>\n",
       "      <th>Price_x</th>\n",
       "      <th>Condition</th>\n",
       "      <th>Price_y</th>\n",
       "    </tr>\n",
       "  </thead>\n",
       "  <tbody>\n",
       "    <tr>\n",
       "      <th>0</th>\n",
       "      <td>Audi</td>\n",
       "      <td>A3</td>\n",
       "      <td>2016</td>\n",
       "      <td>Petrol</td>\n",
       "      <td>Automatic</td>\n",
       "      <td>1200</td>\n",
       "      <td>45000</td>\n",
       "      <td>White</td>\n",
       "      <td>Imported</td>\n",
       "      <td>Sedan</td>\n",
       "      <td>6125000</td>\n",
       "      <td>Excellent</td>\n",
       "      <td>5.686475e+06</td>\n",
       "    </tr>\n",
       "    <tr>\n",
       "      <th>1</th>\n",
       "      <td>Audi</td>\n",
       "      <td>A4</td>\n",
       "      <td>2017</td>\n",
       "      <td>Petrol</td>\n",
       "      <td>Automatic</td>\n",
       "      <td>1400</td>\n",
       "      <td>42000</td>\n",
       "      <td>Black</td>\n",
       "      <td>Imported</td>\n",
       "      <td>Sedan</td>\n",
       "      <td>8700000</td>\n",
       "      <td>Excellent</td>\n",
       "      <td>7.448354e+06</td>\n",
       "    </tr>\n",
       "    <tr>\n",
       "      <th>2</th>\n",
       "      <td>Audi</td>\n",
       "      <td>A5</td>\n",
       "      <td>2018</td>\n",
       "      <td>Petrol</td>\n",
       "      <td>Automatic</td>\n",
       "      <td>1400</td>\n",
       "      <td>18000</td>\n",
       "      <td>White</td>\n",
       "      <td>Local</td>\n",
       "      <td>Sedan</td>\n",
       "      <td>12400000</td>\n",
       "      <td>Excellent</td>\n",
       "      <td>1.125435e+07</td>\n",
       "    </tr>\n",
       "    <tr>\n",
       "      <th>3</th>\n",
       "      <td>Audi</td>\n",
       "      <td>A5</td>\n",
       "      <td>2018</td>\n",
       "      <td>Petrol</td>\n",
       "      <td>Automatic</td>\n",
       "      <td>1400</td>\n",
       "      <td>25000</td>\n",
       "      <td>Blue</td>\n",
       "      <td>Local</td>\n",
       "      <td>Sedan</td>\n",
       "      <td>12200000</td>\n",
       "      <td>Excellent</td>\n",
       "      <td>1.125435e+07</td>\n",
       "    </tr>\n",
       "    <tr>\n",
       "      <th>4</th>\n",
       "      <td>Audi</td>\n",
       "      <td>A6</td>\n",
       "      <td>2015</td>\n",
       "      <td>Petrol</td>\n",
       "      <td>Automatic</td>\n",
       "      <td>1800</td>\n",
       "      <td>57000</td>\n",
       "      <td>Grey</td>\n",
       "      <td>Local</td>\n",
       "      <td>Sedan</td>\n",
       "      <td>9750000</td>\n",
       "      <td>Excellent</td>\n",
       "      <td>1.148882e+07</td>\n",
       "    </tr>\n",
       "  </tbody>\n",
       "</table>\n",
       "</div>"
      ],
      "text/plain": [
       "   Make Model  Model_Year Fuel_Type Transmission  Engine_Capacity(cc)  \\\n",
       "0  Audi    A3        2016    Petrol    Automatic                 1200   \n",
       "1  Audi    A4        2017    Petrol    Automatic                 1400   \n",
       "2  Audi    A5        2018    Petrol    Automatic                 1400   \n",
       "3  Audi    A5        2018    Petrol    Automatic                 1400   \n",
       "4  Audi    A6        2015    Petrol    Automatic                 1800   \n",
       "\n",
       "   Kms_Driven  Color  Assembly Body_Type   Price_x  Condition       Price_y  \n",
       "0       45000  White  Imported     Sedan   6125000  Excellent  5.686475e+06  \n",
       "1       42000  Black  Imported     Sedan   8700000  Excellent  7.448354e+06  \n",
       "2       18000  White     Local     Sedan  12400000  Excellent  1.125435e+07  \n",
       "3       25000   Blue     Local     Sedan  12200000  Excellent  1.125435e+07  \n",
       "4       57000   Grey     Local     Sedan   9750000  Excellent  1.148882e+07  "
      ]
     },
     "execution_count": 1368,
     "metadata": {},
     "output_type": "execute_result"
    }
   ],
   "source": [
    "data_new.head()"
   ]
  },
  {
   "cell_type": "code",
   "execution_count": 1370,
   "metadata": {},
   "outputs": [
    {
     "data": {
      "text/html": [
       "<div>\n",
       "<style scoped>\n",
       "    .dataframe tbody tr th:only-of-type {\n",
       "        vertical-align: middle;\n",
       "    }\n",
       "\n",
       "    .dataframe tbody tr th {\n",
       "        vertical-align: top;\n",
       "    }\n",
       "\n",
       "    .dataframe thead th {\n",
       "        text-align: right;\n",
       "    }\n",
       "</style>\n",
       "<table border=\"1\" class=\"dataframe\">\n",
       "  <thead>\n",
       "    <tr style=\"text-align: right;\">\n",
       "      <th></th>\n",
       "      <th>Make</th>\n",
       "      <th>Model</th>\n",
       "      <th>Model_Year</th>\n",
       "      <th>Fuel_Type</th>\n",
       "      <th>Transmission</th>\n",
       "      <th>Engine_Capacity(cc)</th>\n",
       "      <th>Kms_Driven</th>\n",
       "      <th>Color</th>\n",
       "      <th>Assembly</th>\n",
       "      <th>Body_Type</th>\n",
       "      <th>Price</th>\n",
       "      <th>Capacity_KWh</th>\n",
       "      <th>Condition</th>\n",
       "    </tr>\n",
       "  </thead>\n",
       "  <tbody>\n",
       "    <tr>\n",
       "      <th>0</th>\n",
       "      <td>Audi</td>\n",
       "      <td>A3</td>\n",
       "      <td>2016</td>\n",
       "      <td>Petrol</td>\n",
       "      <td>Automatic</td>\n",
       "      <td>1200</td>\n",
       "      <td>45000</td>\n",
       "      <td>White</td>\n",
       "      <td>Imported</td>\n",
       "      <td>Sedan</td>\n",
       "      <td>6125000</td>\n",
       "      <td>0.0</td>\n",
       "      <td>Excellent</td>\n",
       "    </tr>\n",
       "    <tr>\n",
       "      <th>1</th>\n",
       "      <td>Audi</td>\n",
       "      <td>A4</td>\n",
       "      <td>2017</td>\n",
       "      <td>Petrol</td>\n",
       "      <td>Automatic</td>\n",
       "      <td>1400</td>\n",
       "      <td>42000</td>\n",
       "      <td>Black</td>\n",
       "      <td>Imported</td>\n",
       "      <td>Sedan</td>\n",
       "      <td>8700000</td>\n",
       "      <td>0.0</td>\n",
       "      <td>Excellent</td>\n",
       "    </tr>\n",
       "    <tr>\n",
       "      <th>2</th>\n",
       "      <td>Audi</td>\n",
       "      <td>A5</td>\n",
       "      <td>2018</td>\n",
       "      <td>Petrol</td>\n",
       "      <td>Automatic</td>\n",
       "      <td>1400</td>\n",
       "      <td>18000</td>\n",
       "      <td>White</td>\n",
       "      <td>Local</td>\n",
       "      <td>Sedan</td>\n",
       "      <td>12400000</td>\n",
       "      <td>0.0</td>\n",
       "      <td>Excellent</td>\n",
       "    </tr>\n",
       "    <tr>\n",
       "      <th>3</th>\n",
       "      <td>Audi</td>\n",
       "      <td>A5</td>\n",
       "      <td>2018</td>\n",
       "      <td>Petrol</td>\n",
       "      <td>Automatic</td>\n",
       "      <td>1400</td>\n",
       "      <td>25000</td>\n",
       "      <td>Blue</td>\n",
       "      <td>Local</td>\n",
       "      <td>Sedan</td>\n",
       "      <td>12200000</td>\n",
       "      <td>0.0</td>\n",
       "      <td>Excellent</td>\n",
       "    </tr>\n",
       "    <tr>\n",
       "      <th>4</th>\n",
       "      <td>Audi</td>\n",
       "      <td>A6</td>\n",
       "      <td>2015</td>\n",
       "      <td>Petrol</td>\n",
       "      <td>Automatic</td>\n",
       "      <td>1800</td>\n",
       "      <td>57000</td>\n",
       "      <td>Grey</td>\n",
       "      <td>Local</td>\n",
       "      <td>Sedan</td>\n",
       "      <td>9750000</td>\n",
       "      <td>0.0</td>\n",
       "      <td>Excellent</td>\n",
       "    </tr>\n",
       "  </tbody>\n",
       "</table>\n",
       "</div>"
      ],
      "text/plain": [
       "   Make Model  Model_Year Fuel_Type Transmission  Engine_Capacity(cc)  \\\n",
       "0  Audi    A3        2016    Petrol    Automatic                 1200   \n",
       "1  Audi    A4        2017    Petrol    Automatic                 1400   \n",
       "2  Audi    A5        2018    Petrol    Automatic                 1400   \n",
       "3  Audi    A5        2018    Petrol    Automatic                 1400   \n",
       "4  Audi    A6        2015    Petrol    Automatic                 1800   \n",
       "\n",
       "   Kms_Driven  Color  Assembly Body_Type     Price  Capacity_KWh  Condition  \n",
       "0       45000  White  Imported     Sedan   6125000           0.0  Excellent  \n",
       "1       42000  Black  Imported     Sedan   8700000           0.0  Excellent  \n",
       "2       18000  White     Local     Sedan  12400000           0.0  Excellent  \n",
       "3       25000   Blue     Local     Sedan  12200000           0.0  Excellent  \n",
       "4       57000   Grey     Local     Sedan   9750000           0.0  Excellent  "
      ]
     },
     "execution_count": 1370,
     "metadata": {},
     "output_type": "execute_result"
    }
   ],
   "source": [
    "df.head()"
   ]
  },
  {
   "cell_type": "code",
   "execution_count": 1373,
   "metadata": {
    "execution": {
     "iopub.execute_input": "2021-05-05T13:27:10.177371Z",
     "iopub.status.busy": "2021-05-05T13:27:10.176729Z",
     "iopub.status.idle": "2021-05-05T13:27:10.181461Z",
     "shell.execute_reply": "2021-05-05T13:27:10.181995Z"
    },
    "papermill": {
     "duration": 0.035293,
     "end_time": "2021-05-05T13:27:10.182183",
     "exception": false,
     "start_time": "2021-05-05T13:27:10.146890",
     "status": "completed"
    },
    "tags": []
   },
   "outputs": [],
   "source": [
    "df.drop(['Make', 'Model'], axis=1,  inplace=True)"
   ]
  },
  {
   "cell_type": "code",
   "execution_count": 1374,
   "metadata": {},
   "outputs": [],
   "source": [
    "check_df = df.copy()"
   ]
  },
  {
   "cell_type": "code",
   "execution_count": 1375,
   "metadata": {},
   "outputs": [
    {
     "data": {
      "text/plain": [
       "Sedan                   37434\n",
       "Hatchback               33250\n",
       "SUV                      7114\n",
       "Mini Van                 2545\n",
       "Crossover                2202\n",
       "Van                      1856\n",
       "Micro Van                1283\n",
       "Double Cabin              946\n",
       "Pick Up                   932\n",
       "MPV                       750\n",
       "Station Wagon             707\n",
       "Unknown                   343\n",
       "Compact SUV               247\n",
       "Single Cabin              222\n",
       "Coupe                     152\n",
       "High Roof                 103\n",
       "Off-Road Vehicles          99\n",
       "Subcompact hatchback       61\n",
       "Pickup                     41\n",
       "Compact sedan              27\n",
       "Convertible                21\n",
       "Mini Vehicles               7\n",
       "Truck                       4\n",
       "Name: Body_Type, dtype: int64"
      ]
     },
     "execution_count": 1375,
     "metadata": {},
     "output_type": "execute_result"
    }
   ],
   "source": [
    "check_df['Body_Type'].value_counts()"
   ]
  },
  {
   "cell_type": "code",
   "execution_count": 1376,
   "metadata": {},
   "outputs": [
    {
     "name": "stdout",
     "output_type": "stream",
     "text": [
      "<class 'pandas.core.frame.DataFrame'>\n",
      "RangeIndex: 90346 entries, 0 to 90345\n",
      "Data columns (total 11 columns):\n",
      " #   Column               Non-Null Count  Dtype  \n",
      "---  ------               --------------  -----  \n",
      " 0   Model_Year           90346 non-null  int64  \n",
      " 1   Fuel_Type            90346 non-null  object \n",
      " 2   Transmission         90346 non-null  object \n",
      " 3   Engine_Capacity(cc)  90346 non-null  int64  \n",
      " 4   Kms_Driven           90346 non-null  int64  \n",
      " 5   Color                90346 non-null  object \n",
      " 6   Assembly             90346 non-null  object \n",
      " 7   Body_Type            90346 non-null  object \n",
      " 8   Price                90346 non-null  int64  \n",
      " 9   Capacity_KWh         90346 non-null  float64\n",
      " 10  Condition            90346 non-null  object \n",
      "dtypes: float64(1), int64(4), object(6)\n",
      "memory usage: 7.6+ MB\n"
     ]
    }
   ],
   "source": [
    "df.info()"
   ]
  },
  {
   "cell_type": "code",
   "execution_count": 1380,
   "metadata": {},
   "outputs": [
    {
     "data": {
      "text/plain": [
       "Index(['Fuel_Type', 'Transmission', 'Color', 'Assembly', 'Body_Type',\n",
       "       'Condition'],\n",
       "      dtype='object')"
      ]
     },
     "execution_count": 1380,
     "metadata": {},
     "output_type": "execute_result"
    }
   ],
   "source": [
    "obj_col = df.select_dtypes(object).columns\n",
    "obj_col"
   ]
  },
  {
   "cell_type": "code",
   "execution_count": 1381,
   "metadata": {},
   "outputs": [],
   "source": [
    "df[obj_col] = df[obj_col].astype('category')"
   ]
  },
  {
   "cell_type": "code",
   "execution_count": 1382,
   "metadata": {},
   "outputs": [],
   "source": [
    "for i in obj_col:\n",
    "    df[i] = df[i].cat.codes"
   ]
  },
  {
   "cell_type": "code",
   "execution_count": 1383,
   "metadata": {},
   "outputs": [
    {
     "data": {
      "text/html": [
       "<div>\n",
       "<style scoped>\n",
       "    .dataframe tbody tr th:only-of-type {\n",
       "        vertical-align: middle;\n",
       "    }\n",
       "\n",
       "    .dataframe tbody tr th {\n",
       "        vertical-align: top;\n",
       "    }\n",
       "\n",
       "    .dataframe thead th {\n",
       "        text-align: right;\n",
       "    }\n",
       "</style>\n",
       "<table border=\"1\" class=\"dataframe\">\n",
       "  <thead>\n",
       "    <tr style=\"text-align: right;\">\n",
       "      <th></th>\n",
       "      <th>Model_Year</th>\n",
       "      <th>Fuel_Type</th>\n",
       "      <th>Transmission</th>\n",
       "      <th>Engine_Capacity(cc)</th>\n",
       "      <th>Kms_Driven</th>\n",
       "      <th>Color</th>\n",
       "      <th>Assembly</th>\n",
       "      <th>Body_Type</th>\n",
       "      <th>Price</th>\n",
       "      <th>Capacity_KWh</th>\n",
       "      <th>Condition</th>\n",
       "    </tr>\n",
       "  </thead>\n",
       "  <tbody>\n",
       "    <tr>\n",
       "      <th>0</th>\n",
       "      <td>2016</td>\n",
       "      <td>5</td>\n",
       "      <td>0</td>\n",
       "      <td>1200</td>\n",
       "      <td>45000</td>\n",
       "      <td>13</td>\n",
       "      <td>0</td>\n",
       "      <td>16</td>\n",
       "      <td>6125000</td>\n",
       "      <td>0.0</td>\n",
       "      <td>0</td>\n",
       "    </tr>\n",
       "    <tr>\n",
       "      <th>1</th>\n",
       "      <td>2017</td>\n",
       "      <td>5</td>\n",
       "      <td>0</td>\n",
       "      <td>1400</td>\n",
       "      <td>42000</td>\n",
       "      <td>0</td>\n",
       "      <td>0</td>\n",
       "      <td>16</td>\n",
       "      <td>8700000</td>\n",
       "      <td>0.0</td>\n",
       "      <td>0</td>\n",
       "    </tr>\n",
       "    <tr>\n",
       "      <th>2</th>\n",
       "      <td>2018</td>\n",
       "      <td>5</td>\n",
       "      <td>0</td>\n",
       "      <td>1400</td>\n",
       "      <td>18000</td>\n",
       "      <td>13</td>\n",
       "      <td>1</td>\n",
       "      <td>16</td>\n",
       "      <td>12400000</td>\n",
       "      <td>0.0</td>\n",
       "      <td>0</td>\n",
       "    </tr>\n",
       "    <tr>\n",
       "      <th>3</th>\n",
       "      <td>2018</td>\n",
       "      <td>5</td>\n",
       "      <td>0</td>\n",
       "      <td>1400</td>\n",
       "      <td>25000</td>\n",
       "      <td>1</td>\n",
       "      <td>1</td>\n",
       "      <td>16</td>\n",
       "      <td>12200000</td>\n",
       "      <td>0.0</td>\n",
       "      <td>0</td>\n",
       "    </tr>\n",
       "    <tr>\n",
       "      <th>4</th>\n",
       "      <td>2015</td>\n",
       "      <td>5</td>\n",
       "      <td>0</td>\n",
       "      <td>1800</td>\n",
       "      <td>57000</td>\n",
       "      <td>5</td>\n",
       "      <td>1</td>\n",
       "      <td>16</td>\n",
       "      <td>9750000</td>\n",
       "      <td>0.0</td>\n",
       "      <td>0</td>\n",
       "    </tr>\n",
       "  </tbody>\n",
       "</table>\n",
       "</div>"
      ],
      "text/plain": [
       "   Model_Year  Fuel_Type  Transmission  Engine_Capacity(cc)  Kms_Driven  \\\n",
       "0        2016          5             0                 1200       45000   \n",
       "1        2017          5             0                 1400       42000   \n",
       "2        2018          5             0                 1400       18000   \n",
       "3        2018          5             0                 1400       25000   \n",
       "4        2015          5             0                 1800       57000   \n",
       "\n",
       "   Color  Assembly  Body_Type     Price  Capacity_KWh  Condition  \n",
       "0     13         0         16   6125000           0.0          0  \n",
       "1      0         0         16   8700000           0.0          0  \n",
       "2     13         1         16  12400000           0.0          0  \n",
       "3      1         1         16  12200000           0.0          0  \n",
       "4      5         1         16   9750000           0.0          0  "
      ]
     },
     "execution_count": 1383,
     "metadata": {},
     "output_type": "execute_result"
    }
   ],
   "source": [
    "df.head()"
   ]
  },
  {
   "cell_type": "code",
   "execution_count": 1384,
   "metadata": {},
   "outputs": [],
   "source": [
    "# sns.displot(df)"
   ]
  },
  {
   "cell_type": "code",
   "execution_count": 1385,
   "metadata": {},
   "outputs": [
    {
     "name": "stdout",
     "output_type": "stream",
     "text": [
      "[5 1 3 0 2 4]\n",
      "[0 1]\n",
      "[13  0  1  5 12  4 11  3  2  9  6  7 10  8 14]\n",
      "[0 1]\n",
      "[16  6 15 10 13  4  8  3  1  0  5 18 22 19  9  7 17 14 11 12  2 20 21]\n",
      "[0 4 2 1 3]\n"
     ]
    }
   ],
   "source": [
    "print(df['Fuel_Type'].unique())\n",
    "print(df['Transmission'].unique())\n",
    "print(df['Color'].unique())\n",
    "print(df['Assembly'].unique())\n",
    "print(df['Body_Type'].unique())\n",
    "print(df['Condition'].unique())\n",
    "# print(df['Category'].unique())"
   ]
  },
  {
   "cell_type": "markdown",
   "metadata": {
    "papermill": {
     "duration": 0.027376,
     "end_time": "2021-05-05T13:27:10.321844",
     "exception": false,
     "start_time": "2021-05-05T13:27:10.294468",
     "status": "completed"
    },
    "tags": []
   },
   "source": [
    "### Rescaling"
   ]
  },
  {
   "cell_type": "code",
   "execution_count": 1391,
   "metadata": {},
   "outputs": [
    {
     "data": {
      "text/plain": [
       "(90346, 11)"
      ]
     },
     "execution_count": 1391,
     "metadata": {},
     "output_type": "execute_result"
    }
   ],
   "source": [
    "df.shape"
   ]
  },
  {
   "cell_type": "code",
   "execution_count": 1396,
   "metadata": {},
   "outputs": [
    {
     "data": {
      "text/plain": [
       "Index(['Model_Year', 'Fuel_Type', 'Transmission', 'Engine_Capacity(cc)',\n",
       "       'Kms_Driven', 'Color', 'Assembly', 'Body_Type', 'Price', 'Capacity_KWh',\n",
       "       'Condition'],\n",
       "      dtype='object')"
      ]
     },
     "execution_count": 1396,
     "metadata": {},
     "output_type": "execute_result"
    }
   ],
   "source": [
    "df.columns"
   ]
  },
  {
   "cell_type": "code",
   "execution_count": 1400,
   "metadata": {},
   "outputs": [
    {
     "data": {
      "text/html": [
       "<div>\n",
       "<style scoped>\n",
       "    .dataframe tbody tr th:only-of-type {\n",
       "        vertical-align: middle;\n",
       "    }\n",
       "\n",
       "    .dataframe tbody tr th {\n",
       "        vertical-align: top;\n",
       "    }\n",
       "\n",
       "    .dataframe thead th {\n",
       "        text-align: right;\n",
       "    }\n",
       "</style>\n",
       "<table border=\"1\" class=\"dataframe\">\n",
       "  <thead>\n",
       "    <tr style=\"text-align: right;\">\n",
       "      <th></th>\n",
       "      <th>Model_Year</th>\n",
       "      <th>Fuel_Type</th>\n",
       "      <th>Transmission</th>\n",
       "      <th>Engine_Capacity(cc)</th>\n",
       "      <th>Kms_Driven</th>\n",
       "      <th>Color</th>\n",
       "      <th>Assembly</th>\n",
       "      <th>Body_Type</th>\n",
       "      <th>Price</th>\n",
       "      <th>Capacity_KWh</th>\n",
       "      <th>Condition</th>\n",
       "    </tr>\n",
       "  </thead>\n",
       "  <tbody>\n",
       "    <tr>\n",
       "      <th>0</th>\n",
       "      <td>2016</td>\n",
       "      <td>5</td>\n",
       "      <td>0</td>\n",
       "      <td>1200</td>\n",
       "      <td>45000</td>\n",
       "      <td>13</td>\n",
       "      <td>0</td>\n",
       "      <td>16</td>\n",
       "      <td>6125000</td>\n",
       "      <td>0.0</td>\n",
       "      <td>0</td>\n",
       "    </tr>\n",
       "    <tr>\n",
       "      <th>1</th>\n",
       "      <td>2017</td>\n",
       "      <td>5</td>\n",
       "      <td>0</td>\n",
       "      <td>1400</td>\n",
       "      <td>42000</td>\n",
       "      <td>0</td>\n",
       "      <td>0</td>\n",
       "      <td>16</td>\n",
       "      <td>8700000</td>\n",
       "      <td>0.0</td>\n",
       "      <td>0</td>\n",
       "    </tr>\n",
       "    <tr>\n",
       "      <th>2</th>\n",
       "      <td>2018</td>\n",
       "      <td>5</td>\n",
       "      <td>0</td>\n",
       "      <td>1400</td>\n",
       "      <td>18000</td>\n",
       "      <td>13</td>\n",
       "      <td>1</td>\n",
       "      <td>16</td>\n",
       "      <td>12400000</td>\n",
       "      <td>0.0</td>\n",
       "      <td>0</td>\n",
       "    </tr>\n",
       "    <tr>\n",
       "      <th>3</th>\n",
       "      <td>2018</td>\n",
       "      <td>5</td>\n",
       "      <td>0</td>\n",
       "      <td>1400</td>\n",
       "      <td>25000</td>\n",
       "      <td>1</td>\n",
       "      <td>1</td>\n",
       "      <td>16</td>\n",
       "      <td>12200000</td>\n",
       "      <td>0.0</td>\n",
       "      <td>0</td>\n",
       "    </tr>\n",
       "    <tr>\n",
       "      <th>4</th>\n",
       "      <td>2015</td>\n",
       "      <td>5</td>\n",
       "      <td>0</td>\n",
       "      <td>1800</td>\n",
       "      <td>57000</td>\n",
       "      <td>5</td>\n",
       "      <td>1</td>\n",
       "      <td>16</td>\n",
       "      <td>9750000</td>\n",
       "      <td>0.0</td>\n",
       "      <td>0</td>\n",
       "    </tr>\n",
       "  </tbody>\n",
       "</table>\n",
       "</div>"
      ],
      "text/plain": [
       "   Model_Year  Fuel_Type  Transmission  Engine_Capacity(cc)  Kms_Driven  \\\n",
       "0        2016          5             0                 1200       45000   \n",
       "1        2017          5             0                 1400       42000   \n",
       "2        2018          5             0                 1400       18000   \n",
       "3        2018          5             0                 1400       25000   \n",
       "4        2015          5             0                 1800       57000   \n",
       "\n",
       "   Color  Assembly  Body_Type     Price  Capacity_KWh  Condition  \n",
       "0     13         0         16   6125000           0.0          0  \n",
       "1      0         0         16   8700000           0.0          0  \n",
       "2     13         1         16  12400000           0.0          0  \n",
       "3      1         1         16  12200000           0.0          0  \n",
       "4      5         1         16   9750000           0.0          0  "
      ]
     },
     "execution_count": 1400,
     "metadata": {},
     "output_type": "execute_result"
    }
   ],
   "source": [
    "df.head()"
   ]
  },
  {
   "cell_type": "code",
   "execution_count": 1401,
   "metadata": {},
   "outputs": [
    {
     "name": "stdout",
     "output_type": "stream",
     "text": [
      "[5 1 3 0 2 4]\n",
      "[0 1]\n",
      "[13  0  1  5 12  4 11  3  2  9  6  7 10  8 14]\n",
      "[0 1]\n",
      "[16  6 15 10 13  4  8  3  1  0  5 18 22 19  9  7 17 14 11 12  2 20 21]\n",
      "[0 4 2 1 3]\n"
     ]
    }
   ],
   "source": [
    "print(df['Fuel_Type'].unique())\n",
    "print(df['Transmission'].unique())\n",
    "print(df['Color'].unique())\n",
    "print(df['Assembly'].unique())\n",
    "print(df['Body_Type'].unique())\n",
    "print(df['Condition'].unique())\n",
    "# print(df['Category'].unique())"
   ]
  },
  {
   "cell_type": "code",
   "execution_count": 1406,
   "metadata": {},
   "outputs": [
    {
     "data": {
      "text/html": [
       "<div>\n",
       "<style scoped>\n",
       "    .dataframe tbody tr th:only-of-type {\n",
       "        vertical-align: middle;\n",
       "    }\n",
       "\n",
       "    .dataframe tbody tr th {\n",
       "        vertical-align: top;\n",
       "    }\n",
       "\n",
       "    .dataframe thead th {\n",
       "        text-align: right;\n",
       "    }\n",
       "</style>\n",
       "<table border=\"1\" class=\"dataframe\">\n",
       "  <thead>\n",
       "    <tr style=\"text-align: right;\">\n",
       "      <th></th>\n",
       "      <th>Model_Year</th>\n",
       "      <th>Fuel_Type</th>\n",
       "      <th>Transmission</th>\n",
       "      <th>Engine_Capacity(cc)</th>\n",
       "      <th>Kms_Driven</th>\n",
       "      <th>Color</th>\n",
       "      <th>Assembly</th>\n",
       "      <th>Body_Type</th>\n",
       "      <th>Price</th>\n",
       "      <th>Capacity_KWh</th>\n",
       "      <th>Condition</th>\n",
       "    </tr>\n",
       "  </thead>\n",
       "  <tbody>\n",
       "    <tr>\n",
       "      <th>60643</th>\n",
       "      <td>2021</td>\n",
       "      <td>1</td>\n",
       "      <td>0</td>\n",
       "      <td>2800</td>\n",
       "      <td>9000</td>\n",
       "      <td>13</td>\n",
       "      <td>1</td>\n",
       "      <td>5</td>\n",
       "      <td>7500000</td>\n",
       "      <td>0.0</td>\n",
       "      <td>2</td>\n",
       "    </tr>\n",
       "    <tr>\n",
       "      <th>38971</th>\n",
       "      <td>2021</td>\n",
       "      <td>5</td>\n",
       "      <td>1</td>\n",
       "      <td>660</td>\n",
       "      <td>52</td>\n",
       "      <td>13</td>\n",
       "      <td>1</td>\n",
       "      <td>6</td>\n",
       "      <td>1450000</td>\n",
       "      <td>0.0</td>\n",
       "      <td>2</td>\n",
       "    </tr>\n",
       "    <tr>\n",
       "      <th>65858</th>\n",
       "      <td>2014</td>\n",
       "      <td>5</td>\n",
       "      <td>0</td>\n",
       "      <td>1000</td>\n",
       "      <td>80000</td>\n",
       "      <td>1</td>\n",
       "      <td>0</td>\n",
       "      <td>6</td>\n",
       "      <td>1980000</td>\n",
       "      <td>0.0</td>\n",
       "      <td>2</td>\n",
       "    </tr>\n",
       "    <tr>\n",
       "      <th>51946</th>\n",
       "      <td>2013</td>\n",
       "      <td>5</td>\n",
       "      <td>1</td>\n",
       "      <td>800</td>\n",
       "      <td>250000</td>\n",
       "      <td>13</td>\n",
       "      <td>1</td>\n",
       "      <td>10</td>\n",
       "      <td>720000</td>\n",
       "      <td>0.0</td>\n",
       "      <td>2</td>\n",
       "    </tr>\n",
       "    <tr>\n",
       "      <th>54445</th>\n",
       "      <td>2018</td>\n",
       "      <td>5</td>\n",
       "      <td>1</td>\n",
       "      <td>1300</td>\n",
       "      <td>66000</td>\n",
       "      <td>5</td>\n",
       "      <td>1</td>\n",
       "      <td>6</td>\n",
       "      <td>1050000</td>\n",
       "      <td>0.0</td>\n",
       "      <td>2</td>\n",
       "    </tr>\n",
       "  </tbody>\n",
       "</table>\n",
       "</div>"
      ],
      "text/plain": [
       "       Model_Year  Fuel_Type  Transmission  Engine_Capacity(cc)  Kms_Driven  \\\n",
       "60643        2021          1             0                 2800        9000   \n",
       "38971        2021          5             1                  660          52   \n",
       "65858        2014          5             0                 1000       80000   \n",
       "51946        2013          5             1                  800      250000   \n",
       "54445        2018          5             1                 1300       66000   \n",
       "\n",
       "       Color  Assembly  Body_Type    Price  Capacity_KWh  Condition  \n",
       "60643     13         1          5  7500000           0.0          2  \n",
       "38971     13         1          6  1450000           0.0          2  \n",
       "65858      1         0          6  1980000           0.0          2  \n",
       "51946     13         1         10   720000           0.0          2  \n",
       "54445      5         1          6  1050000           0.0          2  "
      ]
     },
     "execution_count": 1406,
     "metadata": {},
     "output_type": "execute_result"
    }
   ],
   "source": [
    "df = df.sample(frac=1, random_state=123)\n",
    "df.head()"
   ]
  },
  {
   "cell_type": "code",
   "execution_count": 1407,
   "metadata": {},
   "outputs": [
    {
     "data": {
      "text/plain": [
       "(90346, 11)"
      ]
     },
     "execution_count": 1407,
     "metadata": {},
     "output_type": "execute_result"
    }
   ],
   "source": [
    "df.shape"
   ]
  },
  {
   "cell_type": "code",
   "execution_count": 1408,
   "metadata": {},
   "outputs": [
    {
     "data": {
      "text/plain": [
       "63242.2"
      ]
     },
     "execution_count": 1408,
     "metadata": {},
     "output_type": "execute_result"
    }
   ],
   "source": [
    "df.shape[0]*0.7"
   ]
  },
  {
   "cell_type": "code",
   "execution_count": 1409,
   "metadata": {},
   "outputs": [],
   "source": [
    "train = df[:63242]\n",
    "test  =df[63242:]"
   ]
  },
  {
   "cell_type": "markdown",
   "metadata": {
    "papermill": {
     "duration": 0.026942,
     "end_time": "2021-05-05T13:27:10.735099",
     "exception": false,
     "start_time": "2021-05-05T13:27:10.708157",
     "status": "completed"
    },
    "tags": []
   },
   "source": [
    "### Correlation Between Variables"
   ]
  },
  {
   "cell_type": "markdown",
   "metadata": {
    "papermill": {
     "duration": 0.027429,
     "end_time": "2021-05-05T13:27:10.790151",
     "exception": false,
     "start_time": "2021-05-05T13:27:10.762722",
     "status": "completed"
    },
    "tags": []
   },
   "source": [
    "Linear regression assumes the independent variables are not related with each other. If the correlation degree is high, it will cause problems when we fit the model.\n",
    "\n",
    "To check multicollinearity, I will use heatmap and VIF."
   ]
  },
  {
   "cell_type": "code",
   "execution_count": 1411,
   "metadata": {
    "execution": {
     "iopub.execute_input": "2021-05-05T13:27:10.852351Z",
     "iopub.status.busy": "2021-05-05T13:27:10.851643Z",
     "iopub.status.idle": "2021-05-05T13:27:17.773607Z",
     "shell.execute_reply": "2021-05-05T13:27:17.774084Z"
    },
    "papermill": {
     "duration": 6.956654,
     "end_time": "2021-05-05T13:27:17.774257",
     "exception": false,
     "start_time": "2021-05-05T13:27:10.817603",
     "status": "completed"
    },
    "tags": []
   },
   "outputs": [
    {
     "data": {
      "image/png": "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\n",
      "text/plain": [
       "<Figure size 1440x1080 with 2 Axes>"
      ]
     },
     "metadata": {},
     "output_type": "display_data"
    }
   ],
   "source": [
    "plt.figure(figsize = (20, 15))\n",
    "sns.heatmap(train.corr(method ='pearson'), annot=True, linewidths=.5)\n",
    "plt.show()"
   ]
  },
  {
   "cell_type": "code",
   "execution_count": 1412,
   "metadata": {},
   "outputs": [
    {
     "data": {
      "image/png": "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\n",
      "text/plain": [
       "<Figure size 360x720 with 2 Axes>"
      ]
     },
     "metadata": {},
     "output_type": "display_data"
    }
   ],
   "source": [
    "plt.figure(figsize=(5,10))\n",
    "\n",
    "cor_df = pd.DataFrame({'Price' : df.corr()['Price'].values},\n",
    "                     index = df.corr()['Price'].index)\n",
    "\n",
    "sns.heatmap(cor_df, annot=True, cmap='viridis')\n",
    "\n",
    "plt.show()"
   ]
  },
  {
   "cell_type": "code",
   "execution_count": 1418,
   "metadata": {},
   "outputs": [
    {
     "name": "stdout",
     "output_type": "stream",
     "text": [
      "Model_year\n",
      "Pearson Co-relation: 0.20717062921739837\n",
      "P-Value: 0.0\n",
      "Correlation is Significant\n",
      "\n",
      "Fuel_type\n",
      "Pearson Co-relation: -0.034813847285711255\n",
      "P-Value: 1.997089610685297e-18\n",
      "Correlation is Significant\n",
      "\n",
      "Transmission\n",
      "Pearson Co-relation: -0.34799167400950115\n",
      "P-Value: 0.0\n",
      "Correlation is Significant\n",
      "\n",
      "Engine_capacity(cc)\n",
      "Pearson Co-relation: 0.623814258754612\n",
      "P-Value: 0.0\n",
      "Correlation is Significant\n",
      "\n",
      "Kms_driven\n",
      "Pearson Co-relation: -0.1586477935079147\n",
      "P-Value: 0.0\n",
      "Correlation is Significant\n",
      "\n",
      "Color\n",
      "Pearson Co-relation: -0.024467704136376188\n",
      "P-Value: 7.558674481573025e-10\n",
      "Correlation is Significant\n",
      "\n",
      "Assembly\n",
      "Pearson Co-relation: -0.22529289702681204\n",
      "P-Value: 0.0\n",
      "Correlation is Significant\n",
      "\n",
      "Body_type\n",
      "Pearson Co-relation: 0.16092015215635602\n",
      "P-Value: 0.0\n",
      "Correlation is Significant\n",
      "\n",
      "Price\n",
      "Pearson Co-relation: 0.9999999999999999\n",
      "P-Value: 0.0\n",
      "Correlation is Significant\n",
      "\n",
      "Capacity_kwh\n",
      "Pearson Co-relation: 0.002999929715765675\n",
      "P-Value: 0.450604284206542\n",
      "Correlation is Insignificant\n",
      "\n",
      "Condition\n",
      "Pearson Co-relation: -0.01750243737041359\n",
      "P-Value: 1.0737804665021252e-05\n",
      "Correlation is Significant\n",
      "\n"
     ]
    },
    {
     "data": {
      "text/plain": [
       "['Capacity_KWh']"
      ]
     },
     "execution_count": 1418,
     "metadata": {},
     "output_type": "execute_result"
    }
   ],
   "source": [
    "from scipy import stats\n",
    "\n",
    "num_columns = train.select_dtypes(exclude='object').columns\n",
    "\n",
    "for i in list(num_columns):\n",
    "    pearson_coeff, p_value = stats.pearsonr(train[i], train['Price'])\n",
    "    print(i.capitalize())\n",
    "    print(f'Pearson Co-relation: {pearson_coeff}')\n",
    "    print(f'P-Value: {p_value}')\n",
    "    if p_value<0.05:\n",
    "        print('Correlation is Significant')\n",
    "    else:\n",
    "        print('Correlation is Insignificant')\n",
    "    print('')\n",
    "\n",
    "drop = []\n",
    "for i in list(num_columns):\n",
    "    pearson_coeff, p_value = stats.pearsonr(train[i], train['Price'])\n",
    "    if p_value > 0.05:\n",
    "        drop.append(i)\n",
    "\n",
    "drop"
   ]
  },
  {
   "cell_type": "code",
   "execution_count": 1423,
   "metadata": {},
   "outputs": [],
   "source": [
    "train.drop(['Capacity_KWh'], axis=1, inplace=True)\n",
    "test.drop(['Capacity_KWh'], axis=1, inplace=True)"
   ]
  },
  {
   "cell_type": "code",
   "execution_count": 1301,
   "metadata": {
    "execution": {
     "iopub.execute_input": "2021-05-05T13:27:18.455289Z",
     "iopub.status.busy": "2021-05-05T13:27:18.454652Z",
     "iopub.status.idle": "2021-05-05T13:27:18.459976Z",
     "shell.execute_reply": "2021-05-05T13:27:18.459448Z"
    },
    "papermill": {
     "duration": 0.074921,
     "end_time": "2021-05-05T13:27:18.460113",
     "exception": false,
     "start_time": "2021-05-05T13:27:18.385192",
     "status": "completed"
    },
    "tags": []
   },
   "outputs": [
    {
     "data": {
      "text/html": [
       "<div>\n",
       "<style scoped>\n",
       "    .dataframe tbody tr th:only-of-type {\n",
       "        vertical-align: middle;\n",
       "    }\n",
       "\n",
       "    .dataframe tbody tr th {\n",
       "        vertical-align: top;\n",
       "    }\n",
       "\n",
       "    .dataframe thead th {\n",
       "        text-align: right;\n",
       "    }\n",
       "</style>\n",
       "<table border=\"1\" class=\"dataframe\">\n",
       "  <thead>\n",
       "    <tr style=\"text-align: right;\">\n",
       "      <th></th>\n",
       "      <th>Model_Year</th>\n",
       "      <th>Fuel_Type</th>\n",
       "      <th>Transmission</th>\n",
       "      <th>Engine_Capacity(cc)</th>\n",
       "      <th>Kms_Driven</th>\n",
       "      <th>Color</th>\n",
       "      <th>Assembly</th>\n",
       "      <th>Body_Type</th>\n",
       "      <th>Price</th>\n",
       "      <th>Condition</th>\n",
       "    </tr>\n",
       "  </thead>\n",
       "  <tbody>\n",
       "    <tr>\n",
       "      <th>0</th>\n",
       "      <td>2016</td>\n",
       "      <td>5</td>\n",
       "      <td>0</td>\n",
       "      <td>1200</td>\n",
       "      <td>45000</td>\n",
       "      <td>13</td>\n",
       "      <td>0</td>\n",
       "      <td>16</td>\n",
       "      <td>6125000</td>\n",
       "      <td>0</td>\n",
       "    </tr>\n",
       "    <tr>\n",
       "      <th>1</th>\n",
       "      <td>2017</td>\n",
       "      <td>5</td>\n",
       "      <td>0</td>\n",
       "      <td>1400</td>\n",
       "      <td>42000</td>\n",
       "      <td>0</td>\n",
       "      <td>0</td>\n",
       "      <td>16</td>\n",
       "      <td>8700000</td>\n",
       "      <td>0</td>\n",
       "    </tr>\n",
       "    <tr>\n",
       "      <th>2</th>\n",
       "      <td>2018</td>\n",
       "      <td>5</td>\n",
       "      <td>0</td>\n",
       "      <td>1400</td>\n",
       "      <td>18000</td>\n",
       "      <td>13</td>\n",
       "      <td>1</td>\n",
       "      <td>16</td>\n",
       "      <td>12400000</td>\n",
       "      <td>0</td>\n",
       "    </tr>\n",
       "    <tr>\n",
       "      <th>3</th>\n",
       "      <td>2018</td>\n",
       "      <td>5</td>\n",
       "      <td>0</td>\n",
       "      <td>1400</td>\n",
       "      <td>25000</td>\n",
       "      <td>1</td>\n",
       "      <td>1</td>\n",
       "      <td>16</td>\n",
       "      <td>12200000</td>\n",
       "      <td>0</td>\n",
       "    </tr>\n",
       "    <tr>\n",
       "      <th>4</th>\n",
       "      <td>2015</td>\n",
       "      <td>5</td>\n",
       "      <td>0</td>\n",
       "      <td>1800</td>\n",
       "      <td>57000</td>\n",
       "      <td>5</td>\n",
       "      <td>1</td>\n",
       "      <td>16</td>\n",
       "      <td>9750000</td>\n",
       "      <td>0</td>\n",
       "    </tr>\n",
       "  </tbody>\n",
       "</table>\n",
       "</div>"
      ],
      "text/plain": [
       "   Model_Year  Fuel_Type  Transmission  Engine_Capacity(cc)  Kms_Driven  \\\n",
       "0        2016          5             0                 1200       45000   \n",
       "1        2017          5             0                 1400       42000   \n",
       "2        2018          5             0                 1400       18000   \n",
       "3        2018          5             0                 1400       25000   \n",
       "4        2015          5             0                 1800       57000   \n",
       "\n",
       "   Color  Assembly  Body_Type     Price  Condition  \n",
       "0     13         0         16   6125000          0  \n",
       "1      0         0         16   8700000          0  \n",
       "2     13         1         16  12400000          0  \n",
       "3      1         1         16  12200000          0  \n",
       "4      5         1         16   9750000          0  "
      ]
     },
     "execution_count": 1301,
     "metadata": {},
     "output_type": "execute_result"
    }
   ],
   "source": [
    "df.head()"
   ]
  },
  {
   "cell_type": "code",
   "execution_count": 1426,
   "metadata": {},
   "outputs": [
    {
     "data": {
      "text/plain": [
       "Transmission           0.250004\n",
       "Assembly               0.227977\n",
       "Color                  0.138048\n",
       "Body_Type              0.054265\n",
       "Fuel_Type              0.047841\n",
       "Condition              0.036166\n",
       "Kms_Driven             0.007688\n",
       "Engine_Capacity(cc)    0.003275\n",
       "Price                  0.001133\n",
       "Model_Year             0.000047\n",
       "dtype: float64"
      ]
     },
     "execution_count": 1426,
     "metadata": {},
     "output_type": "execute_result"
    }
   ],
   "source": [
    "hetro = train.copy()\n",
    "hetro = (hetro-hetro.min())/(hetro.max()- hetro.min())\n",
    "var = hetro.var().sort_values(ascending = False)\n",
    "var"
   ]
  },
  {
   "cell_type": "code",
   "execution_count": 1427,
   "metadata": {},
   "outputs": [],
   "source": [
    "train.drop(['Model_Year'], axis=1, inplace=True)\n",
    "test.drop(['Model_Year'], axis=1, inplace=True)"
   ]
  },
  {
   "cell_type": "markdown",
   "metadata": {
    "papermill": {
     "duration": 0.050601,
     "end_time": "2021-05-05T13:27:19.135209",
     "exception": false,
     "start_time": "2021-05-05T13:27:19.084608",
     "status": "completed"
    },
    "tags": []
   },
   "source": [
    "## Building the Model"
   ]
  },
  {
   "cell_type": "code",
   "execution_count": 1,
   "metadata": {},
   "outputs": [
    {
     "name": "stdout",
     "output_type": "stream",
     "text": [
      "Requirement already satisfied: cloudpickle in /home/daniyal214/anaconda3/lib/python3.6/site-packages (1.6.0)\r\n"
     ]
    }
   ],
   "source": [
    "!pip install cloudpickle"
   ]
  },
  {
   "cell_type": "code",
   "execution_count": 1454,
   "metadata": {},
   "outputs": [
    {
     "data": {
      "text/plain": [
       "Index(['Fuel_Type', 'Transmission', 'Engine_Capacity(cc)', 'Kms_Driven',\n",
       "       'Color', 'Assembly', 'Body_Type', 'Price', 'Condition'],\n",
       "      dtype='object')"
      ]
     },
     "execution_count": 1454,
     "metadata": {},
     "output_type": "execute_result"
    }
   ],
   "source": [
    "train.columns"
   ]
  },
  {
   "cell_type": "code",
   "execution_count": 1455,
   "metadata": {},
   "outputs": [],
   "source": [
    "features = train.columns.drop('Price')\n",
    "target = ['Price']"
   ]
  },
  {
   "cell_type": "code",
   "execution_count": 1456,
   "metadata": {},
   "outputs": [],
   "source": [
    "from sklearn.preprocessing import QuantileTransformer\n",
    "\n",
    "transform = QuantileTransformer(n_quantiles=90346)"
   ]
  },
  {
   "cell_type": "code",
   "execution_count": 1457,
   "metadata": {},
   "outputs": [],
   "source": [
    "trns = transform.fit(train[features])"
   ]
  },
  {
   "cell_type": "code",
   "execution_count": 1458,
   "metadata": {},
   "outputs": [],
   "source": [
    "import pickle\n",
    "\n",
    "pickle.dump(trns, open('q_transform.pkl', 'wb'))"
   ]
  },
  {
   "cell_type": "code",
   "execution_count": 1440,
   "metadata": {},
   "outputs": [],
   "source": [
    "X_train = trns.transform(train[features])\n",
    "X_test = trns.transform(test[features])"
   ]
  },
  {
   "cell_type": "code",
   "execution_count": 1442,
   "metadata": {},
   "outputs": [],
   "source": [
    "\n",
    "X_train = pd.DataFrame(X_train, columns=features)\n",
    "X_test = pd.DataFrame(X_test, columns=features)"
   ]
  },
  {
   "cell_type": "code",
   "execution_count": 1444,
   "metadata": {},
   "outputs": [],
   "source": [
    "y_train = train[target]\n",
    "y_test = test[target]"
   ]
  },
  {
   "cell_type": "code",
   "execution_count": 1447,
   "metadata": {},
   "outputs": [
    {
     "data": {
      "text/html": [
       "<div>\n",
       "<style scoped>\n",
       "    .dataframe tbody tr th:only-of-type {\n",
       "        vertical-align: middle;\n",
       "    }\n",
       "\n",
       "    .dataframe tbody tr th {\n",
       "        vertical-align: top;\n",
       "    }\n",
       "\n",
       "    .dataframe thead th {\n",
       "        text-align: right;\n",
       "    }\n",
       "</style>\n",
       "<table border=\"1\" class=\"dataframe\">\n",
       "  <thead>\n",
       "    <tr style=\"text-align: right;\">\n",
       "      <th></th>\n",
       "      <th>Mean Absolute Error</th>\n",
       "      <th>R2_Score</th>\n",
       "    </tr>\n",
       "    <tr>\n",
       "      <th>Models</th>\n",
       "      <th></th>\n",
       "      <th></th>\n",
       "    </tr>\n",
       "  </thead>\n",
       "  <tbody>\n",
       "    <tr>\n",
       "      <th>Linear Regression</th>\n",
       "      <td>1.427101e+06</td>\n",
       "      <td>0.312473</td>\n",
       "    </tr>\n",
       "    <tr>\n",
       "      <th>Support Vector Regression</th>\n",
       "      <td>1.556335e+06</td>\n",
       "      <td>-0.051854</td>\n",
       "    </tr>\n",
       "    <tr>\n",
       "      <th>K Nearest Neighbor</th>\n",
       "      <td>6.366642e+05</td>\n",
       "      <td>0.790192</td>\n",
       "    </tr>\n",
       "    <tr>\n",
       "      <th>Decision Tree</th>\n",
       "      <td>6.656338e+05</td>\n",
       "      <td>0.766672</td>\n",
       "    </tr>\n",
       "    <tr>\n",
       "      <th>Gradient Boost</th>\n",
       "      <td>6.614730e+05</td>\n",
       "      <td>0.850099</td>\n",
       "    </tr>\n",
       "    <tr>\n",
       "      <th>Random Forest</th>\n",
       "      <td>5.720704e+05</td>\n",
       "      <td>0.862498</td>\n",
       "    </tr>\n",
       "  </tbody>\n",
       "</table>\n",
       "</div>"
      ],
      "text/plain": [
       "                           Mean Absolute Error  R2_Score\n",
       "Models                                                  \n",
       "Linear Regression                 1.427101e+06  0.312473\n",
       "Support Vector Regression         1.556335e+06 -0.051854\n",
       "K Nearest Neighbor                6.366642e+05  0.790192\n",
       "Decision Tree                     6.656338e+05  0.766672\n",
       "Gradient Boost                    6.614730e+05  0.850099\n",
       "Random Forest                     5.720704e+05  0.862498"
      ]
     },
     "execution_count": 1447,
     "metadata": {},
     "output_type": "execute_result"
    }
   ],
   "source": [
    "from sklearn.metrics import mean_absolute_error\n",
    "\n",
    "LG_ = LinearRegression()\n",
    "SV_ = SVR()\n",
    "KN_ = KNeighborsRegressor()\n",
    "DT_ = DecisionTreeRegressor(random_state=123)\n",
    "GB_ = GradientBoostingRegressor(random_state=123)\n",
    "RF_ = RandomForestRegressor(random_state=123)\n",
    "\n",
    "models = [LG_, SV_, KN_, DT_, GB_, RF_,]\n",
    "model_name = [ 'Linear Regression', 'Support Vector Regression', 'K Nearest Neighbor', \n",
    "              'Decision Tree', 'Gradient Boost', 'Random Forest' ]\n",
    "\n",
    "\n",
    "means = []\n",
    "r2_score_ = []\n",
    "kf = KFold(5, True, random_state=123)\n",
    "\n",
    "for i in range(len(models)):\n",
    "    maes = []\n",
    "    r2s = []\n",
    "    model = models[i]\n",
    "\n",
    "\n",
    "    model.fit(X_train, y_train)\n",
    "    prediction = model.predict(X_test)\n",
    "    mae = mean_absolute_error(prediction, y_test)\n",
    "    r2 = r2_score(y_test, prediction)\n",
    "    maes.append(mae)\n",
    "    r2s.append(r2)\n",
    "        \n",
    "    means.append(np.mean(maes))\n",
    "    r2_score_.append(np.mean(r2s))\n",
    "    \n",
    "    \n",
    "mod_comp_def = pd.DataFrame({'Models' : model_name, 'Mean Absolute Error' : means,\n",
    "                            'R2_Score' : r2_score_}).set_index('Models')\n",
    "mod_comp_def"
   ]
  },
  {
   "cell_type": "code",
   "execution_count": 1171,
   "metadata": {},
   "outputs": [],
   "source": [
    "parameter_space_LG = {\n",
    "    'fit_intercept' : [True, False] ,\n",
    "    'normalize' : [True, False] ,\n",
    "    'copy_X' : [True, False] ,\n",
    "    'positive' : [True, False]\n",
    "}\n",
    "\n",
    "parameter_space_SV = {\n",
    "    \"kernel\": [\"poly\", \"linear\", \"rbf\", \"sigmoid\"],\n",
    "        \"degree\": [3, 5],\n",
    "        \"coef0\": [0, 3, 7],\n",
    "        \"gamma\":[1e-3, 1e-1, 1/X_train.shape[1]],\n",
    "        \"C\": [1, 10, 100],\n",
    "}\n",
    "\n",
    "parameter_space_KN = {\n",
    "    'n_neighbors' : [1,20,50],\n",
    "    'weights' : ['uniform', 'distance'],\n",
    "    'algorithm' : ['auto', 'kd_tree'],\n",
    "    'leaf_size' : [1,20,100],\n",
    "    'p' : [1,2],\n",
    "}\n",
    "\n",
    "parameter_space_DT = {\n",
    "    'criterion' : ['mse', 'mae'] ,\n",
    "    'splitter' : ['best', 'random'],\n",
    "    'max_depth' : [5,20,50],\n",
    "}\n",
    "\n",
    "parameter_space_GB = {\n",
    "    'loss' : ['ls', 'lad', 'quantile'],\n",
    "    'learning_rate' : [0.1,0.2, 0.5],\n",
    "    'n_estimators' : [80, 100, 180],\n",
    "    'criterion' : ['mse', 'mae'],\n",
    "}\n",
    "\n",
    "parameter_space_RF = {\n",
    "    'n_estimators' : [100,120],\n",
    "    'criterion' : ['mse', 'mae'],\n",
    "    'max_depth' : [10,15,30],\n",
    "}\n"
   ]
  },
  {
   "cell_type": "code",
   "execution_count": 1173,
   "metadata": {},
   "outputs": [
    {
     "name": "stdout",
     "output_type": "stream",
     "text": [
      "Linear Regression:\n",
      "Best parameters:\n",
      "{'positive': False, 'normalize': False, 'fit_intercept': True, 'copy_X': True}\n",
      "\n",
      "Decision Tree:\n",
      "Best parameters:\n",
      "{'splitter': 'random', 'max_depth': 20, 'criterion': 'mae'}\n",
      "\n",
      "Gradient Boost:\n",
      "Best parameters:\n",
      "{'n_estimators': 100, 'loss': 'ls', 'learning_rate': 0.5, 'criterion': 'mse'}\n",
      "\n",
      "Random Forest:\n",
      "Best parameters:\n",
      "{'n_estimators': 100, 'max_depth': 15, 'criterion': 'mae'}\n",
      "\n"
     ]
    }
   ],
   "source": [
    "from sklearn.model_selection import RandomizedSearchCV\n",
    "\n",
    "\n",
    "LG = LinearRegression()\n",
    "SV = SVR()\n",
    "KN = KNeighborsRegressor()\n",
    "DT = DecisionTreeRegressor(random_state=123)\n",
    "GB = GradientBoostingRegressor(random_state=123)\n",
    "RF = RandomForestRegressor(random_state=123)\n",
    "\n",
    "# kf = KFold(5, True, random_state=123)\n",
    "\n",
    "models = [LG, DT, GB, RF,]\n",
    "model_name = [ 'Linear Regression', \n",
    "              'Decision Tree', 'Gradient Boost', 'Random Forest' ]\n",
    "parameter_space = [parameter_space_LG, \n",
    "                  parameter_space_DT, parameter_space_GB, parameter_space_RF]\n",
    "\n",
    "for i in range(4):\n",
    "    clf = RandomizedSearchCV(models[i],parameter_space[i] , scoring='neg_mean_absolute_error',\n",
    "                            n_jobs=-1, cv=3)\n",
    "\n",
    "    clf.fit(X_train, y_train)\n",
    "    print(f'{model_name[i]}:')\n",
    "    print(\"Best parameters:\")\n",
    "    print(clf.best_params_)\n",
    "    print('')"
   ]
  },
  {
   "cell_type": "code",
   "execution_count": 1174,
   "metadata": {},
   "outputs": [],
   "source": [
    "features = ['wheelbase', 'carwidth', 'enginesize', 'boreratio', 'aspiration_turbo',\n",
    "       'carbody_hatchback', 'carbody_sedan', 'drivewheel_fwd',\n",
    "       'drivewheel_rwd', 'enginelocation_rear', 'enginetype_l',\n",
    "       'enginetype_ohc', 'enginetype_ohcv', 'cylindernumber_five',\n",
    "       'cylindernumber_four', 'cylindernumber_six', 'fuelsystem_2bbl',\n",
    "       'fuelsystem_mpfi', 'Category_Medium_Range', 'Category_Expensive_Cars']\n",
    "target = ['price']"
   ]
  },
  {
   "cell_type": "code",
   "execution_count": null,
   "metadata": {},
   "outputs": [],
   "source": [
    "Linear Regression:\n",
    "Best parameters:\n",
    "{'positive': False, 'normalize': False, 'fit_intercept': True, 'copy_X': True}\n",
    "\n",
    "Decision Tree:\n",
    "Best parameters:\n",
    "{'splitter': 'best', 'max_depth': 10, 'criterion': 'mse'}\n",
    "\n",
    "Gradient Boost:\n",
    "Best parameters:\n",
    "{'n_estimators': 180, 'loss': 'huber', 'learning_rate': 0.5, 'criterion': 'mse'}\n",
    "\n",
    "Random Forest:\n",
    "Best parameters:\n",
    "{'n_estimators': 100, 'max_depth': 15, 'criterion': 'mae'}\n"
   ]
  },
  {
   "cell_type": "code",
   "execution_count": 1175,
   "metadata": {},
   "outputs": [
    {
     "data": {
      "text/html": [
       "<div>\n",
       "<style scoped>\n",
       "    .dataframe tbody tr th:only-of-type {\n",
       "        vertical-align: middle;\n",
       "    }\n",
       "\n",
       "    .dataframe tbody tr th {\n",
       "        vertical-align: top;\n",
       "    }\n",
       "\n",
       "    .dataframe thead th {\n",
       "        text-align: right;\n",
       "    }\n",
       "</style>\n",
       "<table border=\"1\" class=\"dataframe\">\n",
       "  <thead>\n",
       "    <tr style=\"text-align: right;\">\n",
       "      <th></th>\n",
       "      <th>Mean Absolute Error</th>\n",
       "      <th>R2_Score</th>\n",
       "    </tr>\n",
       "    <tr>\n",
       "      <th>Models</th>\n",
       "      <th></th>\n",
       "      <th></th>\n",
       "    </tr>\n",
       "  </thead>\n",
       "  <tbody>\n",
       "    <tr>\n",
       "      <th>Linear Regression</th>\n",
       "      <td>1378097.97</td>\n",
       "      <td>0.31</td>\n",
       "    </tr>\n",
       "    <tr>\n",
       "      <th>Decision Tree</th>\n",
       "      <td>617587.53</td>\n",
       "      <td>0.82</td>\n",
       "    </tr>\n",
       "    <tr>\n",
       "      <th>Gradient Boost</th>\n",
       "      <td>567376.39</td>\n",
       "      <td>0.86</td>\n",
       "    </tr>\n",
       "    <tr>\n",
       "      <th>Random Forest</th>\n",
       "      <td>520593.54</td>\n",
       "      <td>0.87</td>\n",
       "    </tr>\n",
       "  </tbody>\n",
       "</table>\n",
       "</div>"
      ],
      "text/plain": [
       "                   Mean Absolute Error  R2_Score\n",
       "Models                                          \n",
       "Linear Regression           1378097.97      0.31\n",
       "Decision Tree                617587.53      0.82\n",
       "Gradient Boost               567376.39      0.86\n",
       "Random Forest                520593.54      0.87"
      ]
     },
     "execution_count": 1175,
     "metadata": {},
     "output_type": "execute_result"
    }
   ],
   "source": [
    "from sklearn.metrics import mean_absolute_error\n",
    "\n",
    "LG_ = LinearRegression(copy_X=True, fit_intercept=True, normalize=False, positive=False,)\n",
    "DT_ = DecisionTreeRegressor(criterion='mse', max_depth=10, splitter='best',random_state=123)\n",
    "GB_ = GradientBoostingRegressor(criterion='mse', learning_rate=0.5, \n",
    "                                loss='huber', n_estimators=180, random_state=123)\n",
    "RF_ = RandomForestRegressor(criterion='mae', max_depth=15, n_estimators=100,random_state=123)\n",
    "\n",
    "models = [LG_, DT_, GB_, RF_,]\n",
    "model_name = [ 'Linear Regression', 'Decision Tree', 'Gradient Boost', 'Random Forest' ]\n",
    "\n",
    "\n",
    "means = []\n",
    "r2_score_ = []\n",
    "kf = KFold(5, True, random_state=123)\n",
    "\n",
    "for i in range(len(models)):\n",
    "    maes = []\n",
    "    r2s = []\n",
    "    model = models[i]\n",
    "\n",
    "    model.fit(X_train, y_train)\n",
    "    prediction = model.predict(X_test)\n",
    "    mae = round(mean_absolute_error(prediction, y_test),2)\n",
    "    r2 = round(r2_score(y_test, prediction),2)\n",
    "    maes.append(mae)\n",
    "    r2s.append(r2)\n",
    "        \n",
    "    means.append(np.mean(maes))\n",
    "    r2_score_.append(np.mean(r2s))\n",
    "    \n",
    "    \n",
    "with_rndm = pd.DataFrame({'Models' : model_name, 'Mean Absolute Error' : means,\n",
    "                            'R2_Score' : r2_score_}).set_index('Models')\n",
    "with_rndm"
   ]
  },
  {
   "cell_type": "code",
   "execution_count": 1187,
   "metadata": {},
   "outputs": [
    {
     "data": {
      "text/html": [
       "<div>\n",
       "<style scoped>\n",
       "    .dataframe tbody tr th:only-of-type {\n",
       "        vertical-align: middle;\n",
       "    }\n",
       "\n",
       "    .dataframe tbody tr th {\n",
       "        vertical-align: top;\n",
       "    }\n",
       "\n",
       "    .dataframe thead th {\n",
       "        text-align: right;\n",
       "    }\n",
       "</style>\n",
       "<table border=\"1\" class=\"dataframe\">\n",
       "  <thead>\n",
       "    <tr style=\"text-align: right;\">\n",
       "      <th></th>\n",
       "      <th>Mean Absolute Error</th>\n",
       "      <th>R2_Score</th>\n",
       "    </tr>\n",
       "    <tr>\n",
       "      <th>Models</th>\n",
       "      <th></th>\n",
       "      <th></th>\n",
       "    </tr>\n",
       "  </thead>\n",
       "  <tbody>\n",
       "    <tr>\n",
       "      <th>Linear Regression</th>\n",
       "      <td>1.378098e+06</td>\n",
       "      <td>0.311153</td>\n",
       "    </tr>\n",
       "    <tr>\n",
       "      <th>Decision Tree</th>\n",
       "      <td>6.580310e+05</td>\n",
       "      <td>0.766447</td>\n",
       "    </tr>\n",
       "    <tr>\n",
       "      <th>Gradient Boost</th>\n",
       "      <td>6.604351e+05</td>\n",
       "      <td>0.842316</td>\n",
       "    </tr>\n",
       "    <tr>\n",
       "      <th>Random Forest</th>\n",
       "      <td>5.726419e+05</td>\n",
       "      <td>0.859423</td>\n",
       "    </tr>\n",
       "  </tbody>\n",
       "</table>\n",
       "</div>"
      ],
      "text/plain": [
       "                   Mean Absolute Error  R2_Score\n",
       "Models                                          \n",
       "Linear Regression         1.378098e+06  0.311153\n",
       "Decision Tree             6.580310e+05  0.766447\n",
       "Gradient Boost            6.604351e+05  0.842316\n",
       "Random Forest             5.726419e+05  0.859423"
      ]
     },
     "execution_count": 1187,
     "metadata": {},
     "output_type": "execute_result"
    }
   ],
   "source": [
    "mod_comp_def.loc[['Linear Regression', 'Decision Tree', 'Gradient Boost', 'Random Forest']]"
   ]
  },
  {
   "cell_type": "markdown",
   "metadata": {},
   "source": [
    "# Finally"
   ]
  },
  {
   "cell_type": "code",
   "execution_count": 1459,
   "metadata": {},
   "outputs": [],
   "source": [
    "model_name = 'Randome Forest'\n",
    "model = RandomForestRegressor(criterion='mae', max_depth=15, n_estimators=100,random_state=123)"
   ]
  },
  {
   "cell_type": "code",
   "execution_count": 1178,
   "metadata": {},
   "outputs": [],
   "source": [
    "# model.predict(X_test)"
   ]
  },
  {
   "cell_type": "code",
   "execution_count": 1463,
   "metadata": {},
   "outputs": [
    {
     "data": {
      "text/plain": [
       "RandomForestRegressor(criterion='mae', max_depth=15, random_state=123)"
      ]
     },
     "execution_count": 1463,
     "metadata": {},
     "output_type": "execute_result"
    }
   ],
   "source": [
    "model.fit(X_train, y_train)"
   ]
  },
  {
   "cell_type": "code",
   "execution_count": 1464,
   "metadata": {},
   "outputs": [
    {
     "name": "stdout",
     "output_type": "stream",
     "text": [
      "Randome Forest\n",
      "r2 score: 0.87\n",
      "Mean absolute error: 524853.69\n"
     ]
    }
   ],
   "source": [
    "# model.fit(X_train, y_train)\n",
    "print(model_name)\n",
    "print(f'r2 score: {round(r2_score(y_test, model.predict(X_test)), 2)}')\n",
    "print(f'Mean absolute error: {round(mean_absolute_error(model.predict(X_test), y_test),2)}')"
   ]
  },
  {
   "cell_type": "code",
   "execution_count": 1465,
   "metadata": {},
   "outputs": [],
   "source": [
    "import pickle"
   ]
  },
  {
   "cell_type": "code",
   "execution_count": 1466,
   "metadata": {},
   "outputs": [],
   "source": [
    "pickle_out = open('model-pakwheels-carprice.pkl', \"wb\")\n",
    "pickle.dump(model, pickle_out)\n",
    "pickle_out.close()"
   ]
  }
 ],
 "metadata": {
  "kernelspec": {
   "display_name": "Python 3",
   "language": "python",
   "name": "python3"
  },
  "language_info": {
   "codemirror_mode": {
    "name": "ipython",
    "version": 3
   },
   "file_extension": ".py",
   "mimetype": "text/x-python",
   "name": "python",
   "nbconvert_exporter": "python",
   "pygments_lexer": "ipython3",
   "version": "3.6.13"
  },
  "papermill": {
   "default_parameters": {},
   "duration": 18.574184,
   "end_time": "2021-05-05T13:27:20.428235",
   "environment_variables": {},
   "exception": null,
   "input_path": "__notebook__.ipynb",
   "output_path": "__notebook__.ipynb",
   "parameters": {},
   "start_time": "2021-05-05T13:27:01.854051",
   "version": "2.3.2"
  }
 },
 "nbformat": 4,
 "nbformat_minor": 5
}
