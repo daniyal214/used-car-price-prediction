{
 "cells": [
  {
   "cell_type": "code",
   "execution_count": 15,
   "metadata": {},
   "outputs": [],
   "source": [
    "import pandas as pd\n",
    "import numpy as np\n",
    "from selenium import webdriver\n",
    "from webdriver_manager.chrome import ChromeDriverManager\n",
    "from selenium.webdriver.chrome.options import Options\n",
    "from selenium.webdriver.support.ui import Select\n",
    "import time\n",
    "from selenium.webdriver.common.keys import Keys\n",
    "from selenium.common.exceptions import NoSuchElementException\n",
    "from selenium.webdriver.support.ui import WebDriverWait\n",
    "from selenium.webdriver.support import expected_conditions as EC\n",
    "from selenium.webdriver.common.by import By\n",
    "from selenium.webdriver.common.action_chains import ActionChains\n",
    "import re"
   ]
  },
  {
   "cell_type": "code",
   "execution_count": 16,
   "metadata": {},
   "outputs": [],
   "source": [
    "URL = 'https://www.pakwheels.com/'"
   ]
  },
  {
   "cell_type": "code",
   "execution_count": 17,
   "metadata": {},
   "outputs": [],
   "source": [
    "from selenium.webdriver.chrome.options import Options\n",
    "from selenium.webdriver.common.desired_capabilities import DesiredCapabilities\n",
    "\n",
    "\n",
    "options = webdriver.ChromeOptions()\n",
    "driver = webdriver.Chrome(executable_path='/home/daniyal214/Desktop/Data Science/chromedriver',\n",
    "                         options = options)\n",
    "driver.get(URL)"
   ]
  },
  {
   "cell_type": "code",
   "execution_count": 18,
   "metadata": {},
   "outputs": [],
   "source": [
    "# driver.find_element_by_xpath('//*[@id=\"om-lightbox-modern-optin-wrap\"]/a').click()"
   ]
  },
  {
   "cell_type": "code",
   "execution_count": 19,
   "metadata": {},
   "outputs": [],
   "source": [
    "driver.find_element_by_xpath('//*[@id=\"browes_make_id\"]').click()"
   ]
  },
  {
   "cell_type": "markdown",
   "metadata": {},
   "source": [
    "# Honda"
   ]
  },
  {
   "cell_type": "code",
   "execution_count": 88,
   "metadata": {},
   "outputs": [],
   "source": [
    "driver.find_element_by_link_text('Honda').click()"
   ]
  },
  {
   "cell_type": "code",
   "execution_count": 89,
   "metadata": {},
   "outputs": [],
   "source": [
    "# featured = driver.find_elements_by_css_selector('.classified-listing.featured-listing')\n",
    "# cards = driver.find_elements_by_css_selector('.classified-listing   ')"
   ]
  },
  {
   "cell_type": "code",
   "execution_count": 90,
   "metadata": {},
   "outputs": [],
   "source": [
    "# brand = []\n",
    "# year = []\n",
    "# fuelType = []\n",
    "# transmission = []\n",
    "# cc = []\n",
    "# km_driven = []\n",
    "# price = []\n",
    "# description = []\n",
    "# url = []"
   ]
  },
  {
   "cell_type": "code",
   "execution_count": 92,
   "metadata": {},
   "outputs": [
    {
     "data": {
      "text/plain": [
       "786"
      ]
     },
     "execution_count": 92,
     "metadata": {},
     "output_type": "execute_result"
    }
   ],
   "source": [
    "# 886-100"
   ]
  },
  {
   "cell_type": "code",
   "execution_count": 91,
   "metadata": {},
   "outputs": [],
   "source": [
    "import json"
   ]
  },
  {
   "cell_type": "code",
   "execution_count": 93,
   "metadata": {},
   "outputs": [],
   "source": [
    "for j in range(800):\n",
    "    time.sleep(10)\n",
    "    cards = driver.find_elements_by_css_selector('.classified-listing   ')\n",
    "    for i in cards:\n",
    "        try:\n",
    "            lib = i.find_element_by_tag_name('script').get_attribute('innerHTML')\n",
    "            item = json.loads(lib.replace('\\n', ''))\n",
    "            brand.append(item['brand']['name'])\n",
    "            year.append(item['modelDate'])\n",
    "            fuelType.append(item['fuelType'])\n",
    "            transmission.append(item['vehicleTransmission'])\n",
    "            cc.append(item['vehicleEngine']['engineDisplacement'])\n",
    "            km_driven.append(item['mileageFromOdometer'])\n",
    "            price.append(item['offers']['price'])\n",
    "            url.append(item['offers']['url'])\n",
    "            description.append(item['name'])\n",
    "        except NoSuchElementException:\n",
    "            pass \n",
    "\n",
    "\n",
    "    try:\n",
    "        time.sleep(3)\n",
    "        element = driver.find_element_by_link_text('Next ›')\n",
    "        actions = ActionChains(driver)\n",
    "        actions.move_to_element(element).perform()\n",
    "        time.sleep(5)\n",
    "        element.click()\n",
    "    except NoSuchElementException:\n",
    "        break"
   ]
  },
  {
   "cell_type": "code",
   "execution_count": 26,
   "metadata": {},
   "outputs": [
    {
     "data": {
      "text/plain": [
       "5006"
      ]
     },
     "execution_count": 26,
     "metadata": {},
     "output_type": "execute_result"
    }
   ],
   "source": [
    "len(brand)"
   ]
  },
  {
   "cell_type": "code",
   "execution_count": 94,
   "metadata": {},
   "outputs": [
    {
     "data": {
      "text/html": [
       "<div>\n",
       "<style scoped>\n",
       "    .dataframe tbody tr th:only-of-type {\n",
       "        vertical-align: middle;\n",
       "    }\n",
       "\n",
       "    .dataframe tbody tr th {\n",
       "        vertical-align: top;\n",
       "    }\n",
       "\n",
       "    .dataframe thead th {\n",
       "        text-align: right;\n",
       "    }\n",
       "</style>\n",
       "<table border=\"1\" class=\"dataframe\">\n",
       "  <thead>\n",
       "    <tr style=\"text-align: right;\">\n",
       "      <th></th>\n",
       "      <th>Make</th>\n",
       "      <th>Model_Year</th>\n",
       "      <th>Fuel_Type</th>\n",
       "      <th>Transmission</th>\n",
       "      <th>Engine_Capacity</th>\n",
       "      <th>Kms_Driven</th>\n",
       "      <th>Price</th>\n",
       "      <th>Url</th>\n",
       "      <th>Description</th>\n",
       "    </tr>\n",
       "  </thead>\n",
       "  <tbody>\n",
       "    <tr>\n",
       "      <th>0</th>\n",
       "      <td>Honda</td>\n",
       "      <td>2017</td>\n",
       "      <td>Hybrid</td>\n",
       "      <td>Automatic</td>\n",
       "      <td>1500cc</td>\n",
       "      <td>23,000 km</td>\n",
       "      <td>3545000</td>\n",
       "      <td>https://www.pakwheels.com/used-cars/honda-grac...</td>\n",
       "      <td>Honda Grace Hybrid 2017 for sale in Multan</td>\n",
       "    </tr>\n",
       "    <tr>\n",
       "      <th>1</th>\n",
       "      <td>Honda</td>\n",
       "      <td>2018</td>\n",
       "      <td>Petrol</td>\n",
       "      <td>Automatic</td>\n",
       "      <td>660cc</td>\n",
       "      <td>32,000 km</td>\n",
       "      <td>2075000</td>\n",
       "      <td>https://www.pakwheels.com/used-cars/honda-n-wg...</td>\n",
       "      <td>Honda N Wgn 2018 for sale in Multan</td>\n",
       "    </tr>\n",
       "    <tr>\n",
       "      <th>2</th>\n",
       "      <td>Honda</td>\n",
       "      <td>2018</td>\n",
       "      <td>Petrol</td>\n",
       "      <td>Automatic</td>\n",
       "      <td>1000cc</td>\n",
       "      <td>24,500 km</td>\n",
       "      <td>2160000</td>\n",
       "      <td>https://www.pakwheels.com/used-cars/honda-n-wg...</td>\n",
       "      <td>Honda N Wgn 2018 for sale in Lahore</td>\n",
       "    </tr>\n",
       "    <tr>\n",
       "      <th>3</th>\n",
       "      <td>Honda</td>\n",
       "      <td>2011</td>\n",
       "      <td>Petrol</td>\n",
       "      <td>Manual</td>\n",
       "      <td>1300cc</td>\n",
       "      <td>80,000 km</td>\n",
       "      <td>1850000</td>\n",
       "      <td>https://www.pakwheels.com/used-cars/honda-city...</td>\n",
       "      <td>Honda City 2011 for sale in Islamabad</td>\n",
       "    </tr>\n",
       "    <tr>\n",
       "      <th>4</th>\n",
       "      <td>Honda</td>\n",
       "      <td>2012</td>\n",
       "      <td>Petrol</td>\n",
       "      <td>Automatic</td>\n",
       "      <td>1800cc</td>\n",
       "      <td>56,000 km</td>\n",
       "      <td>2275000</td>\n",
       "      <td>https://www.pakwheels.com/used-cars/honda-civi...</td>\n",
       "      <td>Honda Civic 2012 for sale in Karachi</td>\n",
       "    </tr>\n",
       "  </tbody>\n",
       "</table>\n",
       "</div>"
      ],
      "text/plain": [
       "    Make  Model_Year Fuel_Type Transmission Engine_Capacity Kms_Driven  \\\n",
       "0  Honda        2017    Hybrid    Automatic          1500cc  23,000 km   \n",
       "1  Honda        2018    Petrol    Automatic           660cc  32,000 km   \n",
       "2  Honda        2018    Petrol    Automatic          1000cc  24,500 km   \n",
       "3  Honda        2011    Petrol       Manual          1300cc  80,000 km   \n",
       "4  Honda        2012    Petrol    Automatic          1800cc  56,000 km   \n",
       "\n",
       "     Price                                                Url  \\\n",
       "0  3545000  https://www.pakwheels.com/used-cars/honda-grac...   \n",
       "1  2075000  https://www.pakwheels.com/used-cars/honda-n-wg...   \n",
       "2  2160000  https://www.pakwheels.com/used-cars/honda-n-wg...   \n",
       "3  1850000  https://www.pakwheels.com/used-cars/honda-city...   \n",
       "4  2275000  https://www.pakwheels.com/used-cars/honda-civi...   \n",
       "\n",
       "                                  Description  \n",
       "0  Honda Grace Hybrid 2017 for sale in Multan  \n",
       "1         Honda N Wgn 2018 for sale in Multan  \n",
       "2         Honda N Wgn 2018 for sale in Lahore  \n",
       "3       Honda City 2011 for sale in Islamabad  \n",
       "4        Honda Civic 2012 for sale in Karachi  "
      ]
     },
     "execution_count": 94,
     "metadata": {},
     "output_type": "execute_result"
    }
   ],
   "source": [
    "honda = pd.DataFrame({'Make':brand, 'Model_Year':year, 'Fuel_Type':fuelType, \n",
    "             'Transmission':transmission, 'Engine_Capacity':cc, 'Kms_Driven':km_driven,\n",
    "             'Price':price, 'Url':url, 'Description':description})\n",
    "honda.head()"
   ]
  },
  {
   "cell_type": "code",
   "execution_count": 95,
   "metadata": {},
   "outputs": [],
   "source": [
    "honda.drop_duplicates(inplace=True)"
   ]
  },
  {
   "cell_type": "code",
   "execution_count": 96,
   "metadata": {},
   "outputs": [],
   "source": [
    "honda.to_csv('Honda2', index=False)"
   ]
  },
  {
   "cell_type": "code",
   "execution_count": 97,
   "metadata": {},
   "outputs": [
    {
     "data": {
      "text/plain": [
       "(19380, 9)"
      ]
     },
     "execution_count": 97,
     "metadata": {},
     "output_type": "execute_result"
    }
   ],
   "source": [
    "honda.shape"
   ]
  },
  {
   "cell_type": "code",
   "execution_count": null,
   "metadata": {},
   "outputs": [],
   "source": []
  },
  {
   "cell_type": "markdown",
   "metadata": {},
   "source": [
    "# Nissan"
   ]
  },
  {
   "cell_type": "code",
   "execution_count": 32,
   "metadata": {},
   "outputs": [],
   "source": [
    "driver.find_element_by_link_text('Nissan').click()"
   ]
  },
  {
   "cell_type": "code",
   "execution_count": 35,
   "metadata": {},
   "outputs": [],
   "source": [
    "#65"
   ]
  },
  {
   "cell_type": "code",
   "execution_count": 36,
   "metadata": {},
   "outputs": [
    {
     "data": {
      "text/plain": [
       "36"
      ]
     },
     "execution_count": 36,
     "metadata": {},
     "output_type": "execute_result"
    }
   ],
   "source": [
    "100-64"
   ]
  },
  {
   "cell_type": "code",
   "execution_count": 33,
   "metadata": {},
   "outputs": [],
   "source": [
    "# brand = []\n",
    "# year = []\n",
    "# fuelType = []\n",
    "# transmission = []\n",
    "# cc = []\n",
    "# km_driven = []\n",
    "# price = []\n",
    "# description = []\n",
    "# url = []"
   ]
  },
  {
   "cell_type": "code",
   "execution_count": 37,
   "metadata": {},
   "outputs": [],
   "source": [
    "import json\n",
    "\n",
    "for j in range(36):\n",
    "    time.sleep(10)\n",
    "    cards = driver.find_elements_by_css_selector('.classified-listing   ')\n",
    "    for i in cards:\n",
    "        try:\n",
    "            lib = i.find_element_by_tag_name('script').get_attribute('innerHTML')\n",
    "            item = json.loads(lib.replace('\\n', ''))\n",
    "            brand.append(item['brand']['name'])\n",
    "            year.append(item['modelDate'])\n",
    "            fuelType.append(item['fuelType'])\n",
    "            transmission.append(item['vehicleTransmission'])\n",
    "            cc.append(item['vehicleEngine']['engineDisplacement'])\n",
    "            km_driven.append(item['mileageFromOdometer'])\n",
    "            price.append(item['offers']['price'])\n",
    "            url.append(item['offers']['url'])\n",
    "            description.append(item['name'])\n",
    "        except NoSuchElementException:\n",
    "            pass \n",
    "\n",
    "\n",
    "    try:\n",
    "        time.sleep(3)\n",
    "        element = driver.find_element_by_link_text('Next ›')\n",
    "        actions = ActionChains(driver)\n",
    "        actions.move_to_element(element).perform()\n",
    "        time.sleep(5)\n",
    "        element.click()\n",
    "    except NoSuchElementException:\n",
    "        break"
   ]
  },
  {
   "cell_type": "code",
   "execution_count": 38,
   "metadata": {},
   "outputs": [
    {
     "data": {
      "text/html": [
       "<div>\n",
       "<style scoped>\n",
       "    .dataframe tbody tr th:only-of-type {\n",
       "        vertical-align: middle;\n",
       "    }\n",
       "\n",
       "    .dataframe tbody tr th {\n",
       "        vertical-align: top;\n",
       "    }\n",
       "\n",
       "    .dataframe thead th {\n",
       "        text-align: right;\n",
       "    }\n",
       "</style>\n",
       "<table border=\"1\" class=\"dataframe\">\n",
       "  <thead>\n",
       "    <tr style=\"text-align: right;\">\n",
       "      <th></th>\n",
       "      <th>Make</th>\n",
       "      <th>Model_Year</th>\n",
       "      <th>Fuel_Type</th>\n",
       "      <th>Transmission</th>\n",
       "      <th>Engine_Capacity</th>\n",
       "      <th>Kms_Driven</th>\n",
       "      <th>Price</th>\n",
       "      <th>Url</th>\n",
       "      <th>Description</th>\n",
       "    </tr>\n",
       "  </thead>\n",
       "  <tbody>\n",
       "    <tr>\n",
       "      <th>0</th>\n",
       "      <td>Nissan</td>\n",
       "      <td>2014</td>\n",
       "      <td>Petrol</td>\n",
       "      <td>Automatic</td>\n",
       "      <td>660cc</td>\n",
       "      <td>68,000 km</td>\n",
       "      <td>1490000</td>\n",
       "      <td>https://www.pakwheels.com/used-cars/nissan-day...</td>\n",
       "      <td>Nissan Dayz Highway Star 2014 for sale in Karachi</td>\n",
       "    </tr>\n",
       "    <tr>\n",
       "      <th>1</th>\n",
       "      <td>Nissan</td>\n",
       "      <td>2018</td>\n",
       "      <td>Hybrid</td>\n",
       "      <td>Automatic</td>\n",
       "      <td>1200cc</td>\n",
       "      <td>42,000 km</td>\n",
       "      <td>3000000</td>\n",
       "      <td>https://www.pakwheels.com/used-cars/nissan-not...</td>\n",
       "      <td>Nissan Note 2018 for sale in Islamabad</td>\n",
       "    </tr>\n",
       "    <tr>\n",
       "      <th>2</th>\n",
       "      <td>Nissan</td>\n",
       "      <td>2015</td>\n",
       "      <td>Petrol</td>\n",
       "      <td>Automatic</td>\n",
       "      <td>660cc</td>\n",
       "      <td>50,000 km</td>\n",
       "      <td>1675000</td>\n",
       "      <td>https://www.pakwheels.com/used-cars/nissan-day...</td>\n",
       "      <td>Nissan Dayz Highway Star 2015 for sale in Gujr...</td>\n",
       "    </tr>\n",
       "    <tr>\n",
       "      <th>3</th>\n",
       "      <td>Nissan</td>\n",
       "      <td>2014</td>\n",
       "      <td>Petrol</td>\n",
       "      <td>Automatic</td>\n",
       "      <td>660cc</td>\n",
       "      <td>103,000 km</td>\n",
       "      <td>1395000</td>\n",
       "      <td>https://www.pakwheels.com/used-cars/nissan-roo...</td>\n",
       "      <td>Nissan Roox 2014 for sale in Islamabad</td>\n",
       "    </tr>\n",
       "    <tr>\n",
       "      <th>4</th>\n",
       "      <td>Nissan</td>\n",
       "      <td>2018</td>\n",
       "      <td>Petrol</td>\n",
       "      <td>Automatic</td>\n",
       "      <td>1500cc</td>\n",
       "      <td>15,000 km</td>\n",
       "      <td>3200000</td>\n",
       "      <td>https://www.pakwheels.com/used-cars/nissan-not...</td>\n",
       "      <td>Nissan Note 2018 for sale in Islamabad</td>\n",
       "    </tr>\n",
       "  </tbody>\n",
       "</table>\n",
       "</div>"
      ],
      "text/plain": [
       "     Make  Model_Year Fuel_Type Transmission Engine_Capacity  Kms_Driven  \\\n",
       "0  Nissan        2014    Petrol    Automatic           660cc   68,000 km   \n",
       "1  Nissan        2018    Hybrid    Automatic          1200cc   42,000 km   \n",
       "2  Nissan        2015    Petrol    Automatic           660cc   50,000 km   \n",
       "3  Nissan        2014    Petrol    Automatic           660cc  103,000 km   \n",
       "4  Nissan        2018    Petrol    Automatic          1500cc   15,000 km   \n",
       "\n",
       "     Price                                                Url  \\\n",
       "0  1490000  https://www.pakwheels.com/used-cars/nissan-day...   \n",
       "1  3000000  https://www.pakwheels.com/used-cars/nissan-not...   \n",
       "2  1675000  https://www.pakwheels.com/used-cars/nissan-day...   \n",
       "3  1395000  https://www.pakwheels.com/used-cars/nissan-roo...   \n",
       "4  3200000  https://www.pakwheels.com/used-cars/nissan-not...   \n",
       "\n",
       "                                         Description  \n",
       "0  Nissan Dayz Highway Star 2014 for sale in Karachi  \n",
       "1             Nissan Note 2018 for sale in Islamabad  \n",
       "2  Nissan Dayz Highway Star 2015 for sale in Gujr...  \n",
       "3             Nissan Roox 2014 for sale in Islamabad  \n",
       "4             Nissan Note 2018 for sale in Islamabad  "
      ]
     },
     "execution_count": 38,
     "metadata": {},
     "output_type": "execute_result"
    }
   ],
   "source": [
    "nissan = pd.DataFrame({'Make':brand, 'Model_Year':year, 'Fuel_Type':fuelType, \n",
    "             'Transmission':transmission, 'Engine_Capacity':cc, 'Kms_Driven':km_driven,\n",
    "             'Price':price, 'Url':url, 'Description':description})\n",
    "nissan.head()"
   ]
  },
  {
   "cell_type": "code",
   "execution_count": 39,
   "metadata": {},
   "outputs": [],
   "source": [
    "nissan.drop_duplicates(inplace=True)"
   ]
  },
  {
   "cell_type": "code",
   "execution_count": 40,
   "metadata": {},
   "outputs": [],
   "source": [
    "nissan.to_csv('Nissan', index=False)"
   ]
  },
  {
   "cell_type": "code",
   "execution_count": 41,
   "metadata": {},
   "outputs": [
    {
     "data": {
      "text/plain": [
       "(2258, 9)"
      ]
     },
     "execution_count": 41,
     "metadata": {},
     "output_type": "execute_result"
    }
   ],
   "source": [
    "nissan.shape"
   ]
  },
  {
   "cell_type": "code",
   "execution_count": null,
   "metadata": {},
   "outputs": [],
   "source": []
  },
  {
   "cell_type": "markdown",
   "metadata": {},
   "source": [
    "# Hyundai"
   ]
  },
  {
   "cell_type": "code",
   "execution_count": 42,
   "metadata": {},
   "outputs": [],
   "source": [
    "driver.find_element_by_link_text('Hyundai').click()"
   ]
  },
  {
   "cell_type": "code",
   "execution_count": 43,
   "metadata": {},
   "outputs": [],
   "source": [
    "# brand = []\n",
    "# year = []\n",
    "# fuelType = []\n",
    "# transmission = []\n",
    "# cc = []\n",
    "# km_driven = []\n",
    "# price = []\n",
    "# description = []\n",
    "# url = []"
   ]
  },
  {
   "cell_type": "code",
   "execution_count": 45,
   "metadata": {},
   "outputs": [],
   "source": [
    "import json\n",
    "\n",
    "for j in range(98):\n",
    "    time.sleep(10)\n",
    "    cards = driver.find_elements_by_css_selector('.classified-listing   ')\n",
    "    for i in cards:\n",
    "        try:\n",
    "            lib = i.find_element_by_tag_name('script').get_attribute('innerHTML')\n",
    "            item = json.loads(lib.replace('\\n', ''))\n",
    "            brand.append(item['brand']['name'])\n",
    "            year.append(item['modelDate'])\n",
    "            fuelType.append(item['fuelType'])\n",
    "            transmission.append(item['vehicleTransmission'])\n",
    "            cc.append(item['vehicleEngine']['engineDisplacement'])\n",
    "            km_driven.append(item['mileageFromOdometer'])\n",
    "            price.append(item['offers']['price'])\n",
    "            url.append(item['offers']['url'])\n",
    "            description.append(item['name'])\n",
    "        except NoSuchElementException:\n",
    "            pass \n",
    "\n",
    "\n",
    "    try:\n",
    "        time.sleep(3)\n",
    "        element = driver.find_element_by_link_text('Next ›')\n",
    "        actions = ActionChains(driver)\n",
    "        actions.move_to_element(element).perform()\n",
    "        time.sleep(5)\n",
    "        element.click()\n",
    "    except NoSuchElementException:\n",
    "        break"
   ]
  },
  {
   "cell_type": "code",
   "execution_count": 46,
   "metadata": {},
   "outputs": [
    {
     "data": {
      "text/html": [
       "<div>\n",
       "<style scoped>\n",
       "    .dataframe tbody tr th:only-of-type {\n",
       "        vertical-align: middle;\n",
       "    }\n",
       "\n",
       "    .dataframe tbody tr th {\n",
       "        vertical-align: top;\n",
       "    }\n",
       "\n",
       "    .dataframe thead th {\n",
       "        text-align: right;\n",
       "    }\n",
       "</style>\n",
       "<table border=\"1\" class=\"dataframe\">\n",
       "  <thead>\n",
       "    <tr style=\"text-align: right;\">\n",
       "      <th></th>\n",
       "      <th>Make</th>\n",
       "      <th>Model_Year</th>\n",
       "      <th>Fuel_Type</th>\n",
       "      <th>Transmission</th>\n",
       "      <th>Engine_Capacity</th>\n",
       "      <th>Kms_Driven</th>\n",
       "      <th>Price</th>\n",
       "      <th>Url</th>\n",
       "      <th>Description</th>\n",
       "    </tr>\n",
       "  </thead>\n",
       "  <tbody>\n",
       "    <tr>\n",
       "      <th>0</th>\n",
       "      <td>Hyundai</td>\n",
       "      <td>2021</td>\n",
       "      <td>Petrol</td>\n",
       "      <td>Automatic</td>\n",
       "      <td>2000cc</td>\n",
       "      <td>9,000 km</td>\n",
       "      <td>5825000</td>\n",
       "      <td>https://www.pakwheels.com/used-cars/hyundai-tu...</td>\n",
       "      <td>Hyundai Tucson 2021 for sale in Islamabad</td>\n",
       "    </tr>\n",
       "    <tr>\n",
       "      <th>1</th>\n",
       "      <td>Hyundai</td>\n",
       "      <td>2021</td>\n",
       "      <td>Petrol</td>\n",
       "      <td>Automatic</td>\n",
       "      <td>2000cc</td>\n",
       "      <td>3,400 km</td>\n",
       "      <td>3980000</td>\n",
       "      <td>https://www.pakwheels.com/used-cars/hyundai-el...</td>\n",
       "      <td>Hyundai Elantra 2021 for sale in Quetta</td>\n",
       "    </tr>\n",
       "    <tr>\n",
       "      <th>2</th>\n",
       "      <td>Hyundai</td>\n",
       "      <td>2021</td>\n",
       "      <td>Petrol</td>\n",
       "      <td>Automatic</td>\n",
       "      <td>2000cc</td>\n",
       "      <td>12,000 km</td>\n",
       "      <td>5925000</td>\n",
       "      <td>https://www.pakwheels.com/used-cars/hyundai-tu...</td>\n",
       "      <td>Hyundai Tucson 2021 for sale in Islamabad</td>\n",
       "    </tr>\n",
       "    <tr>\n",
       "      <th>3</th>\n",
       "      <td>Hyundai</td>\n",
       "      <td>2021</td>\n",
       "      <td>Petrol</td>\n",
       "      <td>Automatic</td>\n",
       "      <td>2500cc</td>\n",
       "      <td>49 km</td>\n",
       "      <td>8300000</td>\n",
       "      <td>https://www.pakwheels.com/used-cars/hyundai-so...</td>\n",
       "      <td>Hyundai Sonata 2021 for sale in Islamabad</td>\n",
       "    </tr>\n",
       "    <tr>\n",
       "      <th>4</th>\n",
       "      <td>Hyundai</td>\n",
       "      <td>2021</td>\n",
       "      <td>Petrol</td>\n",
       "      <td>Automatic</td>\n",
       "      <td>2000cc</td>\n",
       "      <td>8,000 km</td>\n",
       "      <td>5825000</td>\n",
       "      <td>https://www.pakwheels.com/used-cars/hyundai-tu...</td>\n",
       "      <td>Hyundai Tucson 2021 for sale in Islamabad</td>\n",
       "    </tr>\n",
       "  </tbody>\n",
       "</table>\n",
       "</div>"
      ],
      "text/plain": [
       "      Make  Model_Year Fuel_Type Transmission Engine_Capacity Kms_Driven  \\\n",
       "0  Hyundai        2021    Petrol    Automatic          2000cc   9,000 km   \n",
       "1  Hyundai        2021    Petrol    Automatic          2000cc   3,400 km   \n",
       "2  Hyundai        2021    Petrol    Automatic          2000cc  12,000 km   \n",
       "3  Hyundai        2021    Petrol    Automatic          2500cc      49 km   \n",
       "4  Hyundai        2021    Petrol    Automatic          2000cc   8,000 km   \n",
       "\n",
       "     Price                                                Url  \\\n",
       "0  5825000  https://www.pakwheels.com/used-cars/hyundai-tu...   \n",
       "1  3980000  https://www.pakwheels.com/used-cars/hyundai-el...   \n",
       "2  5925000  https://www.pakwheels.com/used-cars/hyundai-tu...   \n",
       "3  8300000  https://www.pakwheels.com/used-cars/hyundai-so...   \n",
       "4  5825000  https://www.pakwheels.com/used-cars/hyundai-tu...   \n",
       "\n",
       "                                 Description  \n",
       "0  Hyundai Tucson 2021 for sale in Islamabad  \n",
       "1    Hyundai Elantra 2021 for sale in Quetta  \n",
       "2  Hyundai Tucson 2021 for sale in Islamabad  \n",
       "3  Hyundai Sonata 2021 for sale in Islamabad  \n",
       "4  Hyundai Tucson 2021 for sale in Islamabad  "
      ]
     },
     "execution_count": 46,
     "metadata": {},
     "output_type": "execute_result"
    }
   ],
   "source": [
    "hyundai = pd.DataFrame({'Make':brand, 'Model_Year':year, 'Fuel_Type':fuelType, \n",
    "             'Transmission':transmission, 'Engine_Capacity':cc, 'Kms_Driven':km_driven,\n",
    "             'Price':price, 'Url':url, 'Description':description})\n",
    "hyundai.head()"
   ]
  },
  {
   "cell_type": "code",
   "execution_count": 47,
   "metadata": {},
   "outputs": [],
   "source": [
    "hyundai.drop_duplicates(inplace=True)"
   ]
  },
  {
   "cell_type": "code",
   "execution_count": 48,
   "metadata": {},
   "outputs": [],
   "source": [
    "hyundai.to_csv('Hyundai', index=False)"
   ]
  },
  {
   "cell_type": "code",
   "execution_count": 49,
   "metadata": {},
   "outputs": [
    {
     "data": {
      "text/plain": [
       "(1503, 9)"
      ]
     },
     "execution_count": 49,
     "metadata": {},
     "output_type": "execute_result"
    }
   ],
   "source": [
    "hyundai.shape"
   ]
  },
  {
   "cell_type": "code",
   "execution_count": null,
   "metadata": {},
   "outputs": [],
   "source": []
  },
  {
   "cell_type": "markdown",
   "metadata": {},
   "source": [
    "# Changan"
   ]
  },
  {
   "cell_type": "code",
   "execution_count": 50,
   "metadata": {},
   "outputs": [],
   "source": [
    "driver.find_element_by_link_text('Changan').click()"
   ]
  },
  {
   "cell_type": "code",
   "execution_count": 51,
   "metadata": {},
   "outputs": [],
   "source": [
    "# brand = []\n",
    "# year = []\n",
    "# fuelType = []\n",
    "# transmission = []\n",
    "# cc = []\n",
    "# km_driven = []\n",
    "# price = []\n",
    "# description = []\n",
    "# url = []"
   ]
  },
  {
   "cell_type": "code",
   "execution_count": 53,
   "metadata": {},
   "outputs": [],
   "source": [
    "import json\n",
    "\n",
    "for j in range(100):\n",
    "    time.sleep(10)\n",
    "    cards = driver.find_elements_by_css_selector('.classified-listing   ')\n",
    "    for i in cards:\n",
    "        try:\n",
    "            lib = i.find_element_by_tag_name('script').get_attribute('innerHTML')\n",
    "            item = json.loads(lib.replace('\\n', ''))\n",
    "            brand.append(item['brand']['name'])\n",
    "            year.append(item['modelDate'])\n",
    "            fuelType.append(item['fuelType'])\n",
    "            transmission.append(item['vehicleTransmission'])\n",
    "            cc.append(item['vehicleEngine']['engineDisplacement'])\n",
    "            km_driven.append(item['mileageFromOdometer'])\n",
    "            price.append(item['offers']['price'])\n",
    "            url.append(item['offers']['url'])\n",
    "            description.append(item['name'])\n",
    "        except NoSuchElementException:\n",
    "            pass \n",
    "\n",
    "\n",
    "    try:\n",
    "        time.sleep(3)\n",
    "        element = driver.find_element_by_link_text('Next ›')\n",
    "        actions = ActionChains(driver)\n",
    "        actions.move_to_element(element).perform()\n",
    "        time.sleep(5)\n",
    "        element.click()\n",
    "    except NoSuchElementException:\n",
    "        break"
   ]
  },
  {
   "cell_type": "code",
   "execution_count": 54,
   "metadata": {},
   "outputs": [
    {
     "data": {
      "text/html": [
       "<div>\n",
       "<style scoped>\n",
       "    .dataframe tbody tr th:only-of-type {\n",
       "        vertical-align: middle;\n",
       "    }\n",
       "\n",
       "    .dataframe tbody tr th {\n",
       "        vertical-align: top;\n",
       "    }\n",
       "\n",
       "    .dataframe thead th {\n",
       "        text-align: right;\n",
       "    }\n",
       "</style>\n",
       "<table border=\"1\" class=\"dataframe\">\n",
       "  <thead>\n",
       "    <tr style=\"text-align: right;\">\n",
       "      <th></th>\n",
       "      <th>Make</th>\n",
       "      <th>Model_Year</th>\n",
       "      <th>Fuel_Type</th>\n",
       "      <th>Transmission</th>\n",
       "      <th>Engine_Capacity</th>\n",
       "      <th>Kms_Driven</th>\n",
       "      <th>Price</th>\n",
       "      <th>Url</th>\n",
       "      <th>Description</th>\n",
       "    </tr>\n",
       "  </thead>\n",
       "  <tbody>\n",
       "    <tr>\n",
       "      <th>0</th>\n",
       "      <td>Changan</td>\n",
       "      <td>2021</td>\n",
       "      <td>Petrol</td>\n",
       "      <td>Automatic</td>\n",
       "      <td>1500cc</td>\n",
       "      <td>50 km</td>\n",
       "      <td>2825000</td>\n",
       "      <td>https://www.pakwheels.com/used-cars/changan-al...</td>\n",
       "      <td>Changan Alsvin 2021 for sale in Lahore</td>\n",
       "    </tr>\n",
       "    <tr>\n",
       "      <th>1</th>\n",
       "      <td>Changan</td>\n",
       "      <td>2021</td>\n",
       "      <td>Petrol</td>\n",
       "      <td>Automatic</td>\n",
       "      <td>1500cc</td>\n",
       "      <td>5 km</td>\n",
       "      <td>2640000</td>\n",
       "      <td>https://www.pakwheels.com/used-cars/changan-al...</td>\n",
       "      <td>Changan Alsvin 2021 for sale in Karachi</td>\n",
       "    </tr>\n",
       "    <tr>\n",
       "      <th>2</th>\n",
       "      <td>Changan</td>\n",
       "      <td>2021</td>\n",
       "      <td>Petrol</td>\n",
       "      <td>Automatic</td>\n",
       "      <td>1500cc</td>\n",
       "      <td>2,200 km</td>\n",
       "      <td>2790000</td>\n",
       "      <td>https://www.pakwheels.com/used-cars/changan-al...</td>\n",
       "      <td>Changan Alsvin 2021 for sale in Lahore</td>\n",
       "    </tr>\n",
       "    <tr>\n",
       "      <th>3</th>\n",
       "      <td>Changan</td>\n",
       "      <td>2021</td>\n",
       "      <td>Petrol</td>\n",
       "      <td>Automatic</td>\n",
       "      <td>1500cc</td>\n",
       "      <td>50 km</td>\n",
       "      <td>2760000</td>\n",
       "      <td>https://www.pakwheels.com/used-cars/changan-al...</td>\n",
       "      <td>Changan Alsvin 2021 for sale in Lahore</td>\n",
       "    </tr>\n",
       "    <tr>\n",
       "      <th>4</th>\n",
       "      <td>Changan</td>\n",
       "      <td>2021</td>\n",
       "      <td>Petrol</td>\n",
       "      <td>Automatic</td>\n",
       "      <td>1500cc</td>\n",
       "      <td>4,700 km</td>\n",
       "      <td>2720000</td>\n",
       "      <td>https://www.pakwheels.com/used-cars/changan-al...</td>\n",
       "      <td>Changan Alsvin 2021 for sale in Lahore</td>\n",
       "    </tr>\n",
       "  </tbody>\n",
       "</table>\n",
       "</div>"
      ],
      "text/plain": [
       "      Make  Model_Year Fuel_Type Transmission Engine_Capacity Kms_Driven  \\\n",
       "0  Changan        2021    Petrol    Automatic          1500cc      50 km   \n",
       "1  Changan        2021    Petrol    Automatic          1500cc       5 km   \n",
       "2  Changan        2021    Petrol    Automatic          1500cc   2,200 km   \n",
       "3  Changan        2021    Petrol    Automatic          1500cc      50 km   \n",
       "4  Changan        2021    Petrol    Automatic          1500cc   4,700 km   \n",
       "\n",
       "     Price                                                Url  \\\n",
       "0  2825000  https://www.pakwheels.com/used-cars/changan-al...   \n",
       "1  2640000  https://www.pakwheels.com/used-cars/changan-al...   \n",
       "2  2790000  https://www.pakwheels.com/used-cars/changan-al...   \n",
       "3  2760000  https://www.pakwheels.com/used-cars/changan-al...   \n",
       "4  2720000  https://www.pakwheels.com/used-cars/changan-al...   \n",
       "\n",
       "                               Description  \n",
       "0   Changan Alsvin 2021 for sale in Lahore  \n",
       "1  Changan Alsvin 2021 for sale in Karachi  \n",
       "2   Changan Alsvin 2021 for sale in Lahore  \n",
       "3   Changan Alsvin 2021 for sale in Lahore  \n",
       "4   Changan Alsvin 2021 for sale in Lahore  "
      ]
     },
     "execution_count": 54,
     "metadata": {},
     "output_type": "execute_result"
    }
   ],
   "source": [
    "changan = pd.DataFrame({'Make':brand, 'Model_Year':year, 'Fuel_Type':fuelType, \n",
    "             'Transmission':transmission, 'Engine_Capacity':cc, 'Kms_Driven':km_driven,\n",
    "             'Price':price, 'Url':url, 'Description':description})\n",
    "changan.head()"
   ]
  },
  {
   "cell_type": "code",
   "execution_count": 55,
   "metadata": {},
   "outputs": [],
   "source": [
    "changan.drop_duplicates(inplace=True)"
   ]
  },
  {
   "cell_type": "code",
   "execution_count": 56,
   "metadata": {},
   "outputs": [],
   "source": [
    "changan.to_csv('Changan', index=False)"
   ]
  },
  {
   "cell_type": "code",
   "execution_count": 57,
   "metadata": {},
   "outputs": [
    {
     "data": {
      "text/plain": [
       "(691, 9)"
      ]
     },
     "execution_count": 57,
     "metadata": {},
     "output_type": "execute_result"
    }
   ],
   "source": [
    "changan.shape"
   ]
  },
  {
   "cell_type": "code",
   "execution_count": null,
   "metadata": {},
   "outputs": [],
   "source": []
  },
  {
   "cell_type": "markdown",
   "metadata": {},
   "source": [
    "# Mazda"
   ]
  },
  {
   "cell_type": "code",
   "execution_count": 58,
   "metadata": {},
   "outputs": [],
   "source": [
    "driver.find_element_by_link_text('Mazda').click()"
   ]
  },
  {
   "cell_type": "code",
   "execution_count": 59,
   "metadata": {},
   "outputs": [],
   "source": [
    "# brand = []\n",
    "# year = []\n",
    "# fuelType = []\n",
    "# transmission = []\n",
    "# cc = []\n",
    "# km_driven = []\n",
    "# price = []\n",
    "# description = []\n",
    "# url = []"
   ]
  },
  {
   "cell_type": "code",
   "execution_count": 60,
   "metadata": {},
   "outputs": [],
   "source": [
    "import json\n",
    "\n",
    "for j in range(100):\n",
    "    time.sleep(10)\n",
    "    cards = driver.find_elements_by_css_selector('.classified-listing   ')\n",
    "    for i in cards:\n",
    "        try:\n",
    "            lib = i.find_element_by_tag_name('script').get_attribute('innerHTML')\n",
    "            item = json.loads(lib.replace('\\n', ''))\n",
    "            brand.append(item['brand']['name'])\n",
    "            year.append(item['modelDate'])\n",
    "            fuelType.append(item['fuelType'])\n",
    "            transmission.append(item['vehicleTransmission'])\n",
    "            cc.append(item['vehicleEngine']['engineDisplacement'])\n",
    "            km_driven.append(item['mileageFromOdometer'])\n",
    "            price.append(item['offers']['price'])\n",
    "            url.append(item['offers']['url'])\n",
    "            description.append(item['name'])\n",
    "        except NoSuchElementException:\n",
    "            pass \n",
    "\n",
    "\n",
    "    try:\n",
    "        time.sleep(3)\n",
    "        element = driver.find_element_by_link_text('Next ›')\n",
    "        actions = ActionChains(driver)\n",
    "        actions.move_to_element(element).perform()\n",
    "        time.sleep(5)\n",
    "        element.click()\n",
    "    except NoSuchElementException:\n",
    "        break"
   ]
  },
  {
   "cell_type": "code",
   "execution_count": 61,
   "metadata": {},
   "outputs": [
    {
     "data": {
      "text/html": [
       "<div>\n",
       "<style scoped>\n",
       "    .dataframe tbody tr th:only-of-type {\n",
       "        vertical-align: middle;\n",
       "    }\n",
       "\n",
       "    .dataframe tbody tr th {\n",
       "        vertical-align: top;\n",
       "    }\n",
       "\n",
       "    .dataframe thead th {\n",
       "        text-align: right;\n",
       "    }\n",
       "</style>\n",
       "<table border=\"1\" class=\"dataframe\">\n",
       "  <thead>\n",
       "    <tr style=\"text-align: right;\">\n",
       "      <th></th>\n",
       "      <th>Make</th>\n",
       "      <th>Model_Year</th>\n",
       "      <th>Fuel_Type</th>\n",
       "      <th>Transmission</th>\n",
       "      <th>Engine_Capacity</th>\n",
       "      <th>Kms_Driven</th>\n",
       "      <th>Price</th>\n",
       "      <th>Url</th>\n",
       "      <th>Description</th>\n",
       "    </tr>\n",
       "  </thead>\n",
       "  <tbody>\n",
       "    <tr>\n",
       "      <th>0</th>\n",
       "      <td>Mazda</td>\n",
       "      <td>2015</td>\n",
       "      <td>Petrol</td>\n",
       "      <td>Automatic</td>\n",
       "      <td>660cc</td>\n",
       "      <td>45,000 km</td>\n",
       "      <td>1575000</td>\n",
       "      <td>https://www.pakwheels.com/used-cars/mazda-scru...</td>\n",
       "      <td>Mazda Scrum 2015 for sale in Gujranwala</td>\n",
       "    </tr>\n",
       "    <tr>\n",
       "      <th>1</th>\n",
       "      <td>Mazda</td>\n",
       "      <td>2003</td>\n",
       "      <td>Petrol</td>\n",
       "      <td>Manual</td>\n",
       "      <td>1300cc</td>\n",
       "      <td>60,000 km</td>\n",
       "      <td>1550000</td>\n",
       "      <td>https://www.pakwheels.com/used-cars/mazda-rx8-...</td>\n",
       "      <td>Mazda RX8 2003 for sale in Lahore</td>\n",
       "    </tr>\n",
       "    <tr>\n",
       "      <th>2</th>\n",
       "      <td>Mazda</td>\n",
       "      <td>2007</td>\n",
       "      <td>Petrol</td>\n",
       "      <td>Automatic</td>\n",
       "      <td>1500cc</td>\n",
       "      <td>157,943 km</td>\n",
       "      <td>1360000</td>\n",
       "      <td>https://www.pakwheels.com/used-cars/mazda-axel...</td>\n",
       "      <td>Mazda Axela 2007 for sale in Karachi</td>\n",
       "    </tr>\n",
       "    <tr>\n",
       "      <th>3</th>\n",
       "      <td>Mazda</td>\n",
       "      <td>2012</td>\n",
       "      <td>Petrol</td>\n",
       "      <td>Automatic</td>\n",
       "      <td>660cc</td>\n",
       "      <td>76,000 km</td>\n",
       "      <td>1250000</td>\n",
       "      <td>https://www.pakwheels.com/used-cars/mazda-scru...</td>\n",
       "      <td>Mazda Scrum 2012 for sale in Lahore</td>\n",
       "    </tr>\n",
       "    <tr>\n",
       "      <th>4</th>\n",
       "      <td>Mazda</td>\n",
       "      <td>2015</td>\n",
       "      <td>Diesel</td>\n",
       "      <td>Automatic</td>\n",
       "      <td>1500cc</td>\n",
       "      <td>70,000 km</td>\n",
       "      <td>4550000</td>\n",
       "      <td>https://www.pakwheels.com/used-cars/mazda-cx3-...</td>\n",
       "      <td>Mazda Cx3 2015 for sale in Gujranwala</td>\n",
       "    </tr>\n",
       "  </tbody>\n",
       "</table>\n",
       "</div>"
      ],
      "text/plain": [
       "    Make  Model_Year Fuel_Type Transmission Engine_Capacity  Kms_Driven  \\\n",
       "0  Mazda        2015    Petrol    Automatic           660cc   45,000 km   \n",
       "1  Mazda        2003    Petrol       Manual          1300cc   60,000 km   \n",
       "2  Mazda        2007    Petrol    Automatic          1500cc  157,943 km   \n",
       "3  Mazda        2012    Petrol    Automatic           660cc   76,000 km   \n",
       "4  Mazda        2015    Diesel    Automatic          1500cc   70,000 km   \n",
       "\n",
       "     Price                                                Url  \\\n",
       "0  1575000  https://www.pakwheels.com/used-cars/mazda-scru...   \n",
       "1  1550000  https://www.pakwheels.com/used-cars/mazda-rx8-...   \n",
       "2  1360000  https://www.pakwheels.com/used-cars/mazda-axel...   \n",
       "3  1250000  https://www.pakwheels.com/used-cars/mazda-scru...   \n",
       "4  4550000  https://www.pakwheels.com/used-cars/mazda-cx3-...   \n",
       "\n",
       "                               Description  \n",
       "0  Mazda Scrum 2015 for sale in Gujranwala  \n",
       "1        Mazda RX8 2003 for sale in Lahore  \n",
       "2     Mazda Axela 2007 for sale in Karachi  \n",
       "3      Mazda Scrum 2012 for sale in Lahore  \n",
       "4    Mazda Cx3 2015 for sale in Gujranwala  "
      ]
     },
     "execution_count": 61,
     "metadata": {},
     "output_type": "execute_result"
    }
   ],
   "source": [
    "mazda = pd.DataFrame({'Make':brand, 'Model_Year':year, 'Fuel_Type':fuelType, \n",
    "             'Transmission':transmission, 'Engine_Capacity':cc, 'Kms_Driven':km_driven,\n",
    "             'Price':price, 'Url':url, 'Description':description})\n",
    "mazda.head()"
   ]
  },
  {
   "cell_type": "code",
   "execution_count": 62,
   "metadata": {},
   "outputs": [],
   "source": [
    "mazda.drop_duplicates(inplace=True)"
   ]
  },
  {
   "cell_type": "code",
   "execution_count": 63,
   "metadata": {},
   "outputs": [],
   "source": [
    "mazda.to_csv('Mazda', index=False)"
   ]
  },
  {
   "cell_type": "code",
   "execution_count": 64,
   "metadata": {},
   "outputs": [
    {
     "data": {
      "text/plain": [
       "(313, 9)"
      ]
     },
     "execution_count": 64,
     "metadata": {},
     "output_type": "execute_result"
    }
   ],
   "source": [
    "mazda.shape"
   ]
  },
  {
   "cell_type": "code",
   "execution_count": null,
   "metadata": {},
   "outputs": [],
   "source": []
  },
  {
   "cell_type": "markdown",
   "metadata": {},
   "source": [
    "# Prince"
   ]
  },
  {
   "cell_type": "code",
   "execution_count": 65,
   "metadata": {},
   "outputs": [],
   "source": [
    "driver.find_element_by_link_text('Prince').click()"
   ]
  },
  {
   "cell_type": "code",
   "execution_count": 66,
   "metadata": {},
   "outputs": [],
   "source": [
    "# brand = []\n",
    "# year = []\n",
    "# fuelType = []\n",
    "# transmission = []\n",
    "# cc = []\n",
    "# km_driven = []\n",
    "# price = []\n",
    "# description = []\n",
    "# url = []"
   ]
  },
  {
   "cell_type": "code",
   "execution_count": 67,
   "metadata": {},
   "outputs": [],
   "source": [
    "import json\n",
    "\n",
    "for j in range(100):\n",
    "    time.sleep(10)\n",
    "    cards = driver.find_elements_by_css_selector('.classified-listing   ')\n",
    "    for i in cards:\n",
    "        try:\n",
    "            lib = i.find_element_by_tag_name('script').get_attribute('innerHTML')\n",
    "            item = json.loads(lib.replace('\\n', ''))\n",
    "            brand.append(item['brand']['name'])\n",
    "            year.append(item['modelDate'])\n",
    "            fuelType.append(item['fuelType'])\n",
    "            transmission.append(item['vehicleTransmission'])\n",
    "            cc.append(item['vehicleEngine']['engineDisplacement'])\n",
    "            km_driven.append(item['mileageFromOdometer'])\n",
    "            price.append(item['offers']['price'])\n",
    "            url.append(item['offers']['url'])\n",
    "            description.append(item['name'])\n",
    "        except NoSuchElementException:\n",
    "            pass \n",
    "\n",
    "\n",
    "    try:\n",
    "        time.sleep(3)\n",
    "        element = driver.find_element_by_link_text('Next ›')\n",
    "        actions = ActionChains(driver)\n",
    "        actions.move_to_element(element).perform()\n",
    "        time.sleep(5)\n",
    "        element.click()\n",
    "    except NoSuchElementException:\n",
    "        break"
   ]
  },
  {
   "cell_type": "code",
   "execution_count": 68,
   "metadata": {},
   "outputs": [
    {
     "data": {
      "text/html": [
       "<div>\n",
       "<style scoped>\n",
       "    .dataframe tbody tr th:only-of-type {\n",
       "        vertical-align: middle;\n",
       "    }\n",
       "\n",
       "    .dataframe tbody tr th {\n",
       "        vertical-align: top;\n",
       "    }\n",
       "\n",
       "    .dataframe thead th {\n",
       "        text-align: right;\n",
       "    }\n",
       "</style>\n",
       "<table border=\"1\" class=\"dataframe\">\n",
       "  <thead>\n",
       "    <tr style=\"text-align: right;\">\n",
       "      <th></th>\n",
       "      <th>Make</th>\n",
       "      <th>Model_Year</th>\n",
       "      <th>Fuel_Type</th>\n",
       "      <th>Transmission</th>\n",
       "      <th>Engine_Capacity</th>\n",
       "      <th>Kms_Driven</th>\n",
       "      <th>Price</th>\n",
       "      <th>Url</th>\n",
       "      <th>Description</th>\n",
       "    </tr>\n",
       "  </thead>\n",
       "  <tbody>\n",
       "    <tr>\n",
       "      <th>0</th>\n",
       "      <td>Prince</td>\n",
       "      <td>2020</td>\n",
       "      <td>Petrol</td>\n",
       "      <td>Manual</td>\n",
       "      <td>800cc</td>\n",
       "      <td>6,139 km</td>\n",
       "      <td>1130000</td>\n",
       "      <td>https://www.pakwheels.com/used-cars/prince-pea...</td>\n",
       "      <td>Prince Pearl 2020 for sale in Lahore</td>\n",
       "    </tr>\n",
       "    <tr>\n",
       "      <th>1</th>\n",
       "      <td>Prince</td>\n",
       "      <td>2021</td>\n",
       "      <td>Petrol</td>\n",
       "      <td>Manual</td>\n",
       "      <td>800cc</td>\n",
       "      <td>1 km</td>\n",
       "      <td>1111000</td>\n",
       "      <td>https://www.pakwheels.com/used-cars/prince-pea...</td>\n",
       "      <td>Prince Pearl 2021 for sale in Gujranwala</td>\n",
       "    </tr>\n",
       "    <tr>\n",
       "      <th>2</th>\n",
       "      <td>Prince</td>\n",
       "      <td>2021</td>\n",
       "      <td>Petrol</td>\n",
       "      <td>Manual</td>\n",
       "      <td>1000cc</td>\n",
       "      <td>100 km</td>\n",
       "      <td>1360000</td>\n",
       "      <td>https://www.pakwheels.com/used-cars/prince-k07...</td>\n",
       "      <td>Prince K07 2021 for sale in Gujranwala</td>\n",
       "    </tr>\n",
       "    <tr>\n",
       "      <th>3</th>\n",
       "      <td>Prince</td>\n",
       "      <td>2021</td>\n",
       "      <td>Petrol</td>\n",
       "      <td>Manual</td>\n",
       "      <td>800cc</td>\n",
       "      <td>250 km</td>\n",
       "      <td>1199000</td>\n",
       "      <td>https://www.pakwheels.com/used-cars/prince-pea...</td>\n",
       "      <td>Prince Pearl 2021 for sale in Gujranwala</td>\n",
       "    </tr>\n",
       "    <tr>\n",
       "      <th>4</th>\n",
       "      <td>Prince</td>\n",
       "      <td>2020</td>\n",
       "      <td>Petrol</td>\n",
       "      <td>Manual</td>\n",
       "      <td>800cc</td>\n",
       "      <td>25,000 km</td>\n",
       "      <td>1185000</td>\n",
       "      <td>https://www.pakwheels.com/used-cars/prince-pea...</td>\n",
       "      <td>Prince Pearl 2020 for sale in Gujranwala</td>\n",
       "    </tr>\n",
       "  </tbody>\n",
       "</table>\n",
       "</div>"
      ],
      "text/plain": [
       "     Make  Model_Year Fuel_Type Transmission Engine_Capacity Kms_Driven  \\\n",
       "0  Prince        2020    Petrol       Manual           800cc   6,139 km   \n",
       "1  Prince        2021    Petrol       Manual           800cc       1 km   \n",
       "2  Prince        2021    Petrol       Manual          1000cc     100 km   \n",
       "3  Prince        2021    Petrol       Manual           800cc     250 km   \n",
       "4  Prince        2020    Petrol       Manual           800cc  25,000 km   \n",
       "\n",
       "     Price                                                Url  \\\n",
       "0  1130000  https://www.pakwheels.com/used-cars/prince-pea...   \n",
       "1  1111000  https://www.pakwheels.com/used-cars/prince-pea...   \n",
       "2  1360000  https://www.pakwheels.com/used-cars/prince-k07...   \n",
       "3  1199000  https://www.pakwheels.com/used-cars/prince-pea...   \n",
       "4  1185000  https://www.pakwheels.com/used-cars/prince-pea...   \n",
       "\n",
       "                                Description  \n",
       "0      Prince Pearl 2020 for sale in Lahore  \n",
       "1  Prince Pearl 2021 for sale in Gujranwala  \n",
       "2    Prince K07 2021 for sale in Gujranwala  \n",
       "3  Prince Pearl 2021 for sale in Gujranwala  \n",
       "4  Prince Pearl 2020 for sale in Gujranwala  "
      ]
     },
     "execution_count": 68,
     "metadata": {},
     "output_type": "execute_result"
    }
   ],
   "source": [
    "prince = pd.DataFrame({'Make':brand, 'Model_Year':year, 'Fuel_Type':fuelType, \n",
    "             'Transmission':transmission, 'Engine_Capacity':cc, 'Kms_Driven':km_driven,\n",
    "             'Price':price, 'Url':url, 'Description':description})\n",
    "prince.head()"
   ]
  },
  {
   "cell_type": "code",
   "execution_count": 69,
   "metadata": {},
   "outputs": [],
   "source": [
    "prince.drop_duplicates(inplace=True)"
   ]
  },
  {
   "cell_type": "code",
   "execution_count": 70,
   "metadata": {},
   "outputs": [],
   "source": [
    "prince.to_csv('Prince', index=False)"
   ]
  },
  {
   "cell_type": "code",
   "execution_count": 71,
   "metadata": {},
   "outputs": [
    {
     "data": {
      "text/plain": [
       "(203, 9)"
      ]
     },
     "execution_count": 71,
     "metadata": {},
     "output_type": "execute_result"
    }
   ],
   "source": [
    "prince.shape"
   ]
  },
  {
   "cell_type": "code",
   "execution_count": null,
   "metadata": {},
   "outputs": [],
   "source": []
  },
  {
   "cell_type": "markdown",
   "metadata": {},
   "source": [
    "# Lexus"
   ]
  },
  {
   "cell_type": "code",
   "execution_count": 72,
   "metadata": {},
   "outputs": [],
   "source": [
    "driver.find_element_by_link_text('Lexus').click()"
   ]
  },
  {
   "cell_type": "code",
   "execution_count": 73,
   "metadata": {},
   "outputs": [],
   "source": [
    "# brand = []\n",
    "# year = []\n",
    "# fuelType = []\n",
    "# transmission = []\n",
    "# cc = []\n",
    "# km_driven = []\n",
    "# price = []\n",
    "# description = []\n",
    "# url = []"
   ]
  },
  {
   "cell_type": "code",
   "execution_count": 75,
   "metadata": {},
   "outputs": [],
   "source": [
    "import json\n",
    "\n",
    "for j in range(98):\n",
    "    time.sleep(10)\n",
    "    cards = driver.find_elements_by_css_selector('.classified-listing   ')\n",
    "    for i in cards:\n",
    "        try:\n",
    "            lib = i.find_element_by_tag_name('script').get_attribute('innerHTML')\n",
    "            item = json.loads(lib.replace('\\n', ''))\n",
    "            brand.append(item['brand']['name'])\n",
    "            year.append(item['modelDate'])\n",
    "            fuelType.append(item['fuelType'])\n",
    "            transmission.append(item['vehicleTransmission'])\n",
    "            cc.append(item['vehicleEngine']['engineDisplacement'])\n",
    "            km_driven.append(item['mileageFromOdometer'])\n",
    "            price.append(item['offers']['price'])\n",
    "            url.append(item['offers']['url'])\n",
    "            description.append(item['name'])\n",
    "        except NoSuchElementException:\n",
    "            pass \n",
    "\n",
    "\n",
    "    try:\n",
    "        time.sleep(3)\n",
    "        element = driver.find_element_by_link_text('Next ›')\n",
    "        actions = ActionChains(driver)\n",
    "        actions.move_to_element(element).perform()\n",
    "        time.sleep(5)\n",
    "        element.click()\n",
    "    except NoSuchElementException:\n",
    "        break"
   ]
  },
  {
   "cell_type": "code",
   "execution_count": 76,
   "metadata": {},
   "outputs": [
    {
     "data": {
      "text/html": [
       "<div>\n",
       "<style scoped>\n",
       "    .dataframe tbody tr th:only-of-type {\n",
       "        vertical-align: middle;\n",
       "    }\n",
       "\n",
       "    .dataframe tbody tr th {\n",
       "        vertical-align: top;\n",
       "    }\n",
       "\n",
       "    .dataframe thead th {\n",
       "        text-align: right;\n",
       "    }\n",
       "</style>\n",
       "<table border=\"1\" class=\"dataframe\">\n",
       "  <thead>\n",
       "    <tr style=\"text-align: right;\">\n",
       "      <th></th>\n",
       "      <th>Make</th>\n",
       "      <th>Model_Year</th>\n",
       "      <th>Fuel_Type</th>\n",
       "      <th>Transmission</th>\n",
       "      <th>Engine_Capacity</th>\n",
       "      <th>Kms_Driven</th>\n",
       "      <th>Price</th>\n",
       "      <th>Url</th>\n",
       "      <th>Description</th>\n",
       "    </tr>\n",
       "  </thead>\n",
       "  <tbody>\n",
       "    <tr>\n",
       "      <th>0</th>\n",
       "      <td>Lexus</td>\n",
       "      <td>2012</td>\n",
       "      <td>Hybrid</td>\n",
       "      <td>Automatic</td>\n",
       "      <td>3500cc</td>\n",
       "      <td>89,000 km</td>\n",
       "      <td>12000000</td>\n",
       "      <td>https://www.pakwheels.com/used-cars/lexus-rx-s...</td>\n",
       "      <td>Lexus RX Series 2012 for sale in Karachi</td>\n",
       "    </tr>\n",
       "    <tr>\n",
       "      <th>1</th>\n",
       "      <td>Lexus</td>\n",
       "      <td>2016</td>\n",
       "      <td>Petrol</td>\n",
       "      <td>Automatic</td>\n",
       "      <td>5700cc</td>\n",
       "      <td>33,000 km</td>\n",
       "      <td>48500000</td>\n",
       "      <td>https://www.pakwheels.com/used-cars/lexus-lx-s...</td>\n",
       "      <td>Lexus LX Series 2016 for sale in Karachi</td>\n",
       "    </tr>\n",
       "    <tr>\n",
       "      <th>2</th>\n",
       "      <td>Lexus</td>\n",
       "      <td>2016</td>\n",
       "      <td>Petrol</td>\n",
       "      <td>Automatic</td>\n",
       "      <td>3500cc</td>\n",
       "      <td>22,000 km</td>\n",
       "      <td>25000000</td>\n",
       "      <td>https://www.pakwheels.com/used-cars/lexus-rx-s...</td>\n",
       "      <td>Lexus RX Series 2016 for sale in Karachi</td>\n",
       "    </tr>\n",
       "    <tr>\n",
       "      <th>3</th>\n",
       "      <td>Lexus</td>\n",
       "      <td>2016</td>\n",
       "      <td>Petrol</td>\n",
       "      <td>Automatic</td>\n",
       "      <td>5663cc</td>\n",
       "      <td>62,000 km</td>\n",
       "      <td>49500000</td>\n",
       "      <td>https://www.pakwheels.com/used-cars/lexus-lx-s...</td>\n",
       "      <td>Lexus LX Series 2016 for sale in Islamabad</td>\n",
       "    </tr>\n",
       "    <tr>\n",
       "      <th>4</th>\n",
       "      <td>Lexus</td>\n",
       "      <td>2012</td>\n",
       "      <td>Hybrid</td>\n",
       "      <td>Automatic</td>\n",
       "      <td>3500cc</td>\n",
       "      <td>71,557 km</td>\n",
       "      <td>9000000</td>\n",
       "      <td>https://www.pakwheels.com/used-cars/lexus-rx-s...</td>\n",
       "      <td>Lexus RX Series 2012 for sale in Lahore</td>\n",
       "    </tr>\n",
       "  </tbody>\n",
       "</table>\n",
       "</div>"
      ],
      "text/plain": [
       "    Make  Model_Year Fuel_Type Transmission Engine_Capacity Kms_Driven  \\\n",
       "0  Lexus        2012    Hybrid    Automatic          3500cc  89,000 km   \n",
       "1  Lexus        2016    Petrol    Automatic          5700cc  33,000 km   \n",
       "2  Lexus        2016    Petrol    Automatic          3500cc  22,000 km   \n",
       "3  Lexus        2016    Petrol    Automatic          5663cc  62,000 km   \n",
       "4  Lexus        2012    Hybrid    Automatic          3500cc  71,557 km   \n",
       "\n",
       "      Price                                                Url  \\\n",
       "0  12000000  https://www.pakwheels.com/used-cars/lexus-rx-s...   \n",
       "1  48500000  https://www.pakwheels.com/used-cars/lexus-lx-s...   \n",
       "2  25000000  https://www.pakwheels.com/used-cars/lexus-rx-s...   \n",
       "3  49500000  https://www.pakwheels.com/used-cars/lexus-lx-s...   \n",
       "4   9000000  https://www.pakwheels.com/used-cars/lexus-rx-s...   \n",
       "\n",
       "                                  Description  \n",
       "0    Lexus RX Series 2012 for sale in Karachi  \n",
       "1    Lexus LX Series 2016 for sale in Karachi  \n",
       "2    Lexus RX Series 2016 for sale in Karachi  \n",
       "3  Lexus LX Series 2016 for sale in Islamabad  \n",
       "4     Lexus RX Series 2012 for sale in Lahore  "
      ]
     },
     "execution_count": 76,
     "metadata": {},
     "output_type": "execute_result"
    }
   ],
   "source": [
    "lexus = pd.DataFrame({'Make':brand, 'Model_Year':year, 'Fuel_Type':fuelType, \n",
    "             'Transmission':transmission, 'Engine_Capacity':cc, 'Kms_Driven':km_driven,\n",
    "             'Price':price, 'Url':url, 'Description':description})\n",
    "lexus.head()"
   ]
  },
  {
   "cell_type": "code",
   "execution_count": 77,
   "metadata": {},
   "outputs": [
    {
     "data": {
      "text/plain": [
       "(168, 9)"
      ]
     },
     "execution_count": 77,
     "metadata": {},
     "output_type": "execute_result"
    }
   ],
   "source": [
    "lexus.drop_duplicates(inplace=True)\n",
    "lexus.to_csv('Lexus', index=False)\n",
    "lexus.shape"
   ]
  },
  {
   "cell_type": "code",
   "execution_count": null,
   "metadata": {},
   "outputs": [],
   "source": []
  },
  {
   "cell_type": "markdown",
   "metadata": {},
   "source": [
    "# United"
   ]
  },
  {
   "cell_type": "code",
   "execution_count": 78,
   "metadata": {},
   "outputs": [],
   "source": [
    "driver.find_element_by_link_text('United').click()"
   ]
  },
  {
   "cell_type": "code",
   "execution_count": 79,
   "metadata": {},
   "outputs": [],
   "source": [
    "# brand = []\n",
    "# year = []\n",
    "# fuelType = []\n",
    "# transmission = []\n",
    "# cc = []\n",
    "# km_driven = []\n",
    "# price = []\n",
    "# description = []\n",
    "# url = []"
   ]
  },
  {
   "cell_type": "code",
   "execution_count": 80,
   "metadata": {},
   "outputs": [],
   "source": [
    "import json\n",
    "\n",
    "for j in range(98):\n",
    "    time.sleep(10)\n",
    "    cards = driver.find_elements_by_css_selector('.classified-listing   ')\n",
    "    for i in cards:\n",
    "        try:\n",
    "            lib = i.find_element_by_tag_name('script').get_attribute('innerHTML')\n",
    "            item = json.loads(lib.replace('\\n', ''))\n",
    "            brand.append(item['brand']['name'])\n",
    "            year.append(item['modelDate'])\n",
    "            fuelType.append(item['fuelType'])\n",
    "            transmission.append(item['vehicleTransmission'])\n",
    "            cc.append(item['vehicleEngine']['engineDisplacement'])\n",
    "            km_driven.append(item['mileageFromOdometer'])\n",
    "            price.append(item['offers']['price'])\n",
    "            url.append(item['offers']['url'])\n",
    "            description.append(item['name'])\n",
    "        except NoSuchElementException:\n",
    "            pass \n",
    "\n",
    "\n",
    "    try:\n",
    "        time.sleep(3)\n",
    "        element = driver.find_element_by_link_text('Next ›')\n",
    "        actions = ActionChains(driver)\n",
    "        actions.move_to_element(element).perform()\n",
    "        time.sleep(5)\n",
    "        element.click()\n",
    "    except NoSuchElementException:\n",
    "        break"
   ]
  },
  {
   "cell_type": "code",
   "execution_count": 81,
   "metadata": {},
   "outputs": [
    {
     "data": {
      "text/html": [
       "<div>\n",
       "<style scoped>\n",
       "    .dataframe tbody tr th:only-of-type {\n",
       "        vertical-align: middle;\n",
       "    }\n",
       "\n",
       "    .dataframe tbody tr th {\n",
       "        vertical-align: top;\n",
       "    }\n",
       "\n",
       "    .dataframe thead th {\n",
       "        text-align: right;\n",
       "    }\n",
       "</style>\n",
       "<table border=\"1\" class=\"dataframe\">\n",
       "  <thead>\n",
       "    <tr style=\"text-align: right;\">\n",
       "      <th></th>\n",
       "      <th>Make</th>\n",
       "      <th>Model_Year</th>\n",
       "      <th>Fuel_Type</th>\n",
       "      <th>Transmission</th>\n",
       "      <th>Engine_Capacity</th>\n",
       "      <th>Kms_Driven</th>\n",
       "      <th>Price</th>\n",
       "      <th>Url</th>\n",
       "      <th>Description</th>\n",
       "    </tr>\n",
       "  </thead>\n",
       "  <tbody>\n",
       "    <tr>\n",
       "      <th>0</th>\n",
       "      <td>United</td>\n",
       "      <td>2021</td>\n",
       "      <td>Petrol</td>\n",
       "      <td>Manual</td>\n",
       "      <td>1000cc</td>\n",
       "      <td>1 km</td>\n",
       "      <td>1259000</td>\n",
       "      <td>https://www.pakwheels.com/used-cars/united-alp...</td>\n",
       "      <td>United Alpha 2021 for sale in Lahore</td>\n",
       "    </tr>\n",
       "    <tr>\n",
       "      <th>1</th>\n",
       "      <td>United</td>\n",
       "      <td>2021</td>\n",
       "      <td>Petrol</td>\n",
       "      <td>Manual</td>\n",
       "      <td>800cc</td>\n",
       "      <td>1 km</td>\n",
       "      <td>1030000</td>\n",
       "      <td>https://www.pakwheels.com/used-cars/united-bra...</td>\n",
       "      <td>United Bravo 2021 for sale in Lahore</td>\n",
       "    </tr>\n",
       "    <tr>\n",
       "      <th>2</th>\n",
       "      <td>United</td>\n",
       "      <td>2021</td>\n",
       "      <td>Petrol</td>\n",
       "      <td>Manual</td>\n",
       "      <td>1000cc</td>\n",
       "      <td>1,910 km</td>\n",
       "      <td>1340000</td>\n",
       "      <td>https://www.pakwheels.com/used-cars/united-alp...</td>\n",
       "      <td>United Alpha 2021 for sale in Lahore</td>\n",
       "    </tr>\n",
       "    <tr>\n",
       "      <th>3</th>\n",
       "      <td>United</td>\n",
       "      <td>2019</td>\n",
       "      <td>Petrol</td>\n",
       "      <td>Manual</td>\n",
       "      <td>800cc</td>\n",
       "      <td>63,000 km</td>\n",
       "      <td>820000</td>\n",
       "      <td>https://www.pakwheels.com/used-cars/united-bra...</td>\n",
       "      <td>United Bravo 2019 for sale in Lahore</td>\n",
       "    </tr>\n",
       "    <tr>\n",
       "      <th>4</th>\n",
       "      <td>United</td>\n",
       "      <td>2021</td>\n",
       "      <td>Petrol</td>\n",
       "      <td>Manual</td>\n",
       "      <td>800cc</td>\n",
       "      <td>12,688 km</td>\n",
       "      <td>1030000</td>\n",
       "      <td>https://www.pakwheels.com/used-cars/united-bra...</td>\n",
       "      <td>United Bravo 2021 for sale in Lahore</td>\n",
       "    </tr>\n",
       "  </tbody>\n",
       "</table>\n",
       "</div>"
      ],
      "text/plain": [
       "     Make  Model_Year Fuel_Type Transmission Engine_Capacity Kms_Driven  \\\n",
       "0  United        2021    Petrol       Manual          1000cc       1 km   \n",
       "1  United        2021    Petrol       Manual           800cc       1 km   \n",
       "2  United        2021    Petrol       Manual          1000cc   1,910 km   \n",
       "3  United        2019    Petrol       Manual           800cc  63,000 km   \n",
       "4  United        2021    Petrol       Manual           800cc  12,688 km   \n",
       "\n",
       "     Price                                                Url  \\\n",
       "0  1259000  https://www.pakwheels.com/used-cars/united-alp...   \n",
       "1  1030000  https://www.pakwheels.com/used-cars/united-bra...   \n",
       "2  1340000  https://www.pakwheels.com/used-cars/united-alp...   \n",
       "3   820000  https://www.pakwheels.com/used-cars/united-bra...   \n",
       "4  1030000  https://www.pakwheels.com/used-cars/united-bra...   \n",
       "\n",
       "                            Description  \n",
       "0  United Alpha 2021 for sale in Lahore  \n",
       "1  United Bravo 2021 for sale in Lahore  \n",
       "2  United Alpha 2021 for sale in Lahore  \n",
       "3  United Bravo 2019 for sale in Lahore  \n",
       "4  United Bravo 2021 for sale in Lahore  "
      ]
     },
     "execution_count": 81,
     "metadata": {},
     "output_type": "execute_result"
    }
   ],
   "source": [
    "united = pd.DataFrame({'Make':brand, 'Model_Year':year, 'Fuel_Type':fuelType, \n",
    "             'Transmission':transmission, 'Engine_Capacity':cc, 'Kms_Driven':km_driven,\n",
    "             'Price':price, 'Url':url, 'Description':description})\n",
    "united.head()"
   ]
  },
  {
   "cell_type": "code",
   "execution_count": 82,
   "metadata": {},
   "outputs": [
    {
     "data": {
      "text/plain": [
       "(116, 9)"
      ]
     },
     "execution_count": 82,
     "metadata": {},
     "output_type": "execute_result"
    }
   ],
   "source": [
    "united.drop_duplicates(inplace=True)\n",
    "united.to_csv('United', index=False)\n",
    "united.shape"
   ]
  },
  {
   "cell_type": "code",
   "execution_count": null,
   "metadata": {},
   "outputs": [],
   "source": []
  },
  {
   "cell_type": "markdown",
   "metadata": {},
   "source": [
    "# Proton"
   ]
  },
  {
   "cell_type": "code",
   "execution_count": 83,
   "metadata": {},
   "outputs": [],
   "source": [
    "driver.find_element_by_link_text('Proton').click()"
   ]
  },
  {
   "cell_type": "code",
   "execution_count": 84,
   "metadata": {},
   "outputs": [],
   "source": [
    "# brand = []\n",
    "# year = []\n",
    "# fuelType = []\n",
    "# transmission = []\n",
    "# cc = []\n",
    "# km_driven = []\n",
    "# price = []\n",
    "# description = []\n",
    "# url = []"
   ]
  },
  {
   "cell_type": "code",
   "execution_count": 85,
   "metadata": {},
   "outputs": [],
   "source": [
    "import json\n",
    "\n",
    "for j in range(98):\n",
    "    time.sleep(10)\n",
    "    cards = driver.find_elements_by_css_selector('.classified-listing   ')\n",
    "    for i in cards:\n",
    "        try:\n",
    "            lib = i.find_element_by_tag_name('script').get_attribute('innerHTML')\n",
    "            item = json.loads(lib.replace('\\n', ''))\n",
    "            brand.append(item['brand']['name'])\n",
    "            year.append(item['modelDate'])\n",
    "            fuelType.append(item['fuelType'])\n",
    "            transmission.append(item['vehicleTransmission'])\n",
    "            cc.append(item['vehicleEngine']['engineDisplacement'])\n",
    "            km_driven.append(item['mileageFromOdometer'])\n",
    "            price.append(item['offers']['price'])\n",
    "            url.append(item['offers']['url'])\n",
    "            description.append(item['name'])\n",
    "        except NoSuchElementException:\n",
    "            pass \n",
    "\n",
    "\n",
    "    try:\n",
    "        time.sleep(3)\n",
    "        element = driver.find_element_by_link_text('Next ›')\n",
    "        actions = ActionChains(driver)\n",
    "        actions.move_to_element(element).perform()\n",
    "        time.sleep(5)\n",
    "        element.click()\n",
    "    except NoSuchElementException:\n",
    "        break"
   ]
  },
  {
   "cell_type": "code",
   "execution_count": 86,
   "metadata": {},
   "outputs": [
    {
     "data": {
      "text/html": [
       "<div>\n",
       "<style scoped>\n",
       "    .dataframe tbody tr th:only-of-type {\n",
       "        vertical-align: middle;\n",
       "    }\n",
       "\n",
       "    .dataframe tbody tr th {\n",
       "        vertical-align: top;\n",
       "    }\n",
       "\n",
       "    .dataframe thead th {\n",
       "        text-align: right;\n",
       "    }\n",
       "</style>\n",
       "<table border=\"1\" class=\"dataframe\">\n",
       "  <thead>\n",
       "    <tr style=\"text-align: right;\">\n",
       "      <th></th>\n",
       "      <th>Make</th>\n",
       "      <th>Model_Year</th>\n",
       "      <th>Fuel_Type</th>\n",
       "      <th>Transmission</th>\n",
       "      <th>Engine_Capacity</th>\n",
       "      <th>Kms_Driven</th>\n",
       "      <th>Price</th>\n",
       "      <th>Url</th>\n",
       "      <th>Description</th>\n",
       "    </tr>\n",
       "  </thead>\n",
       "  <tbody>\n",
       "    <tr>\n",
       "      <th>0</th>\n",
       "      <td>Proton</td>\n",
       "      <td>2007</td>\n",
       "      <td>Petrol</td>\n",
       "      <td>Manual</td>\n",
       "      <td>1300cc</td>\n",
       "      <td>130,000 km</td>\n",
       "      <td>750000</td>\n",
       "      <td>https://www.pakwheels.com/used-cars/proton-sag...</td>\n",
       "      <td>Proton Saga 2007 for sale in Islamabad</td>\n",
       "    </tr>\n",
       "    <tr>\n",
       "      <th>1</th>\n",
       "      <td>Proton</td>\n",
       "      <td>2021</td>\n",
       "      <td>Petrol</td>\n",
       "      <td>Automatic</td>\n",
       "      <td>1300cc</td>\n",
       "      <td>1 km</td>\n",
       "      <td>2660000</td>\n",
       "      <td>https://www.pakwheels.com/used-cars/proton-sag...</td>\n",
       "      <td>Proton Saga 2021 for sale in Islamabad</td>\n",
       "    </tr>\n",
       "    <tr>\n",
       "      <th>2</th>\n",
       "      <td>Proton</td>\n",
       "      <td>2021</td>\n",
       "      <td>Petrol</td>\n",
       "      <td>Automatic</td>\n",
       "      <td>1500cc</td>\n",
       "      <td>54 km</td>\n",
       "      <td>5650000</td>\n",
       "      <td>https://www.pakwheels.com/used-cars/proton-x70...</td>\n",
       "      <td>Proton X70 2021 for sale in Lahore</td>\n",
       "    </tr>\n",
       "    <tr>\n",
       "      <th>3</th>\n",
       "      <td>Proton</td>\n",
       "      <td>2021</td>\n",
       "      <td>Petrol</td>\n",
       "      <td>Automatic</td>\n",
       "      <td>1500cc</td>\n",
       "      <td>340 km</td>\n",
       "      <td>6350000</td>\n",
       "      <td>https://www.pakwheels.com/used-cars/proton-x70...</td>\n",
       "      <td>Proton X70 2021 for sale in Islamabad</td>\n",
       "    </tr>\n",
       "    <tr>\n",
       "      <th>4</th>\n",
       "      <td>Proton</td>\n",
       "      <td>2021</td>\n",
       "      <td>Petrol</td>\n",
       "      <td>Automatic</td>\n",
       "      <td>1300cc</td>\n",
       "      <td>3,265 km</td>\n",
       "      <td>2700000</td>\n",
       "      <td>https://www.pakwheels.com/used-cars/proton-sag...</td>\n",
       "      <td>Proton Saga 2021 for sale in Karachi</td>\n",
       "    </tr>\n",
       "  </tbody>\n",
       "</table>\n",
       "</div>"
      ],
      "text/plain": [
       "     Make  Model_Year Fuel_Type Transmission Engine_Capacity  Kms_Driven  \\\n",
       "0  Proton        2007    Petrol       Manual          1300cc  130,000 km   \n",
       "1  Proton        2021    Petrol    Automatic          1300cc        1 km   \n",
       "2  Proton        2021    Petrol    Automatic          1500cc       54 km   \n",
       "3  Proton        2021    Petrol    Automatic          1500cc      340 km   \n",
       "4  Proton        2021    Petrol    Automatic          1300cc    3,265 km   \n",
       "\n",
       "     Price                                                Url  \\\n",
       "0   750000  https://www.pakwheels.com/used-cars/proton-sag...   \n",
       "1  2660000  https://www.pakwheels.com/used-cars/proton-sag...   \n",
       "2  5650000  https://www.pakwheels.com/used-cars/proton-x70...   \n",
       "3  6350000  https://www.pakwheels.com/used-cars/proton-x70...   \n",
       "4  2700000  https://www.pakwheels.com/used-cars/proton-sag...   \n",
       "\n",
       "                              Description  \n",
       "0  Proton Saga 2007 for sale in Islamabad  \n",
       "1  Proton Saga 2021 for sale in Islamabad  \n",
       "2      Proton X70 2021 for sale in Lahore  \n",
       "3   Proton X70 2021 for sale in Islamabad  \n",
       "4    Proton Saga 2021 for sale in Karachi  "
      ]
     },
     "execution_count": 86,
     "metadata": {},
     "output_type": "execute_result"
    }
   ],
   "source": [
    "proton = pd.DataFrame({'Make':brand, 'Model_Year':year, 'Fuel_Type':fuelType, \n",
    "             'Transmission':transmission, 'Engine_Capacity':cc, 'Kms_Driven':km_driven,\n",
    "             'Price':price, 'Url':url, 'Description':description})\n",
    "proton.head()"
   ]
  },
  {
   "cell_type": "code",
   "execution_count": 87,
   "metadata": {},
   "outputs": [
    {
     "data": {
      "text/plain": [
       "(101, 9)"
      ]
     },
     "execution_count": 87,
     "metadata": {},
     "output_type": "execute_result"
    }
   ],
   "source": [
    "proton.drop_duplicates(inplace=True)\n",
    "proton.to_csv('Proton', index=False)\n",
    "proton.shape"
   ]
  },
  {
   "cell_type": "code",
   "execution_count": null,
   "metadata": {},
   "outputs": [],
   "source": []
  },
  {
   "cell_type": "code",
   "execution_count": null,
   "metadata": {},
   "outputs": [],
   "source": []
  },
  {
   "cell_type": "code",
   "execution_count": null,
   "metadata": {},
   "outputs": [],
   "source": []
  },
  {
   "cell_type": "code",
   "execution_count": null,
   "metadata": {},
   "outputs": [],
   "source": []
  },
  {
   "cell_type": "code",
   "execution_count": null,
   "metadata": {},
   "outputs": [],
   "source": []
  },
  {
   "cell_type": "code",
   "execution_count": null,
   "metadata": {},
   "outputs": [],
   "source": []
  },
  {
   "cell_type": "code",
   "execution_count": null,
   "metadata": {},
   "outputs": [],
   "source": []
  },
  {
   "cell_type": "code",
   "execution_count": null,
   "metadata": {},
   "outputs": [],
   "source": []
  },
  {
   "cell_type": "code",
   "execution_count": null,
   "metadata": {},
   "outputs": [],
   "source": []
  }
 ],
 "metadata": {
  "kernelspec": {
   "display_name": "Python 3",
   "language": "python",
   "name": "python3"
  },
  "language_info": {
   "codemirror_mode": {
    "name": "ipython",
    "version": 3
   },
   "file_extension": ".py",
   "mimetype": "text/x-python",
   "name": "python",
   "nbconvert_exporter": "python",
   "pygments_lexer": "ipython3",
   "version": "3.6.13"
  }
 },
 "nbformat": 4,
 "nbformat_minor": 4
}
