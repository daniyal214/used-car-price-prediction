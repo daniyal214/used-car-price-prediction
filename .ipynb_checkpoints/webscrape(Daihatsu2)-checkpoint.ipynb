{
 "cells": [
  {
   "cell_type": "code",
   "execution_count": 1,
   "metadata": {},
   "outputs": [],
   "source": [
    "import pandas as pd\n",
    "import numpy as np\n",
    "from selenium import webdriver\n",
    "from webdriver_manager.chrome import ChromeDriverManager\n",
    "from selenium.webdriver.chrome.options import Options\n",
    "from selenium.webdriver.support.ui import Select\n",
    "import time\n",
    "from selenium.webdriver.common.keys import Keys\n",
    "from selenium.common.exceptions import NoSuchElementException\n",
    "from selenium.webdriver.support.ui import WebDriverWait\n",
    "from selenium.webdriver.support import expected_conditions as EC\n",
    "from selenium.webdriver.common.by import By\n",
    "from selenium.webdriver.common.action_chains import ActionChains\n",
    "import re"
   ]
  },
  {
   "cell_type": "code",
   "execution_count": 2,
   "metadata": {},
   "outputs": [],
   "source": [
    "URL = 'https://www.pakwheels.com/'"
   ]
  },
  {
   "cell_type": "code",
   "execution_count": 3,
   "metadata": {},
   "outputs": [],
   "source": [
    "from selenium.webdriver.chrome.options import Options\n",
    "from selenium.webdriver.common.desired_capabilities import DesiredCapabilities\n",
    "\n",
    "\n",
    "options = webdriver.ChromeOptions()\n",
    "driver = webdriver.Chrome(executable_path='/home/daniyal214/Desktop/Data Science/chromedriver',\n",
    "                         options = options)\n",
    "driver.get(URL)"
   ]
  },
  {
   "cell_type": "code",
   "execution_count": 4,
   "metadata": {},
   "outputs": [],
   "source": [
    "# driver.find_element_by_xpath('//*[@id=\"om-lightbox-modern-optin-wrap\"]/a').click()"
   ]
  },
  {
   "cell_type": "code",
   "execution_count": 5,
   "metadata": {},
   "outputs": [],
   "source": [
    "driver.find_element_by_xpath('//*[@id=\"browes_make_id\"]').click()"
   ]
  },
  {
   "cell_type": "markdown",
   "metadata": {},
   "source": [
    "# Daihatsu2"
   ]
  },
  {
   "cell_type": "code",
   "execution_count": 7,
   "metadata": {},
   "outputs": [],
   "source": [
    "driver.find_element_by_link_text('Daihatsu').click()"
   ]
  },
  {
   "cell_type": "code",
   "execution_count": 8,
   "metadata": {},
   "outputs": [],
   "source": [
    "# brand = []\n",
    "# year = []\n",
    "# fuelType = []\n",
    "# transmission = []\n",
    "# cc = []\n",
    "# km_driven = []\n",
    "# price = []\n",
    "# description = []\n",
    "# url = []"
   ]
  },
  {
   "cell_type": "code",
   "execution_count": 10,
   "metadata": {},
   "outputs": [],
   "source": [
    "import json"
   ]
  },
  {
   "cell_type": "code",
   "execution_count": 11,
   "metadata": {},
   "outputs": [],
   "source": [
    "for j in range(100):\n",
    "    time.sleep(10)\n",
    "    cards = driver.find_elements_by_css_selector('.classified-listing   ')\n",
    "    for i in cards:\n",
    "        try:\n",
    "            lib = i.find_element_by_tag_name('script').get_attribute('innerHTML')\n",
    "            item = json.loads(lib.replace('\\n', ''))\n",
    "            brand.append(item['brand']['name'])\n",
    "            year.append(item['modelDate'])\n",
    "            fuelType.append(item['fuelType'])\n",
    "            transmission.append(item['vehicleTransmission'])\n",
    "            cc.append(item['vehicleEngine']['engineDisplacement'])\n",
    "            km_driven.append(item['mileageFromOdometer'])\n",
    "            price.append(item['offers']['price'])\n",
    "            url.append(item['offers']['url'])\n",
    "            description.append(item['name'])\n",
    "        except NoSuchElementException:\n",
    "            pass \n",
    "\n",
    "\n",
    "    try:\n",
    "        time.sleep(3)\n",
    "        element = driver.find_element_by_link_text('Next ›')\n",
    "        actions = ActionChains(driver)\n",
    "        actions.move_to_element(element).perform()\n",
    "        time.sleep(5)\n",
    "        element.click()\n",
    "    except NoSuchElementException:\n",
    "        break"
   ]
  },
  {
   "cell_type": "code",
   "execution_count": 12,
   "metadata": {},
   "outputs": [
    {
     "data": {
      "text/html": [
       "<div>\n",
       "<style scoped>\n",
       "    .dataframe tbody tr th:only-of-type {\n",
       "        vertical-align: middle;\n",
       "    }\n",
       "\n",
       "    .dataframe tbody tr th {\n",
       "        vertical-align: top;\n",
       "    }\n",
       "\n",
       "    .dataframe thead th {\n",
       "        text-align: right;\n",
       "    }\n",
       "</style>\n",
       "<table border=\"1\" class=\"dataframe\">\n",
       "  <thead>\n",
       "    <tr style=\"text-align: right;\">\n",
       "      <th></th>\n",
       "      <th>Make</th>\n",
       "      <th>Model_Year</th>\n",
       "      <th>Fuel_Type</th>\n",
       "      <th>Transmission</th>\n",
       "      <th>Engine_Capacity</th>\n",
       "      <th>Kms_Driven</th>\n",
       "      <th>Price</th>\n",
       "      <th>Url</th>\n",
       "      <th>Description</th>\n",
       "    </tr>\n",
       "  </thead>\n",
       "  <tbody>\n",
       "    <tr>\n",
       "      <th>0</th>\n",
       "      <td>Daihatsu</td>\n",
       "      <td>2011</td>\n",
       "      <td>Petrol</td>\n",
       "      <td>Manual</td>\n",
       "      <td>800cc</td>\n",
       "      <td>69,800 km</td>\n",
       "      <td>850000</td>\n",
       "      <td>https://www.pakwheels.com/used-cars/daihatsu-c...</td>\n",
       "      <td>Daihatsu Cuore 2011 for sale in Chakwal</td>\n",
       "    </tr>\n",
       "    <tr>\n",
       "      <th>1</th>\n",
       "      <td>Daihatsu</td>\n",
       "      <td>2012</td>\n",
       "      <td>Petrol</td>\n",
       "      <td>Automatic</td>\n",
       "      <td>660cc</td>\n",
       "      <td>56,000 km</td>\n",
       "      <td>1450000</td>\n",
       "      <td>https://www.pakwheels.com/used-cars/daihatsu-m...</td>\n",
       "      <td>Daihatsu Mira 2012 for sale in Karachi</td>\n",
       "    </tr>\n",
       "    <tr>\n",
       "      <th>2</th>\n",
       "      <td>Daihatsu</td>\n",
       "      <td>2016</td>\n",
       "      <td>Petrol</td>\n",
       "      <td>Automatic</td>\n",
       "      <td>660cc</td>\n",
       "      <td>70,000 km</td>\n",
       "      <td>1490000</td>\n",
       "      <td>https://www.pakwheels.com/used-cars/daihatsu-m...</td>\n",
       "      <td>Daihatsu Move 2016 for sale in Lahore</td>\n",
       "    </tr>\n",
       "    <tr>\n",
       "      <th>3</th>\n",
       "      <td>Daihatsu</td>\n",
       "      <td>2008</td>\n",
       "      <td>Petrol</td>\n",
       "      <td>Manual</td>\n",
       "      <td>800cc</td>\n",
       "      <td>185,000 km</td>\n",
       "      <td>700000</td>\n",
       "      <td>https://www.pakwheels.com/used-cars/daihatsu-c...</td>\n",
       "      <td>Daihatsu Cuore 2008 for sale in Karachi</td>\n",
       "    </tr>\n",
       "    <tr>\n",
       "      <th>4</th>\n",
       "      <td>Daihatsu</td>\n",
       "      <td>2018</td>\n",
       "      <td>Petrol</td>\n",
       "      <td>Automatic</td>\n",
       "      <td>660cc</td>\n",
       "      <td>7,500 km</td>\n",
       "      <td>2350000</td>\n",
       "      <td>https://www.pakwheels.com/used-cars/daihatsu-m...</td>\n",
       "      <td>Daihatsu Move 2018 for sale in Mandi bahauddin</td>\n",
       "    </tr>\n",
       "  </tbody>\n",
       "</table>\n",
       "</div>"
      ],
      "text/plain": [
       "       Make  Model_Year Fuel_Type Transmission Engine_Capacity  Kms_Driven  \\\n",
       "0  Daihatsu        2011    Petrol       Manual           800cc   69,800 km   \n",
       "1  Daihatsu        2012    Petrol    Automatic           660cc   56,000 km   \n",
       "2  Daihatsu        2016    Petrol    Automatic           660cc   70,000 km   \n",
       "3  Daihatsu        2008    Petrol       Manual           800cc  185,000 km   \n",
       "4  Daihatsu        2018    Petrol    Automatic           660cc    7,500 km   \n",
       "\n",
       "     Price                                                Url  \\\n",
       "0   850000  https://www.pakwheels.com/used-cars/daihatsu-c...   \n",
       "1  1450000  https://www.pakwheels.com/used-cars/daihatsu-m...   \n",
       "2  1490000  https://www.pakwheels.com/used-cars/daihatsu-m...   \n",
       "3   700000  https://www.pakwheels.com/used-cars/daihatsu-c...   \n",
       "4  2350000  https://www.pakwheels.com/used-cars/daihatsu-m...   \n",
       "\n",
       "                                      Description  \n",
       "0         Daihatsu Cuore 2011 for sale in Chakwal  \n",
       "1          Daihatsu Mira 2012 for sale in Karachi  \n",
       "2           Daihatsu Move 2016 for sale in Lahore  \n",
       "3         Daihatsu Cuore 2008 for sale in Karachi  \n",
       "4  Daihatsu Move 2018 for sale in Mandi bahauddin  "
      ]
     },
     "execution_count": 12,
     "metadata": {},
     "output_type": "execute_result"
    }
   ],
   "source": [
    "daihatsu = pd.DataFrame({'Make':brand, 'Model_Year':year, 'Fuel_Type':fuelType, \n",
    "             'Transmission':transmission, 'Engine_Capacity':cc, 'Kms_Driven':km_driven,\n",
    "             'Price':price, 'Url':url, 'Description':description})\n",
    "daihatsu.head()"
   ]
  },
  {
   "cell_type": "code",
   "execution_count": 13,
   "metadata": {},
   "outputs": [],
   "source": [
    "daihatsu.drop_duplicates(inplace=True)"
   ]
  },
  {
   "cell_type": "code",
   "execution_count": 14,
   "metadata": {},
   "outputs": [],
   "source": [
    "daihatsu.to_csv('Daihatsu2', index=False)"
   ]
  },
  {
   "cell_type": "code",
   "execution_count": 15,
   "metadata": {},
   "outputs": [
    {
     "data": {
      "text/plain": [
       "(2389, 9)"
      ]
     },
     "execution_count": 15,
     "metadata": {},
     "output_type": "execute_result"
    }
   ],
   "source": [
    "daihatsu.shape"
   ]
  },
  {
   "cell_type": "code",
   "execution_count": null,
   "metadata": {},
   "outputs": [],
   "source": []
  },
  {
   "cell_type": "code",
   "execution_count": null,
   "metadata": {},
   "outputs": [],
   "source": []
  },
  {
   "cell_type": "code",
   "execution_count": null,
   "metadata": {},
   "outputs": [],
   "source": []
  },
  {
   "cell_type": "code",
   "execution_count": null,
   "metadata": {},
   "outputs": [],
   "source": []
  },
  {
   "cell_type": "code",
   "execution_count": null,
   "metadata": {},
   "outputs": [],
   "source": []
  },
  {
   "cell_type": "code",
   "execution_count": null,
   "metadata": {},
   "outputs": [],
   "source": []
  },
  {
   "cell_type": "code",
   "execution_count": null,
   "metadata": {},
   "outputs": [],
   "source": []
  }
 ],
 "metadata": {
  "kernelspec": {
   "display_name": "Python 3",
   "language": "python",
   "name": "python3"
  },
  "language_info": {
   "codemirror_mode": {
    "name": "ipython",
    "version": 3
   },
   "file_extension": ".py",
   "mimetype": "text/x-python",
   "name": "python",
   "nbconvert_exporter": "python",
   "pygments_lexer": "ipython3",
   "version": "3.6.13"
  }
 },
 "nbformat": 4,
 "nbformat_minor": 4
}
