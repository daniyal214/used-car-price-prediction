{
 "cells": [
  {
   "cell_type": "code",
   "execution_count": 181,
   "metadata": {},
   "outputs": [],
   "source": [
    "import pandas as pd\n",
    "import numpy as np\n",
    "from selenium import webdriver\n",
    "from webdriver_manager.chrome import ChromeDriverManager\n",
    "from selenium.webdriver.chrome.options import Options\n",
    "from selenium.webdriver.support.ui import Select\n",
    "import time\n",
    "from selenium.webdriver.common.keys import Keys\n",
    "from selenium.common.exceptions import NoSuchElementException\n",
    "from selenium.webdriver.support.ui import WebDriverWait\n",
    "from selenium.webdriver.support import expected_conditions as EC\n",
    "from selenium.webdriver.common.by import By\n",
    "from selenium.webdriver.common.action_chains import ActionChains\n",
    "import re"
   ]
  },
  {
   "cell_type": "code",
   "execution_count": 182,
   "metadata": {},
   "outputs": [],
   "source": [
    "URL = 'https://www.pakwheels.com/'"
   ]
  },
  {
   "cell_type": "code",
   "execution_count": 183,
   "metadata": {},
   "outputs": [],
   "source": [
    "from selenium.webdriver.chrome.options import Options\n",
    "from selenium.webdriver.common.desired_capabilities import DesiredCapabilities\n",
    "\n",
    "\n",
    "options = webdriver.ChromeOptions()\n",
    "driver = webdriver.Chrome(executable_path='/home/daniyal214/Desktop/Data Science/chromedriver',\n",
    "                         options = options)\n",
    "driver.get(URL)"
   ]
  },
  {
   "cell_type": "code",
   "execution_count": 184,
   "metadata": {},
   "outputs": [],
   "source": [
    "# driver.find_element_by_xpath('//*[@id=\"om-lightbox-modern-optin-wrap\"]/a').click()"
   ]
  },
  {
   "cell_type": "code",
   "execution_count": 185,
   "metadata": {},
   "outputs": [],
   "source": [
    "driver.find_element_by_xpath('//*[@id=\"browes_make_id\"]').click()"
   ]
  },
  {
   "cell_type": "markdown",
   "metadata": {},
   "source": [
    "# Toyota"
   ]
  },
  {
   "cell_type": "code",
   "execution_count": 249,
   "metadata": {},
   "outputs": [],
   "source": [
    "driver.find_element_by_link_text('Toyota').click()"
   ]
  },
  {
   "cell_type": "code",
   "execution_count": 250,
   "metadata": {},
   "outputs": [],
   "source": [
    "# featured = driver.find_elements_by_css_selector('.classified-listing.featured-listing')\n",
    "# cards = driver.find_elements_by_css_selector('.classified-listing   ')"
   ]
  },
  {
   "cell_type": "code",
   "execution_count": 251,
   "metadata": {},
   "outputs": [],
   "source": [
    "# 1578-100"
   ]
  },
  {
   "cell_type": "code",
   "execution_count": 252,
   "metadata": {},
   "outputs": [],
   "source": [
    "# brand = []\n",
    "# year = []\n",
    "# fuelType = []\n",
    "# transmission = []\n",
    "# cc = []\n",
    "# km_driven = []\n",
    "# price = []\n",
    "# description = []\n",
    "# url = []"
   ]
  },
  {
   "cell_type": "code",
   "execution_count": 253,
   "metadata": {},
   "outputs": [],
   "source": [
    "for j in range(1500):\n",
    "    time.sleep(10)\n",
    "    cards = driver.find_elements_by_css_selector('.classified-listing   ')\n",
    "    for i in cards:\n",
    "        try:\n",
    "            lib = i.find_element_by_tag_name('script').get_attribute('innerHTML')\n",
    "            item = json.loads(lib.replace('\\n', ''))\n",
    "            brand.append(item['brand']['name'])\n",
    "            year.append(item['modelDate'])\n",
    "            fuelType.append(item['fuelType'])\n",
    "            transmission.append(item['vehicleTransmission'])\n",
    "            cc.append(item['vehicleEngine']['engineDisplacement'])\n",
    "            km_driven.append(item['mileageFromOdometer'])\n",
    "            price.append(item['offers']['price'])\n",
    "            url.append(item['offers']['url'])\n",
    "            description.append(item['name'])\n",
    "        except NoSuchElementException:\n",
    "            pass \n",
    "\n",
    "\n",
    "    try:\n",
    "        time.sleep(3)\n",
    "        element = driver.find_element_by_link_text('Next ›')\n",
    "        actions = ActionChains(driver)\n",
    "        actions.move_to_element(element).perform()\n",
    "        time.sleep(5)\n",
    "        element.click()\n",
    "    except NoSuchElementException:\n",
    "        break"
   ]
  },
  {
   "cell_type": "code",
   "execution_count": 192,
   "metadata": {},
   "outputs": [
    {
     "data": {
      "text/plain": [
       "5746"
      ]
     },
     "execution_count": 192,
     "metadata": {},
     "output_type": "execute_result"
    }
   ],
   "source": [
    "len(brand)"
   ]
  },
  {
   "cell_type": "code",
   "execution_count": 254,
   "metadata": {},
   "outputs": [
    {
     "data": {
      "text/html": [
       "<div>\n",
       "<style scoped>\n",
       "    .dataframe tbody tr th:only-of-type {\n",
       "        vertical-align: middle;\n",
       "    }\n",
       "\n",
       "    .dataframe tbody tr th {\n",
       "        vertical-align: top;\n",
       "    }\n",
       "\n",
       "    .dataframe thead th {\n",
       "        text-align: right;\n",
       "    }\n",
       "</style>\n",
       "<table border=\"1\" class=\"dataframe\">\n",
       "  <thead>\n",
       "    <tr style=\"text-align: right;\">\n",
       "      <th></th>\n",
       "      <th>Make</th>\n",
       "      <th>Model_Year</th>\n",
       "      <th>Fuel_Type</th>\n",
       "      <th>Transmission</th>\n",
       "      <th>Engine_Capacity</th>\n",
       "      <th>Kms_Driven</th>\n",
       "      <th>Price</th>\n",
       "      <th>Url</th>\n",
       "      <th>Description</th>\n",
       "    </tr>\n",
       "  </thead>\n",
       "  <tbody>\n",
       "    <tr>\n",
       "      <th>0</th>\n",
       "      <td>Toyota</td>\n",
       "      <td>2017</td>\n",
       "      <td>Petrol</td>\n",
       "      <td>Manual</td>\n",
       "      <td>1300cc</td>\n",
       "      <td>91,508 km</td>\n",
       "      <td>2850000</td>\n",
       "      <td>https://www.pakwheels.com/used-cars/toyota-cor...</td>\n",
       "      <td>Toyota Corolla 2017 for sale in Rawalpindi</td>\n",
       "    </tr>\n",
       "    <tr>\n",
       "      <th>1</th>\n",
       "      <td>Toyota</td>\n",
       "      <td>2017</td>\n",
       "      <td>Petrol</td>\n",
       "      <td>Automatic</td>\n",
       "      <td>1600cc</td>\n",
       "      <td>54,898 km</td>\n",
       "      <td>3050000</td>\n",
       "      <td>https://www.pakwheels.com/used-cars/toyota-cor...</td>\n",
       "      <td>Toyota Corolla 2017 for sale in Islamabad</td>\n",
       "    </tr>\n",
       "    <tr>\n",
       "      <th>2</th>\n",
       "      <td>Toyota</td>\n",
       "      <td>2017</td>\n",
       "      <td>Petrol</td>\n",
       "      <td>Automatic</td>\n",
       "      <td>1300cc</td>\n",
       "      <td>69,114 km</td>\n",
       "      <td>2895000</td>\n",
       "      <td>https://www.pakwheels.com/used-cars/toyota-cor...</td>\n",
       "      <td>Toyota Corolla 2017 for sale in Islamabad</td>\n",
       "    </tr>\n",
       "    <tr>\n",
       "      <th>3</th>\n",
       "      <td>Toyota</td>\n",
       "      <td>2015</td>\n",
       "      <td>Hybrid</td>\n",
       "      <td>Automatic</td>\n",
       "      <td>1500cc</td>\n",
       "      <td>77,363 km</td>\n",
       "      <td>2750000</td>\n",
       "      <td>https://www.pakwheels.com/used-cars/toyota-aqu...</td>\n",
       "      <td>Toyota Aqua 2015 for sale in Rawalpindi</td>\n",
       "    </tr>\n",
       "    <tr>\n",
       "      <th>4</th>\n",
       "      <td>Toyota</td>\n",
       "      <td>2015</td>\n",
       "      <td>Petrol</td>\n",
       "      <td>Automatic</td>\n",
       "      <td>1300cc</td>\n",
       "      <td>95,339 km</td>\n",
       "      <td>2570000</td>\n",
       "      <td>https://www.pakwheels.com/used-cars/toyota-cor...</td>\n",
       "      <td>Toyota Corolla 2015 for sale in Islamabad</td>\n",
       "    </tr>\n",
       "  </tbody>\n",
       "</table>\n",
       "</div>"
      ],
      "text/plain": [
       "     Make  Model_Year Fuel_Type Transmission Engine_Capacity Kms_Driven  \\\n",
       "0  Toyota        2017    Petrol       Manual          1300cc  91,508 km   \n",
       "1  Toyota        2017    Petrol    Automatic          1600cc  54,898 km   \n",
       "2  Toyota        2017    Petrol    Automatic          1300cc  69,114 km   \n",
       "3  Toyota        2015    Hybrid    Automatic          1500cc  77,363 km   \n",
       "4  Toyota        2015    Petrol    Automatic          1300cc  95,339 km   \n",
       "\n",
       "     Price                                                Url  \\\n",
       "0  2850000  https://www.pakwheels.com/used-cars/toyota-cor...   \n",
       "1  3050000  https://www.pakwheels.com/used-cars/toyota-cor...   \n",
       "2  2895000  https://www.pakwheels.com/used-cars/toyota-cor...   \n",
       "3  2750000  https://www.pakwheels.com/used-cars/toyota-aqu...   \n",
       "4  2570000  https://www.pakwheels.com/used-cars/toyota-cor...   \n",
       "\n",
       "                                  Description  \n",
       "0  Toyota Corolla 2017 for sale in Rawalpindi  \n",
       "1   Toyota Corolla 2017 for sale in Islamabad  \n",
       "2   Toyota Corolla 2017 for sale in Islamabad  \n",
       "3     Toyota Aqua 2015 for sale in Rawalpindi  \n",
       "4   Toyota Corolla 2015 for sale in Islamabad  "
      ]
     },
     "execution_count": 254,
     "metadata": {},
     "output_type": "execute_result"
    }
   ],
   "source": [
    "toyota = pd.DataFrame({'Make':brand, 'Model_Year':year, 'Fuel_Type':fuelType, \n",
    "             'Transmission':transmission, 'Engine_Capacity':cc, 'Kms_Driven':km_driven,\n",
    "             'Price':price, 'Url':url, 'Description':description})\n",
    "toyota.head()"
   ]
  },
  {
   "cell_type": "code",
   "execution_count": 255,
   "metadata": {},
   "outputs": [],
   "source": [
    "toyota.drop_duplicates(inplace=True)"
   ]
  },
  {
   "cell_type": "code",
   "execution_count": 256,
   "metadata": {},
   "outputs": [],
   "source": [
    "toyota.to_csv('Toyota2', index=False)"
   ]
  },
  {
   "cell_type": "code",
   "execution_count": 257,
   "metadata": {},
   "outputs": [
    {
     "data": {
      "text/plain": [
       "(36025, 9)"
      ]
     },
     "execution_count": 257,
     "metadata": {},
     "output_type": "execute_result"
    }
   ],
   "source": [
    "toyota.shape"
   ]
  },
  {
   "cell_type": "code",
   "execution_count": null,
   "metadata": {},
   "outputs": [],
   "source": []
  },
  {
   "cell_type": "code",
   "execution_count": 201,
   "metadata": {},
   "outputs": [],
   "source": [
    "# toyota['Description'][0]"
   ]
  },
  {
   "cell_type": "code",
   "execution_count": 202,
   "metadata": {},
   "outputs": [],
   "source": [
    "# import re"
   ]
  },
  {
   "cell_type": "code",
   "execution_count": 203,
   "metadata": {},
   "outputs": [],
   "source": [
    "# s = toyota['Description'][0]"
   ]
  },
  {
   "cell_type": "code",
   "execution_count": 204,
   "metadata": {},
   "outputs": [],
   "source": [
    "# for i in toyota['Description']:\n",
    "#     print(re.findall(r'([a-zA-Z ]*)', i))"
   ]
  },
  {
   "cell_type": "code",
   "execution_count": null,
   "metadata": {},
   "outputs": [],
   "source": []
  },
  {
   "cell_type": "markdown",
   "metadata": {},
   "source": [
    "# Daihatsu"
   ]
  },
  {
   "cell_type": "code",
   "execution_count": 205,
   "metadata": {},
   "outputs": [],
   "source": [
    "driver.find_element_by_link_text('Daihatsu').click()"
   ]
  },
  {
   "cell_type": "code",
   "execution_count": 209,
   "metadata": {},
   "outputs": [],
   "source": [
    "#62"
   ]
  },
  {
   "cell_type": "code",
   "execution_count": 211,
   "metadata": {},
   "outputs": [
    {
     "data": {
      "text/plain": [
       "39"
      ]
     },
     "execution_count": 211,
     "metadata": {},
     "output_type": "execute_result"
    }
   ],
   "source": [
    "100-61"
   ]
  },
  {
   "cell_type": "code",
   "execution_count": 206,
   "metadata": {},
   "outputs": [],
   "source": [
    "# brand = []\n",
    "# year = []\n",
    "# fuelType = []\n",
    "# transmission = []\n",
    "# cc = []\n",
    "# km_driven = []\n",
    "# price = []\n",
    "# description = []\n",
    "# url = []"
   ]
  },
  {
   "cell_type": "code",
   "execution_count": 212,
   "metadata": {},
   "outputs": [],
   "source": [
    "import json\n",
    "\n",
    "for j in range(39):\n",
    "    time.sleep(10)\n",
    "    cards = driver.find_elements_by_css_selector('.classified-listing   ')\n",
    "    for i in cards:\n",
    "        try:\n",
    "            lib = i.find_element_by_tag_name('script').get_attribute('innerHTML')\n",
    "            item = json.loads(lib.replace('\\n', ''))\n",
    "            brand.append(item['brand']['name'])\n",
    "            year.append(item['modelDate'])\n",
    "            fuelType.append(item['fuelType'])\n",
    "            transmission.append(item['vehicleTransmission'])\n",
    "            cc.append(item['vehicleEngine']['engineDisplacement'])\n",
    "            km_driven.append(item['mileageFromOdometer'])\n",
    "            price.append(item['offers']['price'])\n",
    "            url.append(item['offers']['url'])\n",
    "            description.append(item['name'])\n",
    "        except NoSuchElementException:\n",
    "            pass \n",
    "\n",
    "\n",
    "    try:\n",
    "        time.sleep(3)\n",
    "        element = driver.find_element_by_link_text('Next ›')\n",
    "        actions = ActionChains(driver)\n",
    "        actions.move_to_element(element).perform()\n",
    "        time.sleep(5)\n",
    "        element.click()\n",
    "    except NoSuchElementException:\n",
    "        break"
   ]
  },
  {
   "cell_type": "code",
   "execution_count": null,
   "metadata": {},
   "outputs": [],
   "source": []
  },
  {
   "cell_type": "markdown",
   "metadata": {},
   "source": [
    "# MG"
   ]
  },
  {
   "cell_type": "code",
   "execution_count": 213,
   "metadata": {},
   "outputs": [],
   "source": [
    "driver.find_element_by_link_text('MG').click()"
   ]
  },
  {
   "cell_type": "code",
   "execution_count": 214,
   "metadata": {},
   "outputs": [],
   "source": [
    "# brand = []\n",
    "# year = []\n",
    "# fuelType = []\n",
    "# transmission = []\n",
    "# cc = []\n",
    "# km_driven = []\n",
    "# price = []\n",
    "# description = []\n",
    "# url = []"
   ]
  },
  {
   "cell_type": "code",
   "execution_count": 216,
   "metadata": {},
   "outputs": [],
   "source": [
    "import json\n",
    "\n",
    "for j in range(98):\n",
    "    time.sleep(10)\n",
    "    cards = driver.find_elements_by_css_selector('.classified-listing   ')\n",
    "    for i in cards:\n",
    "        try:\n",
    "            lib = i.find_element_by_tag_name('script').get_attribute('innerHTML')\n",
    "            item = json.loads(lib.replace('\\n', ''))\n",
    "            brand.append(item['brand']['name'])\n",
    "            year.append(item['modelDate'])\n",
    "            fuelType.append(item['fuelType'])\n",
    "            transmission.append(item['vehicleTransmission'])\n",
    "            cc.append(item['vehicleEngine']['engineDisplacement'])\n",
    "            km_driven.append(item['mileageFromOdometer'])\n",
    "            price.append(item['offers']['price'])\n",
    "            url.append(item['offers']['url'])\n",
    "            description.append(item['name'])\n",
    "        except NoSuchElementException:\n",
    "            pass \n",
    "\n",
    "\n",
    "    try:\n",
    "        time.sleep(3)\n",
    "        element = driver.find_element_by_link_text('Next ›')\n",
    "        actions = ActionChains(driver)\n",
    "        actions.move_to_element(element).perform()\n",
    "        time.sleep(5)\n",
    "        element.click()\n",
    "    except NoSuchElementException:\n",
    "        break"
   ]
  },
  {
   "cell_type": "code",
   "execution_count": 217,
   "metadata": {},
   "outputs": [
    {
     "data": {
      "text/html": [
       "<div>\n",
       "<style scoped>\n",
       "    .dataframe tbody tr th:only-of-type {\n",
       "        vertical-align: middle;\n",
       "    }\n",
       "\n",
       "    .dataframe tbody tr th {\n",
       "        vertical-align: top;\n",
       "    }\n",
       "\n",
       "    .dataframe thead th {\n",
       "        text-align: right;\n",
       "    }\n",
       "</style>\n",
       "<table border=\"1\" class=\"dataframe\">\n",
       "  <thead>\n",
       "    <tr style=\"text-align: right;\">\n",
       "      <th></th>\n",
       "      <th>Make</th>\n",
       "      <th>Model_Year</th>\n",
       "      <th>Fuel_Type</th>\n",
       "      <th>Transmission</th>\n",
       "      <th>Engine_Capacity</th>\n",
       "      <th>Kms_Driven</th>\n",
       "      <th>Price</th>\n",
       "      <th>Url</th>\n",
       "      <th>Description</th>\n",
       "    </tr>\n",
       "  </thead>\n",
       "  <tbody>\n",
       "    <tr>\n",
       "      <th>0</th>\n",
       "      <td>MG</td>\n",
       "      <td>2021</td>\n",
       "      <td>Petrol</td>\n",
       "      <td>Automatic</td>\n",
       "      <td>1500cc</td>\n",
       "      <td>5,300 km</td>\n",
       "      <td>6100000</td>\n",
       "      <td>https://www.pakwheels.com/used-cars/mg-hs-2021...</td>\n",
       "      <td>MG HS 2021 for sale in Islamabad</td>\n",
       "    </tr>\n",
       "    <tr>\n",
       "      <th>1</th>\n",
       "      <td>MG</td>\n",
       "      <td>2021</td>\n",
       "      <td>Petrol</td>\n",
       "      <td>Automatic</td>\n",
       "      <td>1500cc</td>\n",
       "      <td>200 km</td>\n",
       "      <td>6050000</td>\n",
       "      <td>https://www.pakwheels.com/used-cars/mg-hs-2021...</td>\n",
       "      <td>MG HS 2021 for sale in Faisalabad</td>\n",
       "    </tr>\n",
       "    <tr>\n",
       "      <th>2</th>\n",
       "      <td>MG</td>\n",
       "      <td>2021</td>\n",
       "      <td>Petrol</td>\n",
       "      <td>Automatic</td>\n",
       "      <td>1500cc</td>\n",
       "      <td>4,500 km</td>\n",
       "      <td>5780000</td>\n",
       "      <td>https://www.pakwheels.com/used-cars/mg-other-2...</td>\n",
       "      <td>MG Other 2021 for sale in Lahore</td>\n",
       "    </tr>\n",
       "    <tr>\n",
       "      <th>3</th>\n",
       "      <td>MG</td>\n",
       "      <td>2021</td>\n",
       "      <td>Petrol</td>\n",
       "      <td>Automatic</td>\n",
       "      <td>1500cc</td>\n",
       "      <td>45 km</td>\n",
       "      <td>6100000</td>\n",
       "      <td>https://www.pakwheels.com/used-cars/mg-hs-2021...</td>\n",
       "      <td>MG HS 2021 for sale in Lahore</td>\n",
       "    </tr>\n",
       "    <tr>\n",
       "      <th>4</th>\n",
       "      <td>MG</td>\n",
       "      <td>2021</td>\n",
       "      <td>Petrol</td>\n",
       "      <td>Automatic</td>\n",
       "      <td>1500cc</td>\n",
       "      <td>25 km</td>\n",
       "      <td>6100000</td>\n",
       "      <td>https://www.pakwheels.com/used-cars/mg-hs-2021...</td>\n",
       "      <td>MG HS 2021 for sale in Islamabad</td>\n",
       "    </tr>\n",
       "  </tbody>\n",
       "</table>\n",
       "</div>"
      ],
      "text/plain": [
       "  Make  Model_Year Fuel_Type Transmission Engine_Capacity Kms_Driven    Price  \\\n",
       "0   MG        2021    Petrol    Automatic          1500cc   5,300 km  6100000   \n",
       "1   MG        2021    Petrol    Automatic          1500cc     200 km  6050000   \n",
       "2   MG        2021    Petrol    Automatic          1500cc   4,500 km  5780000   \n",
       "3   MG        2021    Petrol    Automatic          1500cc      45 km  6100000   \n",
       "4   MG        2021    Petrol    Automatic          1500cc      25 km  6100000   \n",
       "\n",
       "                                                 Url  \\\n",
       "0  https://www.pakwheels.com/used-cars/mg-hs-2021...   \n",
       "1  https://www.pakwheels.com/used-cars/mg-hs-2021...   \n",
       "2  https://www.pakwheels.com/used-cars/mg-other-2...   \n",
       "3  https://www.pakwheels.com/used-cars/mg-hs-2021...   \n",
       "4  https://www.pakwheels.com/used-cars/mg-hs-2021...   \n",
       "\n",
       "                         Description  \n",
       "0   MG HS 2021 for sale in Islamabad  \n",
       "1  MG HS 2021 for sale in Faisalabad  \n",
       "2   MG Other 2021 for sale in Lahore  \n",
       "3      MG HS 2021 for sale in Lahore  \n",
       "4   MG HS 2021 for sale in Islamabad  "
      ]
     },
     "execution_count": 217,
     "metadata": {},
     "output_type": "execute_result"
    }
   ],
   "source": [
    "mg = pd.DataFrame({'Make':brand, 'Model_Year':year, 'Fuel_Type':fuelType, \n",
    "             'Transmission':transmission, 'Engine_Capacity':cc, 'Kms_Driven':km_driven,\n",
    "             'Price':price, 'Url':url, 'Description':description})\n",
    "mg.head()"
   ]
  },
  {
   "cell_type": "code",
   "execution_count": 218,
   "metadata": {},
   "outputs": [],
   "source": [
    "mg.drop_duplicates(inplace=True)"
   ]
  },
  {
   "cell_type": "code",
   "execution_count": 219,
   "metadata": {},
   "outputs": [],
   "source": [
    "mg.to_csv('MG', index=False)"
   ]
  },
  {
   "cell_type": "code",
   "execution_count": 220,
   "metadata": {},
   "outputs": [
    {
     "data": {
      "text/plain": [
       "(1254, 9)"
      ]
     },
     "execution_count": 220,
     "metadata": {},
     "output_type": "execute_result"
    }
   ],
   "source": [
    "mg.shape"
   ]
  },
  {
   "cell_type": "code",
   "execution_count": null,
   "metadata": {},
   "outputs": [],
   "source": []
  },
  {
   "cell_type": "markdown",
   "metadata": {},
   "source": [
    "# Mercedes Benz "
   ]
  },
  {
   "cell_type": "code",
   "execution_count": 222,
   "metadata": {},
   "outputs": [],
   "source": [
    "driver.find_element_by_link_text('Mercedes Benz').click()"
   ]
  },
  {
   "cell_type": "code",
   "execution_count": 223,
   "metadata": {},
   "outputs": [],
   "source": [
    "# brand = []\n",
    "# year = []\n",
    "# fuelType = []\n",
    "# transmission = []\n",
    "# cc = []\n",
    "# km_driven = []\n",
    "# price = []\n",
    "# description = []\n",
    "# url = []"
   ]
  },
  {
   "cell_type": "code",
   "execution_count": 224,
   "metadata": {},
   "outputs": [],
   "source": [
    "import json\n",
    "\n",
    "for j in range(100):\n",
    "    time.sleep(10)\n",
    "    cards = driver.find_elements_by_css_selector('.classified-listing   ')\n",
    "    for i in cards:\n",
    "        try:\n",
    "            lib = i.find_element_by_tag_name('script').get_attribute('innerHTML')\n",
    "            item = json.loads(lib.replace('\\n', ''))\n",
    "            brand.append(item['brand']['name'])\n",
    "            year.append(item['modelDate'])\n",
    "            fuelType.append(item['fuelType'])\n",
    "            transmission.append(item['vehicleTransmission'])\n",
    "            cc.append(item['vehicleEngine']['engineDisplacement'])\n",
    "            km_driven.append(item['mileageFromOdometer'])\n",
    "            price.append(item['offers']['price'])\n",
    "            url.append(item['offers']['url'])\n",
    "            description.append(item['name'])\n",
    "        except NoSuchElementException:\n",
    "            pass \n",
    "\n",
    "\n",
    "    try:\n",
    "        time.sleep(3)\n",
    "        element = driver.find_element_by_link_text('Next ›')\n",
    "        actions = ActionChains(driver)\n",
    "        actions.move_to_element(element).perform()\n",
    "        time.sleep(5)\n",
    "        element.click()\n",
    "    except NoSuchElementException:\n",
    "        break"
   ]
  },
  {
   "cell_type": "code",
   "execution_count": 225,
   "metadata": {},
   "outputs": [
    {
     "data": {
      "text/html": [
       "<div>\n",
       "<style scoped>\n",
       "    .dataframe tbody tr th:only-of-type {\n",
       "        vertical-align: middle;\n",
       "    }\n",
       "\n",
       "    .dataframe tbody tr th {\n",
       "        vertical-align: top;\n",
       "    }\n",
       "\n",
       "    .dataframe thead th {\n",
       "        text-align: right;\n",
       "    }\n",
       "</style>\n",
       "<table border=\"1\" class=\"dataframe\">\n",
       "  <thead>\n",
       "    <tr style=\"text-align: right;\">\n",
       "      <th></th>\n",
       "      <th>Make</th>\n",
       "      <th>Model_Year</th>\n",
       "      <th>Fuel_Type</th>\n",
       "      <th>Transmission</th>\n",
       "      <th>Engine_Capacity</th>\n",
       "      <th>Kms_Driven</th>\n",
       "      <th>Price</th>\n",
       "      <th>Url</th>\n",
       "      <th>Description</th>\n",
       "    </tr>\n",
       "  </thead>\n",
       "  <tbody>\n",
       "    <tr>\n",
       "      <th>0</th>\n",
       "      <td>Mercedes Benz</td>\n",
       "      <td>2008</td>\n",
       "      <td>Petrol</td>\n",
       "      <td>Automatic</td>\n",
       "      <td>5500cc</td>\n",
       "      <td>65,000 km</td>\n",
       "      <td>12800000</td>\n",
       "      <td>https://www.pakwheels.com/used-cars/mercedes-b...</td>\n",
       "      <td>Mercedes Benz S Class 2008 for sale in Lahore</td>\n",
       "    </tr>\n",
       "    <tr>\n",
       "      <th>1</th>\n",
       "      <td>Mercedes Benz</td>\n",
       "      <td>2007</td>\n",
       "      <td>Petrol</td>\n",
       "      <td>Automatic</td>\n",
       "      <td>3500cc</td>\n",
       "      <td>140,000 km</td>\n",
       "      <td>7000000</td>\n",
       "      <td>https://www.pakwheels.com/used-cars/mercedes-b...</td>\n",
       "      <td>Mercedes Benz S Class 2007 for sale in Lahore</td>\n",
       "    </tr>\n",
       "    <tr>\n",
       "      <th>2</th>\n",
       "      <td>Mercedes Benz</td>\n",
       "      <td>2012</td>\n",
       "      <td>Petrol</td>\n",
       "      <td>Automatic</td>\n",
       "      <td>2000cc</td>\n",
       "      <td>90,000 km</td>\n",
       "      <td>9000000</td>\n",
       "      <td>https://www.pakwheels.com/used-cars/mercedes-b...</td>\n",
       "      <td>Mercedes Benz E Class 2012 for sale in Islamabad</td>\n",
       "    </tr>\n",
       "    <tr>\n",
       "      <th>3</th>\n",
       "      <td>Mercedes Benz</td>\n",
       "      <td>2011</td>\n",
       "      <td>Petrol</td>\n",
       "      <td>Automatic</td>\n",
       "      <td>1800cc</td>\n",
       "      <td>77,000 km</td>\n",
       "      <td>6000000</td>\n",
       "      <td>https://www.pakwheels.com/used-cars/mercedes-b...</td>\n",
       "      <td>Mercedes Benz C Class 2011 for sale in Islamabad</td>\n",
       "    </tr>\n",
       "    <tr>\n",
       "      <th>4</th>\n",
       "      <td>Mercedes Benz</td>\n",
       "      <td>2012</td>\n",
       "      <td>Petrol</td>\n",
       "      <td>Automatic</td>\n",
       "      <td>1800cc</td>\n",
       "      <td>65,000 km</td>\n",
       "      <td>6800000</td>\n",
       "      <td>https://www.pakwheels.com/used-cars/mercedes-b...</td>\n",
       "      <td>Mercedes Benz C Class 2012 for sale in Faisalabad</td>\n",
       "    </tr>\n",
       "  </tbody>\n",
       "</table>\n",
       "</div>"
      ],
      "text/plain": [
       "            Make  Model_Year Fuel_Type Transmission Engine_Capacity  \\\n",
       "0  Mercedes Benz        2008    Petrol    Automatic          5500cc   \n",
       "1  Mercedes Benz        2007    Petrol    Automatic          3500cc   \n",
       "2  Mercedes Benz        2012    Petrol    Automatic          2000cc   \n",
       "3  Mercedes Benz        2011    Petrol    Automatic          1800cc   \n",
       "4  Mercedes Benz        2012    Petrol    Automatic          1800cc   \n",
       "\n",
       "   Kms_Driven     Price                                                Url  \\\n",
       "0   65,000 km  12800000  https://www.pakwheels.com/used-cars/mercedes-b...   \n",
       "1  140,000 km   7000000  https://www.pakwheels.com/used-cars/mercedes-b...   \n",
       "2   90,000 km   9000000  https://www.pakwheels.com/used-cars/mercedes-b...   \n",
       "3   77,000 km   6000000  https://www.pakwheels.com/used-cars/mercedes-b...   \n",
       "4   65,000 km   6800000  https://www.pakwheels.com/used-cars/mercedes-b...   \n",
       "\n",
       "                                         Description  \n",
       "0      Mercedes Benz S Class 2008 for sale in Lahore  \n",
       "1      Mercedes Benz S Class 2007 for sale in Lahore  \n",
       "2   Mercedes Benz E Class 2012 for sale in Islamabad  \n",
       "3   Mercedes Benz C Class 2011 for sale in Islamabad  \n",
       "4  Mercedes Benz C Class 2012 for sale in Faisalabad  "
      ]
     },
     "execution_count": 225,
     "metadata": {},
     "output_type": "execute_result"
    }
   ],
   "source": [
    "mercedes = pd.DataFrame({'Make':brand, 'Model_Year':year, 'Fuel_Type':fuelType, \n",
    "             'Transmission':transmission, 'Engine_Capacity':cc, 'Kms_Driven':km_driven,\n",
    "             'Price':price, 'Url':url, 'Description':description})\n",
    "mercedes.head()"
   ]
  },
  {
   "cell_type": "code",
   "execution_count": 226,
   "metadata": {},
   "outputs": [],
   "source": [
    "mercedes.drop_duplicates(inplace=True)"
   ]
  },
  {
   "cell_type": "code",
   "execution_count": 227,
   "metadata": {},
   "outputs": [],
   "source": [
    "mercedes.to_csv('Hyundai', index=False)"
   ]
  },
  {
   "cell_type": "code",
   "execution_count": 228,
   "metadata": {},
   "outputs": [
    {
     "data": {
      "text/plain": [
       "(929, 9)"
      ]
     },
     "execution_count": 228,
     "metadata": {},
     "output_type": "execute_result"
    }
   ],
   "source": [
    "mercedes.shape"
   ]
  },
  {
   "cell_type": "code",
   "execution_count": null,
   "metadata": {},
   "outputs": [],
   "source": []
  },
  {
   "cell_type": "markdown",
   "metadata": {},
   "source": [
    "# BMW"
   ]
  },
  {
   "cell_type": "code",
   "execution_count": 229,
   "metadata": {},
   "outputs": [],
   "source": [
    "driver.find_element_by_link_text('BMW').click()"
   ]
  },
  {
   "cell_type": "code",
   "execution_count": 230,
   "metadata": {},
   "outputs": [],
   "source": [
    "# brand = []\n",
    "# year = []\n",
    "# fuelType = []\n",
    "# transmission = []\n",
    "# cc = []\n",
    "# km_driven = []\n",
    "# price = []\n",
    "# description = []\n",
    "# url = []"
   ]
  },
  {
   "cell_type": "code",
   "execution_count": 231,
   "metadata": {},
   "outputs": [],
   "source": [
    "import json\n",
    "\n",
    "for j in range(100):\n",
    "    time.sleep(10)\n",
    "    cards = driver.find_elements_by_css_selector('.classified-listing   ')\n",
    "    for i in cards:\n",
    "        try:\n",
    "            lib = i.find_element_by_tag_name('script').get_attribute('innerHTML')\n",
    "            item = json.loads(lib.replace('\\n', ''))\n",
    "            brand.append(item['brand']['name'])\n",
    "            year.append(item['modelDate'])\n",
    "            fuelType.append(item['fuelType'])\n",
    "            transmission.append(item['vehicleTransmission'])\n",
    "            cc.append(item['vehicleEngine']['engineDisplacement'])\n",
    "            km_driven.append(item['mileageFromOdometer'])\n",
    "            price.append(item['offers']['price'])\n",
    "            url.append(item['offers']['url'])\n",
    "            description.append(item['name'])\n",
    "        except NoSuchElementException:\n",
    "            pass \n",
    "\n",
    "\n",
    "    try:\n",
    "        time.sleep(3)\n",
    "        element = driver.find_element_by_link_text('Next ›')\n",
    "        actions = ActionChains(driver)\n",
    "        actions.move_to_element(element).perform()\n",
    "        time.sleep(5)\n",
    "        element.click()\n",
    "    except NoSuchElementException:\n",
    "        break"
   ]
  },
  {
   "cell_type": "code",
   "execution_count": 232,
   "metadata": {},
   "outputs": [
    {
     "data": {
      "text/html": [
       "<div>\n",
       "<style scoped>\n",
       "    .dataframe tbody tr th:only-of-type {\n",
       "        vertical-align: middle;\n",
       "    }\n",
       "\n",
       "    .dataframe tbody tr th {\n",
       "        vertical-align: top;\n",
       "    }\n",
       "\n",
       "    .dataframe thead th {\n",
       "        text-align: right;\n",
       "    }\n",
       "</style>\n",
       "<table border=\"1\" class=\"dataframe\">\n",
       "  <thead>\n",
       "    <tr style=\"text-align: right;\">\n",
       "      <th></th>\n",
       "      <th>Make</th>\n",
       "      <th>Model_Year</th>\n",
       "      <th>Fuel_Type</th>\n",
       "      <th>Transmission</th>\n",
       "      <th>Engine_Capacity</th>\n",
       "      <th>Kms_Driven</th>\n",
       "      <th>Price</th>\n",
       "      <th>Url</th>\n",
       "      <th>Description</th>\n",
       "    </tr>\n",
       "  </thead>\n",
       "  <tbody>\n",
       "    <tr>\n",
       "      <th>0</th>\n",
       "      <td>BMW</td>\n",
       "      <td>2008</td>\n",
       "      <td>Petrol</td>\n",
       "      <td>Automatic</td>\n",
       "      <td>3000cc</td>\n",
       "      <td>72,000 km</td>\n",
       "      <td>8750000</td>\n",
       "      <td>https://www.pakwheels.com/used-cars/bmw-x5-ser...</td>\n",
       "      <td>BMW X5 Series 2008 for sale in Lahore</td>\n",
       "    </tr>\n",
       "    <tr>\n",
       "      <th>1</th>\n",
       "      <td>BMW</td>\n",
       "      <td>2010</td>\n",
       "      <td>Diesel</td>\n",
       "      <td>Automatic</td>\n",
       "      <td>740cc</td>\n",
       "      <td>96,000 km</td>\n",
       "      <td>12500000</td>\n",
       "      <td>https://www.pakwheels.com/used-cars/bmw-7-seri...</td>\n",
       "      <td>BMW 7 Series 2010 for sale in Lahore</td>\n",
       "    </tr>\n",
       "    <tr>\n",
       "      <th>2</th>\n",
       "      <td>BMW</td>\n",
       "      <td>2002</td>\n",
       "      <td>Petrol</td>\n",
       "      <td>Automatic</td>\n",
       "      <td>4400cc</td>\n",
       "      <td>118,532 km</td>\n",
       "      <td>3250000</td>\n",
       "      <td>https://www.pakwheels.com/used-cars/bmw-7-seri...</td>\n",
       "      <td>BMW 7 Series 2002 for sale in Sialkot</td>\n",
       "    </tr>\n",
       "    <tr>\n",
       "      <th>3</th>\n",
       "      <td>BMW</td>\n",
       "      <td>2017</td>\n",
       "      <td>Petrol</td>\n",
       "      <td>Automatic</td>\n",
       "      <td>1500cc</td>\n",
       "      <td>41,000 km</td>\n",
       "      <td>5815000</td>\n",
       "      <td>https://www.pakwheels.com/used-cars/bmw-x1-201...</td>\n",
       "      <td>BMW X1 2017 for sale in Lahore</td>\n",
       "    </tr>\n",
       "    <tr>\n",
       "      <th>4</th>\n",
       "      <td>BMW</td>\n",
       "      <td>2007</td>\n",
       "      <td>Petrol</td>\n",
       "      <td>Automatic</td>\n",
       "      <td>4000cc</td>\n",
       "      <td>148,000 km</td>\n",
       "      <td>4300000</td>\n",
       "      <td>https://www.pakwheels.com/used-cars/bmw-7-seri...</td>\n",
       "      <td>BMW 7 Series 2007 for sale in Islamabad</td>\n",
       "    </tr>\n",
       "  </tbody>\n",
       "</table>\n",
       "</div>"
      ],
      "text/plain": [
       "  Make  Model_Year Fuel_Type Transmission Engine_Capacity  Kms_Driven  \\\n",
       "0  BMW        2008    Petrol    Automatic          3000cc   72,000 km   \n",
       "1  BMW        2010    Diesel    Automatic           740cc   96,000 km   \n",
       "2  BMW        2002    Petrol    Automatic          4400cc  118,532 km   \n",
       "3  BMW        2017    Petrol    Automatic          1500cc   41,000 km   \n",
       "4  BMW        2007    Petrol    Automatic          4000cc  148,000 km   \n",
       "\n",
       "      Price                                                Url  \\\n",
       "0   8750000  https://www.pakwheels.com/used-cars/bmw-x5-ser...   \n",
       "1  12500000  https://www.pakwheels.com/used-cars/bmw-7-seri...   \n",
       "2   3250000  https://www.pakwheels.com/used-cars/bmw-7-seri...   \n",
       "3   5815000  https://www.pakwheels.com/used-cars/bmw-x1-201...   \n",
       "4   4300000  https://www.pakwheels.com/used-cars/bmw-7-seri...   \n",
       "\n",
       "                               Description  \n",
       "0    BMW X5 Series 2008 for sale in Lahore  \n",
       "1     BMW 7 Series 2010 for sale in Lahore  \n",
       "2    BMW 7 Series 2002 for sale in Sialkot  \n",
       "3           BMW X1 2017 for sale in Lahore  \n",
       "4  BMW 7 Series 2007 for sale in Islamabad  "
      ]
     },
     "execution_count": 232,
     "metadata": {},
     "output_type": "execute_result"
    }
   ],
   "source": [
    "bmw = pd.DataFrame({'Make':brand, 'Model_Year':year, 'Fuel_Type':fuelType, \n",
    "             'Transmission':transmission, 'Engine_Capacity':cc, 'Kms_Driven':km_driven,\n",
    "             'Price':price, 'Url':url, 'Description':description})\n",
    "bmw.head()"
   ]
  },
  {
   "cell_type": "code",
   "execution_count": 233,
   "metadata": {},
   "outputs": [],
   "source": [
    "bmw.drop_duplicates(inplace=True)"
   ]
  },
  {
   "cell_type": "code",
   "execution_count": 234,
   "metadata": {},
   "outputs": [],
   "source": [
    "bmw.to_csv('BMW', index=False)"
   ]
  },
  {
   "cell_type": "code",
   "execution_count": 235,
   "metadata": {},
   "outputs": [
    {
     "data": {
      "text/plain": [
       "(268, 9)"
      ]
     },
     "execution_count": 235,
     "metadata": {},
     "output_type": "execute_result"
    }
   ],
   "source": [
    "bmw.shape"
   ]
  },
  {
   "cell_type": "code",
   "execution_count": null,
   "metadata": {},
   "outputs": [],
   "source": []
  },
  {
   "cell_type": "markdown",
   "metadata": {},
   "source": [
    "# Chevrolet"
   ]
  },
  {
   "cell_type": "code",
   "execution_count": 236,
   "metadata": {},
   "outputs": [],
   "source": [
    "driver.find_element_by_link_text('Chevrolet').click()"
   ]
  },
  {
   "cell_type": "code",
   "execution_count": 237,
   "metadata": {},
   "outputs": [],
   "source": [
    "# brand = []\n",
    "# year = []\n",
    "# fuelType = []\n",
    "# transmission = []\n",
    "# cc = []\n",
    "# km_driven = []\n",
    "# price = []\n",
    "# description = []\n",
    "# url = []"
   ]
  },
  {
   "cell_type": "code",
   "execution_count": 238,
   "metadata": {},
   "outputs": [],
   "source": [
    "import json\n",
    "\n",
    "for j in range(100):\n",
    "    time.sleep(10)\n",
    "    cards = driver.find_elements_by_css_selector('.classified-listing   ')\n",
    "    for i in cards:\n",
    "        try:\n",
    "            lib = i.find_element_by_tag_name('script').get_attribute('innerHTML')\n",
    "            item = json.loads(lib.replace('\\n', ''))\n",
    "            brand.append(item['brand']['name'])\n",
    "            year.append(item['modelDate'])\n",
    "            fuelType.append(item['fuelType'])\n",
    "            transmission.append(item['vehicleTransmission'])\n",
    "            cc.append(item['vehicleEngine']['engineDisplacement'])\n",
    "            km_driven.append(item['mileageFromOdometer'])\n",
    "            price.append(item['offers']['price'])\n",
    "            url.append(item['offers']['url'])\n",
    "            description.append(item['name'])\n",
    "        except NoSuchElementException:\n",
    "            pass \n",
    "\n",
    "\n",
    "    try:\n",
    "        time.sleep(3)\n",
    "        element = driver.find_element_by_link_text('Next ›')\n",
    "        actions = ActionChains(driver)\n",
    "        actions.move_to_element(element).perform()\n",
    "        time.sleep(5)\n",
    "        element.click()\n",
    "    except NoSuchElementException:\n",
    "        break"
   ]
  },
  {
   "cell_type": "code",
   "execution_count": 239,
   "metadata": {},
   "outputs": [
    {
     "data": {
      "text/html": [
       "<div>\n",
       "<style scoped>\n",
       "    .dataframe tbody tr th:only-of-type {\n",
       "        vertical-align: middle;\n",
       "    }\n",
       "\n",
       "    .dataframe tbody tr th {\n",
       "        vertical-align: top;\n",
       "    }\n",
       "\n",
       "    .dataframe thead th {\n",
       "        text-align: right;\n",
       "    }\n",
       "</style>\n",
       "<table border=\"1\" class=\"dataframe\">\n",
       "  <thead>\n",
       "    <tr style=\"text-align: right;\">\n",
       "      <th></th>\n",
       "      <th>Make</th>\n",
       "      <th>Model_Year</th>\n",
       "      <th>Fuel_Type</th>\n",
       "      <th>Transmission</th>\n",
       "      <th>Engine_Capacity</th>\n",
       "      <th>Kms_Driven</th>\n",
       "      <th>Price</th>\n",
       "      <th>Url</th>\n",
       "      <th>Description</th>\n",
       "    </tr>\n",
       "  </thead>\n",
       "  <tbody>\n",
       "    <tr>\n",
       "      <th>0</th>\n",
       "      <td>Chevrolet</td>\n",
       "      <td>2006</td>\n",
       "      <td>Petrol</td>\n",
       "      <td>Manual</td>\n",
       "      <td>1000cc</td>\n",
       "      <td>186,000 km</td>\n",
       "      <td>575000</td>\n",
       "      <td>https://www.pakwheels.com/used-cars/chevrolet-...</td>\n",
       "      <td>Chevrolet Joy 2006 for sale in Islamabad</td>\n",
       "    </tr>\n",
       "    <tr>\n",
       "      <th>1</th>\n",
       "      <td>Chevrolet</td>\n",
       "      <td>2007</td>\n",
       "      <td>Petrol</td>\n",
       "      <td>Manual</td>\n",
       "      <td>1000cc</td>\n",
       "      <td>163,000 km</td>\n",
       "      <td>650000</td>\n",
       "      <td>https://www.pakwheels.com/used-cars/chevrolet-...</td>\n",
       "      <td>Chevrolet Joy 2007 for sale in Lahore</td>\n",
       "    </tr>\n",
       "    <tr>\n",
       "      <th>2</th>\n",
       "      <td>Chevrolet</td>\n",
       "      <td>1981</td>\n",
       "      <td>Petrol</td>\n",
       "      <td>Automatic</td>\n",
       "      <td>5700cc</td>\n",
       "      <td>110,000 km</td>\n",
       "      <td>9000000</td>\n",
       "      <td>https://www.pakwheels.com/used-cars/chevrolet-...</td>\n",
       "      <td>Chevrolet Corvette 1981 for sale in Lahore</td>\n",
       "    </tr>\n",
       "    <tr>\n",
       "      <th>3</th>\n",
       "      <td>Chevrolet</td>\n",
       "      <td>2005</td>\n",
       "      <td>Petrol</td>\n",
       "      <td>Automatic</td>\n",
       "      <td>1600cc</td>\n",
       "      <td>128,109 km</td>\n",
       "      <td>1090000</td>\n",
       "      <td>https://www.pakwheels.com/used-cars/chevrolet-...</td>\n",
       "      <td>Chevrolet Optra 2005 for sale in Karachi</td>\n",
       "    </tr>\n",
       "    <tr>\n",
       "      <th>4</th>\n",
       "      <td>Chevrolet</td>\n",
       "      <td>2006</td>\n",
       "      <td>Petrol</td>\n",
       "      <td>Automatic</td>\n",
       "      <td>1600cc</td>\n",
       "      <td>130,000 km</td>\n",
       "      <td>1100000</td>\n",
       "      <td>https://www.pakwheels.com/used-cars/chevrolet-...</td>\n",
       "      <td>Chevrolet Optra 2006 for sale in Rawalpindi</td>\n",
       "    </tr>\n",
       "  </tbody>\n",
       "</table>\n",
       "</div>"
      ],
      "text/plain": [
       "        Make  Model_Year Fuel_Type Transmission Engine_Capacity  Kms_Driven  \\\n",
       "0  Chevrolet        2006    Petrol       Manual          1000cc  186,000 km   \n",
       "1  Chevrolet        2007    Petrol       Manual          1000cc  163,000 km   \n",
       "2  Chevrolet        1981    Petrol    Automatic          5700cc  110,000 km   \n",
       "3  Chevrolet        2005    Petrol    Automatic          1600cc  128,109 km   \n",
       "4  Chevrolet        2006    Petrol    Automatic          1600cc  130,000 km   \n",
       "\n",
       "     Price                                                Url  \\\n",
       "0   575000  https://www.pakwheels.com/used-cars/chevrolet-...   \n",
       "1   650000  https://www.pakwheels.com/used-cars/chevrolet-...   \n",
       "2  9000000  https://www.pakwheels.com/used-cars/chevrolet-...   \n",
       "3  1090000  https://www.pakwheels.com/used-cars/chevrolet-...   \n",
       "4  1100000  https://www.pakwheels.com/used-cars/chevrolet-...   \n",
       "\n",
       "                                   Description  \n",
       "0     Chevrolet Joy 2006 for sale in Islamabad  \n",
       "1        Chevrolet Joy 2007 for sale in Lahore  \n",
       "2   Chevrolet Corvette 1981 for sale in Lahore  \n",
       "3     Chevrolet Optra 2005 for sale in Karachi  \n",
       "4  Chevrolet Optra 2006 for sale in Rawalpindi  "
      ]
     },
     "execution_count": 239,
     "metadata": {},
     "output_type": "execute_result"
    }
   ],
   "source": [
    "chevrolet = pd.DataFrame({'Make':brand, 'Model_Year':year, 'Fuel_Type':fuelType, \n",
    "             'Transmission':transmission, 'Engine_Capacity':cc, 'Kms_Driven':km_driven,\n",
    "             'Price':price, 'Url':url, 'Description':description})\n",
    "chevrolet.head()"
   ]
  },
  {
   "cell_type": "code",
   "execution_count": 240,
   "metadata": {},
   "outputs": [
    {
     "data": {
      "text/plain": [
       "(183, 9)"
      ]
     },
     "execution_count": 240,
     "metadata": {},
     "output_type": "execute_result"
    }
   ],
   "source": [
    "chevrolet.drop_duplicates(inplace=True)\n",
    "chevrolet.to_csv('Chevrolet', index=False)\n",
    "chevrolet.shape"
   ]
  },
  {
   "cell_type": "code",
   "execution_count": null,
   "metadata": {},
   "outputs": [],
   "source": []
  },
  {
   "cell_type": "markdown",
   "metadata": {},
   "source": [
    "# Jeep"
   ]
  },
  {
   "cell_type": "code",
   "execution_count": 241,
   "metadata": {},
   "outputs": [],
   "source": [
    "driver.find_element_by_link_text('Jeep').click()"
   ]
  },
  {
   "cell_type": "code",
   "execution_count": 242,
   "metadata": {},
   "outputs": [],
   "source": [
    "# brand = []\n",
    "# year = []\n",
    "# fuelType = []\n",
    "# transmission = []\n",
    "# cc = []\n",
    "# km_driven = []\n",
    "# price = []\n",
    "# description = []\n",
    "# url = []"
   ]
  },
  {
   "cell_type": "code",
   "execution_count": 244,
   "metadata": {},
   "outputs": [],
   "source": [
    "import json\n",
    "\n",
    "for j in range(98):\n",
    "    time.sleep(10)\n",
    "    cards = driver.find_elements_by_css_selector('.classified-listing   ')\n",
    "    for i in cards:\n",
    "        try:\n",
    "            lib = i.find_element_by_tag_name('script').get_attribute('innerHTML')\n",
    "            item = json.loads(lib.replace('\\n', ''))\n",
    "            brand.append(item['brand']['name'])\n",
    "            year.append(item['modelDate'])\n",
    "            fuelType.append(item['fuelType'])\n",
    "            transmission.append(item['vehicleTransmission'])\n",
    "            cc.append(item['vehicleEngine']['engineDisplacement'])\n",
    "            km_driven.append(item['mileageFromOdometer'])\n",
    "            price.append(item['offers']['price'])\n",
    "            url.append(item['offers']['url'])\n",
    "            description.append(item['name'])\n",
    "        except NoSuchElementException:\n",
    "            pass \n",
    "\n",
    "\n",
    "    try:\n",
    "        time.sleep(3)\n",
    "        element = driver.find_element_by_link_text('Next ›')\n",
    "        actions = ActionChains(driver)\n",
    "        actions.move_to_element(element).perform()\n",
    "        time.sleep(5)\n",
    "        element.click()\n",
    "    except NoSuchElementException:\n",
    "        break"
   ]
  },
  {
   "cell_type": "code",
   "execution_count": 245,
   "metadata": {},
   "outputs": [
    {
     "data": {
      "text/html": [
       "<div>\n",
       "<style scoped>\n",
       "    .dataframe tbody tr th:only-of-type {\n",
       "        vertical-align: middle;\n",
       "    }\n",
       "\n",
       "    .dataframe tbody tr th {\n",
       "        vertical-align: top;\n",
       "    }\n",
       "\n",
       "    .dataframe thead th {\n",
       "        text-align: right;\n",
       "    }\n",
       "</style>\n",
       "<table border=\"1\" class=\"dataframe\">\n",
       "  <thead>\n",
       "    <tr style=\"text-align: right;\">\n",
       "      <th></th>\n",
       "      <th>Make</th>\n",
       "      <th>Model_Year</th>\n",
       "      <th>Fuel_Type</th>\n",
       "      <th>Transmission</th>\n",
       "      <th>Engine_Capacity</th>\n",
       "      <th>Kms_Driven</th>\n",
       "      <th>Price</th>\n",
       "      <th>Url</th>\n",
       "      <th>Description</th>\n",
       "    </tr>\n",
       "  </thead>\n",
       "  <tbody>\n",
       "    <tr>\n",
       "      <th>0</th>\n",
       "      <td>Jeep</td>\n",
       "      <td>2013</td>\n",
       "      <td>Petrol</td>\n",
       "      <td>Automatic</td>\n",
       "      <td>6400cc</td>\n",
       "      <td>26,000 km</td>\n",
       "      <td>24000000</td>\n",
       "      <td>https://www.pakwheels.com/used-cars/jeep-chero...</td>\n",
       "      <td>Jeep Cherokee 2013 for sale in Lahore</td>\n",
       "    </tr>\n",
       "    <tr>\n",
       "      <th>1</th>\n",
       "      <td>Jeep</td>\n",
       "      <td>2020</td>\n",
       "      <td>Petrol</td>\n",
       "      <td>Automatic</td>\n",
       "      <td>3600cc</td>\n",
       "      <td>18,000 km</td>\n",
       "      <td>23500000</td>\n",
       "      <td>https://www.pakwheels.com/used-cars/jeep-other...</td>\n",
       "      <td>Jeep Other 2020 for sale in Karachi</td>\n",
       "    </tr>\n",
       "    <tr>\n",
       "      <th>2</th>\n",
       "      <td>Jeep</td>\n",
       "      <td>1964</td>\n",
       "      <td>Diesel</td>\n",
       "      <td>Manual</td>\n",
       "      <td>2200cc</td>\n",
       "      <td>100,000 km</td>\n",
       "      <td>975000</td>\n",
       "      <td>https://www.pakwheels.com/used-cars/jeep-cj-5-...</td>\n",
       "      <td>Jeep CJ 5 1964 for sale in Islamabad</td>\n",
       "    </tr>\n",
       "    <tr>\n",
       "      <th>3</th>\n",
       "      <td>Jeep</td>\n",
       "      <td>1980</td>\n",
       "      <td>Diesel</td>\n",
       "      <td>Manual</td>\n",
       "      <td>2400cc</td>\n",
       "      <td>24,000 km</td>\n",
       "      <td>1450000</td>\n",
       "      <td>https://www.pakwheels.com/used-cars/jeep-cj-7-...</td>\n",
       "      <td>Jeep Cj 7 1980 for sale in Rawalpindi</td>\n",
       "    </tr>\n",
       "    <tr>\n",
       "      <th>4</th>\n",
       "      <td>Jeep</td>\n",
       "      <td>1992</td>\n",
       "      <td>Diesel</td>\n",
       "      <td>Manual</td>\n",
       "      <td>2000cc</td>\n",
       "      <td>70,000 km</td>\n",
       "      <td>850000</td>\n",
       "      <td>https://www.pakwheels.com/used-cars/jeep-m-825...</td>\n",
       "      <td>Jeep M 825 1992 for sale in Sialkot</td>\n",
       "    </tr>\n",
       "  </tbody>\n",
       "</table>\n",
       "</div>"
      ],
      "text/plain": [
       "   Make  Model_Year Fuel_Type Transmission Engine_Capacity  Kms_Driven  \\\n",
       "0  Jeep        2013    Petrol    Automatic          6400cc   26,000 km   \n",
       "1  Jeep        2020    Petrol    Automatic          3600cc   18,000 km   \n",
       "2  Jeep        1964    Diesel       Manual          2200cc  100,000 km   \n",
       "3  Jeep        1980    Diesel       Manual          2400cc   24,000 km   \n",
       "4  Jeep        1992    Diesel       Manual          2000cc   70,000 km   \n",
       "\n",
       "      Price                                                Url  \\\n",
       "0  24000000  https://www.pakwheels.com/used-cars/jeep-chero...   \n",
       "1  23500000  https://www.pakwheels.com/used-cars/jeep-other...   \n",
       "2    975000  https://www.pakwheels.com/used-cars/jeep-cj-5-...   \n",
       "3   1450000  https://www.pakwheels.com/used-cars/jeep-cj-7-...   \n",
       "4    850000  https://www.pakwheels.com/used-cars/jeep-m-825...   \n",
       "\n",
       "                             Description  \n",
       "0  Jeep Cherokee 2013 for sale in Lahore  \n",
       "1    Jeep Other 2020 for sale in Karachi  \n",
       "2   Jeep CJ 5 1964 for sale in Islamabad  \n",
       "3  Jeep Cj 7 1980 for sale in Rawalpindi  \n",
       "4    Jeep M 825 1992 for sale in Sialkot  "
      ]
     },
     "execution_count": 245,
     "metadata": {},
     "output_type": "execute_result"
    }
   ],
   "source": [
    "jeep = pd.DataFrame({'Make':brand, 'Model_Year':year, 'Fuel_Type':fuelType, \n",
    "             'Transmission':transmission, 'Engine_Capacity':cc, 'Kms_Driven':km_driven,\n",
    "             'Price':price, 'Url':url, 'Description':description})\n",
    "jeep.head()"
   ]
  },
  {
   "cell_type": "code",
   "execution_count": 246,
   "metadata": {},
   "outputs": [
    {
     "data": {
      "text/plain": [
       "(121, 9)"
      ]
     },
     "execution_count": 246,
     "metadata": {},
     "output_type": "execute_result"
    }
   ],
   "source": [
    "jeep.drop_duplicates(inplace=True)\n",
    "jeep.to_csv('Jeep', index=False)\n",
    "jeep.shape"
   ]
  },
  {
   "cell_type": "code",
   "execution_count": null,
   "metadata": {},
   "outputs": [],
   "source": []
  },
  {
   "cell_type": "code",
   "execution_count": null,
   "metadata": {},
   "outputs": [],
   "source": []
  },
  {
   "cell_type": "code",
   "execution_count": null,
   "metadata": {},
   "outputs": [],
   "source": []
  },
  {
   "cell_type": "code",
   "execution_count": null,
   "metadata": {},
   "outputs": [],
   "source": []
  },
  {
   "cell_type": "code",
   "execution_count": null,
   "metadata": {},
   "outputs": [],
   "source": []
  }
 ],
 "metadata": {
  "kernelspec": {
   "display_name": "Python 3",
   "language": "python",
   "name": "python3"
  },
  "language_info": {
   "codemirror_mode": {
    "name": "ipython",
    "version": 3
   },
   "file_extension": ".py",
   "mimetype": "text/x-python",
   "name": "python",
   "nbconvert_exporter": "python",
   "pygments_lexer": "ipython3",
   "version": "3.6.13"
  }
 },
 "nbformat": 4,
 "nbformat_minor": 4
}
