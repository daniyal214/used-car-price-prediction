{
 "cells": [
  {
   "cell_type": "code",
   "execution_count": 15,
   "metadata": {},
   "outputs": [],
   "source": [
    "import pandas as pd\n",
    "import numpy as np\n",
    "from selenium import webdriver\n",
    "from webdriver_manager.chrome import ChromeDriverManager\n",
    "from selenium.webdriver.chrome.options import Options\n",
    "from selenium.webdriver.support.ui import Select\n",
    "import time\n",
    "from selenium.webdriver.common.keys import Keys\n",
    "from selenium.common.exceptions import NoSuchElementException\n",
    "from selenium.webdriver.support.ui import WebDriverWait\n",
    "from selenium.webdriver.support import expected_conditions as EC\n",
    "from selenium.webdriver.common.by import By\n",
    "from selenium.webdriver.common.action_chains import ActionChains\n",
    "import re"
   ]
  },
  {
   "cell_type": "code",
   "execution_count": 16,
   "metadata": {},
   "outputs": [],
   "source": [
    "URL = 'https://www.pakwheels.com/'"
   ]
  },
  {
   "cell_type": "code",
   "execution_count": 17,
   "metadata": {},
   "outputs": [],
   "source": [
    "from selenium.webdriver.chrome.options import Options\n",
    "from selenium.webdriver.common.desired_capabilities import DesiredCapabilities\n",
    "\n",
    "\n",
    "options = webdriver.ChromeOptions()\n",
    "driver = webdriver.Chrome(executable_path='/home/daniyal214/Desktop/Data Science/chromedriver',\n",
    "                         options = options)\n",
    "driver.get(URL)"
   ]
  },
  {
   "cell_type": "code",
   "execution_count": 18,
   "metadata": {},
   "outputs": [],
   "source": [
    "# driver.find_element_by_xpath('//*[@id=\"om-lightbox-modern-optin-wrap\"]/a').click()"
   ]
  },
  {
   "cell_type": "code",
   "execution_count": 19,
   "metadata": {},
   "outputs": [],
   "source": [
    "driver.find_element_by_xpath('//*[@id=\"browes_make_id\"]').click()"
   ]
  },
  {
   "cell_type": "code",
   "execution_count": null,
   "metadata": {},
   "outputs": [],
   "source": []
  },
  {
   "cell_type": "markdown",
   "metadata": {},
   "source": [
    "# Suzuki "
   ]
  },
  {
   "cell_type": "code",
   "execution_count": 92,
   "metadata": {},
   "outputs": [],
   "source": [
    "driver.find_element_by_link_text('Suzuki').click()"
   ]
  },
  {
   "cell_type": "code",
   "execution_count": 21,
   "metadata": {},
   "outputs": [],
   "source": [
    "# featured = driver.find_elements_by_css_selector('.classified-listing.featured-listing')\n",
    "# cards = driver.find_elements_by_css_selector('.classified-listing   ')"
   ]
  },
  {
   "cell_type": "code",
   "execution_count": 94,
   "metadata": {},
   "outputs": [],
   "source": [
    "# brand = []\n",
    "# year = []\n",
    "# fuelType = []\n",
    "# transmission = []\n",
    "# cc = []\n",
    "# km_driven = []\n",
    "# price = []\n",
    "# description = []\n",
    "# url = []"
   ]
  },
  {
   "cell_type": "code",
   "execution_count": 95,
   "metadata": {},
   "outputs": [],
   "source": [
    "import json"
   ]
  },
  {
   "cell_type": "code",
   "execution_count": 96,
   "metadata": {},
   "outputs": [
    {
     "data": {
      "text/plain": [
       "1180"
      ]
     },
     "execution_count": 96,
     "metadata": {},
     "output_type": "execute_result"
    }
   ],
   "source": [
    "# 1280-100"
   ]
  },
  {
   "cell_type": "code",
   "execution_count": 97,
   "metadata": {},
   "outputs": [],
   "source": [
    "for j in range(1200):\n",
    "    time.sleep(10)\n",
    "    cards = driver.find_elements_by_css_selector('.classified-listing   ')\n",
    "    for i in cards:\n",
    "        try:\n",
    "            lib = i.find_element_by_tag_name('script').get_attribute('innerHTML')\n",
    "            item = json.loads(lib.replace('\\n', ''))\n",
    "            brand.append(item['brand']['name'])\n",
    "            year.append(item['modelDate'])\n",
    "            fuelType.append(item['fuelType'])\n",
    "            transmission.append(item['vehicleTransmission'])\n",
    "            cc.append(item['vehicleEngine']['engineDisplacement'])\n",
    "            km_driven.append(item['mileageFromOdometer'])\n",
    "            price.append(item['offers']['price'])\n",
    "            url.append(item['offers']['url'])\n",
    "            description.append(item['name'])\n",
    "        except NoSuchElementException:\n",
    "            pass \n",
    "\n",
    "\n",
    "    try:\n",
    "        time.sleep(3)\n",
    "        element = driver.find_element_by_link_text('Next ›')\n",
    "        actions = ActionChains(driver)\n",
    "        actions.move_to_element(element).perform()\n",
    "        time.sleep(5)\n",
    "        element.click()\n",
    "    except NoSuchElementException:\n",
    "        break"
   ]
  },
  {
   "cell_type": "code",
   "execution_count": 30,
   "metadata": {},
   "outputs": [
    {
     "data": {
      "text/plain": [
       "3121"
      ]
     },
     "execution_count": 30,
     "metadata": {},
     "output_type": "execute_result"
    }
   ],
   "source": [
    "len(brand)"
   ]
  },
  {
   "cell_type": "code",
   "execution_count": 98,
   "metadata": {},
   "outputs": [
    {
     "data": {
      "text/html": [
       "<div>\n",
       "<style scoped>\n",
       "    .dataframe tbody tr th:only-of-type {\n",
       "        vertical-align: middle;\n",
       "    }\n",
       "\n",
       "    .dataframe tbody tr th {\n",
       "        vertical-align: top;\n",
       "    }\n",
       "\n",
       "    .dataframe thead th {\n",
       "        text-align: right;\n",
       "    }\n",
       "</style>\n",
       "<table border=\"1\" class=\"dataframe\">\n",
       "  <thead>\n",
       "    <tr style=\"text-align: right;\">\n",
       "      <th></th>\n",
       "      <th>Make</th>\n",
       "      <th>Model_Year</th>\n",
       "      <th>Fuel_Type</th>\n",
       "      <th>Transmission</th>\n",
       "      <th>Engine_Capacity</th>\n",
       "      <th>Kms_Driven</th>\n",
       "      <th>Price</th>\n",
       "      <th>Url</th>\n",
       "      <th>Description</th>\n",
       "    </tr>\n",
       "  </thead>\n",
       "  <tbody>\n",
       "    <tr>\n",
       "      <th>0</th>\n",
       "      <td>Suzuki</td>\n",
       "      <td>2009</td>\n",
       "      <td>Petrol</td>\n",
       "      <td>Automatic</td>\n",
       "      <td>660cc</td>\n",
       "      <td>150,000 km</td>\n",
       "      <td>1050000</td>\n",
       "      <td>https://www.pakwheels.com/used-cars/suzuki-mr-...</td>\n",
       "      <td>Suzuki MR Wagon 2009 for sale in Wah cantt</td>\n",
       "    </tr>\n",
       "    <tr>\n",
       "      <th>1</th>\n",
       "      <td>Suzuki</td>\n",
       "      <td>2015</td>\n",
       "      <td>Petrol</td>\n",
       "      <td>Manual</td>\n",
       "      <td>800cc</td>\n",
       "      <td>38,000 km</td>\n",
       "      <td>860000</td>\n",
       "      <td>https://www.pakwheels.com/used-cars/suzuki-meh...</td>\n",
       "      <td>Suzuki Mehran 2015 for sale in Faisalabad</td>\n",
       "    </tr>\n",
       "    <tr>\n",
       "      <th>2</th>\n",
       "      <td>Suzuki</td>\n",
       "      <td>2012</td>\n",
       "      <td>Petrol</td>\n",
       "      <td>Manual</td>\n",
       "      <td>1000cc</td>\n",
       "      <td>38,000 km</td>\n",
       "      <td>675000</td>\n",
       "      <td>https://www.pakwheels.com/used-cars/suzuki-meh...</td>\n",
       "      <td>Suzuki Mehran 2012 for sale in Islamabad</td>\n",
       "    </tr>\n",
       "    <tr>\n",
       "      <th>3</th>\n",
       "      <td>Suzuki</td>\n",
       "      <td>2019</td>\n",
       "      <td>Petrol</td>\n",
       "      <td>Manual</td>\n",
       "      <td>1000cc</td>\n",
       "      <td>31,000 km</td>\n",
       "      <td>1625000</td>\n",
       "      <td>https://www.pakwheels.com/used-cars/suzuki-wag...</td>\n",
       "      <td>Suzuki Wagon R 2019 for sale in Islamabad</td>\n",
       "    </tr>\n",
       "    <tr>\n",
       "      <th>4</th>\n",
       "      <td>Suzuki</td>\n",
       "      <td>2001</td>\n",
       "      <td>Petrol</td>\n",
       "      <td>Manual</td>\n",
       "      <td>1000cc</td>\n",
       "      <td>500,000 km</td>\n",
       "      <td>470000</td>\n",
       "      <td>https://www.pakwheels.com/used-cars/suzuki-alt...</td>\n",
       "      <td>Suzuki Alto 2001 for sale in Lala musa</td>\n",
       "    </tr>\n",
       "  </tbody>\n",
       "</table>\n",
       "</div>"
      ],
      "text/plain": [
       "     Make  Model_Year Fuel_Type Transmission Engine_Capacity  Kms_Driven  \\\n",
       "0  Suzuki        2009    Petrol    Automatic           660cc  150,000 km   \n",
       "1  Suzuki        2015    Petrol       Manual           800cc   38,000 km   \n",
       "2  Suzuki        2012    Petrol       Manual          1000cc   38,000 km   \n",
       "3  Suzuki        2019    Petrol       Manual          1000cc   31,000 km   \n",
       "4  Suzuki        2001    Petrol       Manual          1000cc  500,000 km   \n",
       "\n",
       "     Price                                                Url  \\\n",
       "0  1050000  https://www.pakwheels.com/used-cars/suzuki-mr-...   \n",
       "1   860000  https://www.pakwheels.com/used-cars/suzuki-meh...   \n",
       "2   675000  https://www.pakwheels.com/used-cars/suzuki-meh...   \n",
       "3  1625000  https://www.pakwheels.com/used-cars/suzuki-wag...   \n",
       "4   470000  https://www.pakwheels.com/used-cars/suzuki-alt...   \n",
       "\n",
       "                                  Description  \n",
       "0  Suzuki MR Wagon 2009 for sale in Wah cantt  \n",
       "1   Suzuki Mehran 2015 for sale in Faisalabad  \n",
       "2    Suzuki Mehran 2012 for sale in Islamabad  \n",
       "3   Suzuki Wagon R 2019 for sale in Islamabad  \n",
       "4      Suzuki Alto 2001 for sale in Lala musa  "
      ]
     },
     "execution_count": 98,
     "metadata": {},
     "output_type": "execute_result"
    }
   ],
   "source": [
    "suzuki = pd.DataFrame({'Make':brand, 'Model_Year':year, 'Fuel_Type':fuelType, \n",
    "             'Transmission':transmission, 'Engine_Capacity':cc, 'Kms_Driven':km_driven,\n",
    "             'Price':price, 'Url':url, 'Description':description})\n",
    "suzuki.head()"
   ]
  },
  {
   "cell_type": "code",
   "execution_count": 99,
   "metadata": {},
   "outputs": [],
   "source": [
    "suzuki.drop_duplicates(inplace=True)"
   ]
  },
  {
   "cell_type": "code",
   "execution_count": null,
   "metadata": {},
   "outputs": [],
   "source": []
  },
  {
   "cell_type": "code",
   "execution_count": 100,
   "metadata": {},
   "outputs": [],
   "source": [
    "suzuki.to_csv('Suzuki2', index=False)"
   ]
  },
  {
   "cell_type": "code",
   "execution_count": 101,
   "metadata": {},
   "outputs": [
    {
     "data": {
      "text/plain": [
       "(29151, 9)"
      ]
     },
     "execution_count": 101,
     "metadata": {},
     "output_type": "execute_result"
    }
   ],
   "source": [
    "suzuki.shape"
   ]
  },
  {
   "cell_type": "code",
   "execution_count": null,
   "metadata": {},
   "outputs": [],
   "source": []
  },
  {
   "cell_type": "markdown",
   "metadata": {},
   "source": [
    "# KIA"
   ]
  },
  {
   "cell_type": "code",
   "execution_count": 38,
   "metadata": {},
   "outputs": [],
   "source": [
    "driver.find_element_by_link_text('KIA').click()"
   ]
  },
  {
   "cell_type": "code",
   "execution_count": 41,
   "metadata": {},
   "outputs": [],
   "source": [
    "#64"
   ]
  },
  {
   "cell_type": "code",
   "execution_count": 44,
   "metadata": {},
   "outputs": [
    {
     "data": {
      "text/plain": [
       "36"
      ]
     },
     "execution_count": 44,
     "metadata": {},
     "output_type": "execute_result"
    }
   ],
   "source": [
    "100-64"
   ]
  },
  {
   "cell_type": "code",
   "execution_count": 39,
   "metadata": {},
   "outputs": [],
   "source": [
    "# brand = []\n",
    "# year = []\n",
    "# fuelType = []\n",
    "# transmission = []\n",
    "# cc = []\n",
    "# km_driven = []\n",
    "# price = []\n",
    "# description = []\n",
    "# url = []"
   ]
  },
  {
   "cell_type": "code",
   "execution_count": null,
   "metadata": {},
   "outputs": [],
   "source": []
  },
  {
   "cell_type": "code",
   "execution_count": 45,
   "metadata": {},
   "outputs": [],
   "source": [
    "import json\n",
    "\n",
    "for j in range(36):\n",
    "    time.sleep(10)\n",
    "    cards = driver.find_elements_by_css_selector('.classified-listing   ')\n",
    "    for i in cards:\n",
    "        try:\n",
    "            lib = i.find_element_by_tag_name('script').get_attribute('innerHTML')\n",
    "            item = json.loads(lib.replace('\\n', ''))\n",
    "            brand.append(item['brand']['name'])\n",
    "            year.append(item['modelDate'])\n",
    "            fuelType.append(item['fuelType'])\n",
    "            transmission.append(item['vehicleTransmission'])\n",
    "            cc.append(item['vehicleEngine']['engineDisplacement'])\n",
    "            km_driven.append(item['mileageFromOdometer'])\n",
    "            price.append(item['offers']['price'])\n",
    "            url.append(item['offers']['url'])\n",
    "            description.append(item['name'])\n",
    "        except NoSuchElementException:\n",
    "            pass \n",
    "\n",
    "\n",
    "    try:\n",
    "        time.sleep(3)\n",
    "        element = driver.find_element_by_link_text('Next ›')\n",
    "        actions = ActionChains(driver)\n",
    "        actions.move_to_element(element).perform()\n",
    "        time.sleep(5)\n",
    "        element.click()\n",
    "    except NoSuchElementException:\n",
    "        break"
   ]
  },
  {
   "cell_type": "code",
   "execution_count": 48,
   "metadata": {},
   "outputs": [
    {
     "data": {
      "text/html": [
       "<div>\n",
       "<style scoped>\n",
       "    .dataframe tbody tr th:only-of-type {\n",
       "        vertical-align: middle;\n",
       "    }\n",
       "\n",
       "    .dataframe tbody tr th {\n",
       "        vertical-align: top;\n",
       "    }\n",
       "\n",
       "    .dataframe thead th {\n",
       "        text-align: right;\n",
       "    }\n",
       "</style>\n",
       "<table border=\"1\" class=\"dataframe\">\n",
       "  <thead>\n",
       "    <tr style=\"text-align: right;\">\n",
       "      <th></th>\n",
       "      <th>Make</th>\n",
       "      <th>Model_Year</th>\n",
       "      <th>Fuel_Type</th>\n",
       "      <th>Transmission</th>\n",
       "      <th>Engine_Capacity</th>\n",
       "      <th>Kms_Driven</th>\n",
       "      <th>Price</th>\n",
       "      <th>Url</th>\n",
       "      <th>Description</th>\n",
       "    </tr>\n",
       "  </thead>\n",
       "  <tbody>\n",
       "    <tr>\n",
       "      <th>0</th>\n",
       "      <td>KIA</td>\n",
       "      <td>2020</td>\n",
       "      <td>Petrol</td>\n",
       "      <td>Automatic</td>\n",
       "      <td>2000cc</td>\n",
       "      <td>9,000 km</td>\n",
       "      <td>5499000</td>\n",
       "      <td>https://www.pakwheels.com/used-cars/kia-sporta...</td>\n",
       "      <td>KIA Sportage 2020 for sale in Sialkot</td>\n",
       "    </tr>\n",
       "    <tr>\n",
       "      <th>1</th>\n",
       "      <td>KIA</td>\n",
       "      <td>2020</td>\n",
       "      <td>Petrol</td>\n",
       "      <td>Automatic</td>\n",
       "      <td>2000cc</td>\n",
       "      <td>22,500 km</td>\n",
       "      <td>5250000</td>\n",
       "      <td>https://www.pakwheels.com/used-cars/kia-sporta...</td>\n",
       "      <td>KIA Sportage 2020 for sale in Lahore</td>\n",
       "    </tr>\n",
       "    <tr>\n",
       "      <th>2</th>\n",
       "      <td>KIA</td>\n",
       "      <td>2019</td>\n",
       "      <td>Petrol</td>\n",
       "      <td>Automatic</td>\n",
       "      <td>3300cc</td>\n",
       "      <td>55,000 km</td>\n",
       "      <td>7200000</td>\n",
       "      <td>https://www.pakwheels.com/used-cars/kia-grand-...</td>\n",
       "      <td>KIA Grand Carnival 2019 for sale in Islamabad</td>\n",
       "    </tr>\n",
       "    <tr>\n",
       "      <th>3</th>\n",
       "      <td>KIA</td>\n",
       "      <td>2021</td>\n",
       "      <td>Petrol</td>\n",
       "      <td>Automatic</td>\n",
       "      <td>2000cc</td>\n",
       "      <td>1 km</td>\n",
       "      <td>4665000</td>\n",
       "      <td>https://www.pakwheels.com/used-cars/kia-sporta...</td>\n",
       "      <td>KIA Sportage 2021 for sale in Sialkot</td>\n",
       "    </tr>\n",
       "    <tr>\n",
       "      <th>4</th>\n",
       "      <td>KIA</td>\n",
       "      <td>2021</td>\n",
       "      <td>Petrol</td>\n",
       "      <td>Automatic</td>\n",
       "      <td>2000cc</td>\n",
       "      <td>4,000 km</td>\n",
       "      <td>5600000</td>\n",
       "      <td>https://www.pakwheels.com/used-cars/kia-sporta...</td>\n",
       "      <td>KIA Sportage 2021 for sale in Gujranwala</td>\n",
       "    </tr>\n",
       "  </tbody>\n",
       "</table>\n",
       "</div>"
      ],
      "text/plain": [
       "  Make  Model_Year Fuel_Type Transmission Engine_Capacity Kms_Driven    Price  \\\n",
       "0  KIA        2020    Petrol    Automatic          2000cc   9,000 km  5499000   \n",
       "1  KIA        2020    Petrol    Automatic          2000cc  22,500 km  5250000   \n",
       "2  KIA        2019    Petrol    Automatic          3300cc  55,000 km  7200000   \n",
       "3  KIA        2021    Petrol    Automatic          2000cc       1 km  4665000   \n",
       "4  KIA        2021    Petrol    Automatic          2000cc   4,000 km  5600000   \n",
       "\n",
       "                                                 Url  \\\n",
       "0  https://www.pakwheels.com/used-cars/kia-sporta...   \n",
       "1  https://www.pakwheels.com/used-cars/kia-sporta...   \n",
       "2  https://www.pakwheels.com/used-cars/kia-grand-...   \n",
       "3  https://www.pakwheels.com/used-cars/kia-sporta...   \n",
       "4  https://www.pakwheels.com/used-cars/kia-sporta...   \n",
       "\n",
       "                                     Description  \n",
       "0          KIA Sportage 2020 for sale in Sialkot  \n",
       "1           KIA Sportage 2020 for sale in Lahore  \n",
       "2  KIA Grand Carnival 2019 for sale in Islamabad  \n",
       "3          KIA Sportage 2021 for sale in Sialkot  \n",
       "4       KIA Sportage 2021 for sale in Gujranwala  "
      ]
     },
     "execution_count": 48,
     "metadata": {},
     "output_type": "execute_result"
    }
   ],
   "source": [
    "kia = pd.DataFrame({'Make':brand, 'Model_Year':year, 'Fuel_Type':fuelType, \n",
    "             'Transmission':transmission, 'Engine_Capacity':cc, 'Kms_Driven':km_driven,\n",
    "             'Price':price, 'Url':url, 'Description':description})\n",
    "kia.head()"
   ]
  },
  {
   "cell_type": "code",
   "execution_count": 49,
   "metadata": {},
   "outputs": [],
   "source": [
    "kia.drop_duplicates(inplace=True)"
   ]
  },
  {
   "cell_type": "code",
   "execution_count": 50,
   "metadata": {},
   "outputs": [],
   "source": [
    "kia.to_csv('KIA', index=False)"
   ]
  },
  {
   "cell_type": "code",
   "execution_count": 51,
   "metadata": {},
   "outputs": [
    {
     "data": {
      "text/plain": [
       "(1562, 9)"
      ]
     },
     "execution_count": 51,
     "metadata": {},
     "output_type": "execute_result"
    }
   ],
   "source": [
    "kia.shape"
   ]
  },
  {
   "cell_type": "code",
   "execution_count": null,
   "metadata": {},
   "outputs": [],
   "source": []
  },
  {
   "cell_type": "markdown",
   "metadata": {},
   "source": [
    "# Mitsubishi"
   ]
  },
  {
   "cell_type": "code",
   "execution_count": 52,
   "metadata": {},
   "outputs": [],
   "source": [
    "driver.find_element_by_link_text('Mitsubishi').click()"
   ]
  },
  {
   "cell_type": "code",
   "execution_count": 53,
   "metadata": {},
   "outputs": [],
   "source": [
    "# brand = []\n",
    "# year = []\n",
    "# fuelType = []\n",
    "# transmission = []\n",
    "# cc = []\n",
    "# km_driven = []\n",
    "# price = []\n",
    "# description = []\n",
    "# url = []"
   ]
  },
  {
   "cell_type": "code",
   "execution_count": 54,
   "metadata": {},
   "outputs": [],
   "source": [
    "import json\n",
    "\n",
    "for j in range(100):\n",
    "    time.sleep(10)\n",
    "    cards = driver.find_elements_by_css_selector('.classified-listing   ')\n",
    "    for i in cards:\n",
    "        try:\n",
    "            lib = i.find_element_by_tag_name('script').get_attribute('innerHTML')\n",
    "            item = json.loads(lib.replace('\\n', ''))\n",
    "            brand.append(item['brand']['name'])\n",
    "            year.append(item['modelDate'])\n",
    "            fuelType.append(item['fuelType'])\n",
    "            transmission.append(item['vehicleTransmission'])\n",
    "            cc.append(item['vehicleEngine']['engineDisplacement'])\n",
    "            km_driven.append(item['mileageFromOdometer'])\n",
    "            price.append(item['offers']['price'])\n",
    "            url.append(item['offers']['url'])\n",
    "            description.append(item['name'])\n",
    "        except NoSuchElementException:\n",
    "            pass \n",
    "\n",
    "\n",
    "    try:\n",
    "        time.sleep(3)\n",
    "        element = driver.find_element_by_link_text('Next ›')\n",
    "        actions = ActionChains(driver)\n",
    "        actions.move_to_element(element).perform()\n",
    "        time.sleep(5)\n",
    "        element.click()\n",
    "    except NoSuchElementException:\n",
    "        break"
   ]
  },
  {
   "cell_type": "code",
   "execution_count": 55,
   "metadata": {},
   "outputs": [
    {
     "data": {
      "text/html": [
       "<div>\n",
       "<style scoped>\n",
       "    .dataframe tbody tr th:only-of-type {\n",
       "        vertical-align: middle;\n",
       "    }\n",
       "\n",
       "    .dataframe tbody tr th {\n",
       "        vertical-align: top;\n",
       "    }\n",
       "\n",
       "    .dataframe thead th {\n",
       "        text-align: right;\n",
       "    }\n",
       "</style>\n",
       "<table border=\"1\" class=\"dataframe\">\n",
       "  <thead>\n",
       "    <tr style=\"text-align: right;\">\n",
       "      <th></th>\n",
       "      <th>Make</th>\n",
       "      <th>Model_Year</th>\n",
       "      <th>Fuel_Type</th>\n",
       "      <th>Transmission</th>\n",
       "      <th>Engine_Capacity</th>\n",
       "      <th>Kms_Driven</th>\n",
       "      <th>Price</th>\n",
       "      <th>Url</th>\n",
       "      <th>Description</th>\n",
       "    </tr>\n",
       "  </thead>\n",
       "  <tbody>\n",
       "    <tr>\n",
       "      <th>0</th>\n",
       "      <td>Mitsubishi</td>\n",
       "      <td>2013</td>\n",
       "      <td>Petrol</td>\n",
       "      <td>Automatic</td>\n",
       "      <td>600cc</td>\n",
       "      <td>171,000 km</td>\n",
       "      <td>1100000</td>\n",
       "      <td>https://www.pakwheels.com/used-cars/mitsubishi...</td>\n",
       "      <td>Mitsubishi Minicab Bravo 2013 for sale in Pesh...</td>\n",
       "    </tr>\n",
       "    <tr>\n",
       "      <th>1</th>\n",
       "      <td>Mitsubishi</td>\n",
       "      <td>2004</td>\n",
       "      <td>Petrol</td>\n",
       "      <td>Automatic</td>\n",
       "      <td>1300cc</td>\n",
       "      <td>212,000 km</td>\n",
       "      <td>1150000</td>\n",
       "      <td>https://www.pakwheels.com/used-cars/mitsubishi...</td>\n",
       "      <td>Mitsubishi Lancer 2004 for sale in Rawalpindi</td>\n",
       "    </tr>\n",
       "    <tr>\n",
       "      <th>2</th>\n",
       "      <td>Mitsubishi</td>\n",
       "      <td>2013</td>\n",
       "      <td>Petrol</td>\n",
       "      <td>Automatic</td>\n",
       "      <td>660cc</td>\n",
       "      <td>94,000 km</td>\n",
       "      <td>1475000</td>\n",
       "      <td>https://www.pakwheels.com/used-cars/mitsubishi...</td>\n",
       "      <td>Mitsubishi Ek Wagon 2013 for sale in Rawalpindi</td>\n",
       "    </tr>\n",
       "    <tr>\n",
       "      <th>3</th>\n",
       "      <td>Mitsubishi</td>\n",
       "      <td>2018</td>\n",
       "      <td>Petrol</td>\n",
       "      <td>Automatic</td>\n",
       "      <td>660cc</td>\n",
       "      <td>19,566 km</td>\n",
       "      <td>1950000</td>\n",
       "      <td>https://www.pakwheels.com/used-cars/mitsubishi...</td>\n",
       "      <td>Mitsubishi Ek Wagon 2018 for sale in Lahore</td>\n",
       "    </tr>\n",
       "    <tr>\n",
       "      <th>4</th>\n",
       "      <td>Mitsubishi</td>\n",
       "      <td>2011</td>\n",
       "      <td>Petrol</td>\n",
       "      <td>Automatic</td>\n",
       "      <td>660cc</td>\n",
       "      <td>90,403 km</td>\n",
       "      <td>1350000</td>\n",
       "      <td>https://www.pakwheels.com/used-cars/mitsubishi...</td>\n",
       "      <td>Mitsubishi Town Box 2011 for sale in Lahore</td>\n",
       "    </tr>\n",
       "  </tbody>\n",
       "</table>\n",
       "</div>"
      ],
      "text/plain": [
       "         Make  Model_Year Fuel_Type Transmission Engine_Capacity  Kms_Driven  \\\n",
       "0  Mitsubishi        2013    Petrol    Automatic           600cc  171,000 km   \n",
       "1  Mitsubishi        2004    Petrol    Automatic          1300cc  212,000 km   \n",
       "2  Mitsubishi        2013    Petrol    Automatic           660cc   94,000 km   \n",
       "3  Mitsubishi        2018    Petrol    Automatic           660cc   19,566 km   \n",
       "4  Mitsubishi        2011    Petrol    Automatic           660cc   90,403 km   \n",
       "\n",
       "     Price                                                Url  \\\n",
       "0  1100000  https://www.pakwheels.com/used-cars/mitsubishi...   \n",
       "1  1150000  https://www.pakwheels.com/used-cars/mitsubishi...   \n",
       "2  1475000  https://www.pakwheels.com/used-cars/mitsubishi...   \n",
       "3  1950000  https://www.pakwheels.com/used-cars/mitsubishi...   \n",
       "4  1350000  https://www.pakwheels.com/used-cars/mitsubishi...   \n",
       "\n",
       "                                         Description  \n",
       "0  Mitsubishi Minicab Bravo 2013 for sale in Pesh...  \n",
       "1      Mitsubishi Lancer 2004 for sale in Rawalpindi  \n",
       "2    Mitsubishi Ek Wagon 2013 for sale in Rawalpindi  \n",
       "3        Mitsubishi Ek Wagon 2018 for sale in Lahore  \n",
       "4        Mitsubishi Town Box 2011 for sale in Lahore  "
      ]
     },
     "execution_count": 55,
     "metadata": {},
     "output_type": "execute_result"
    }
   ],
   "source": [
    "mitsubishi = pd.DataFrame({'Make':brand, 'Model_Year':year, 'Fuel_Type':fuelType, \n",
    "             'Transmission':transmission, 'Engine_Capacity':cc, 'Kms_Driven':km_driven,\n",
    "             'Price':price, 'Url':url, 'Description':description})\n",
    "mitsubishi.head()"
   ]
  },
  {
   "cell_type": "code",
   "execution_count": 56,
   "metadata": {},
   "outputs": [],
   "source": [
    "mitsubishi.drop_duplicates(inplace=True)"
   ]
  },
  {
   "cell_type": "code",
   "execution_count": 57,
   "metadata": {},
   "outputs": [],
   "source": [
    "mitsubishi.to_csv('Mitsubishi', index=False)"
   ]
  },
  {
   "cell_type": "code",
   "execution_count": 58,
   "metadata": {},
   "outputs": [
    {
     "data": {
      "text/plain": [
       "(1498, 9)"
      ]
     },
     "execution_count": 58,
     "metadata": {},
     "output_type": "execute_result"
    }
   ],
   "source": [
    "mitsubishi.shape"
   ]
  },
  {
   "cell_type": "code",
   "execution_count": null,
   "metadata": {},
   "outputs": [],
   "source": []
  },
  {
   "cell_type": "markdown",
   "metadata": {},
   "source": [
    "# FAW"
   ]
  },
  {
   "cell_type": "code",
   "execution_count": 59,
   "metadata": {},
   "outputs": [],
   "source": [
    "driver.find_element_by_link_text('FAW').click()"
   ]
  },
  {
   "cell_type": "code",
   "execution_count": 60,
   "metadata": {},
   "outputs": [],
   "source": [
    "# brand = []\n",
    "# year = []\n",
    "# fuelType = []\n",
    "# transmission = []\n",
    "# cc = []\n",
    "# km_driven = []\n",
    "# price = []\n",
    "# description = []\n",
    "# url = []"
   ]
  },
  {
   "cell_type": "code",
   "execution_count": 61,
   "metadata": {},
   "outputs": [],
   "source": [
    "import json\n",
    "\n",
    "for j in range(100):\n",
    "    time.sleep(10)\n",
    "    cards = driver.find_elements_by_css_selector('.classified-listing   ')\n",
    "    for i in cards:\n",
    "        try:\n",
    "            lib = i.find_element_by_tag_name('script').get_attribute('innerHTML')\n",
    "            item = json.loads(lib.replace('\\n', ''))\n",
    "            brand.append(item['brand']['name'])\n",
    "            year.append(item['modelDate'])\n",
    "            fuelType.append(item['fuelType'])\n",
    "            transmission.append(item['vehicleTransmission'])\n",
    "            cc.append(item['vehicleEngine']['engineDisplacement'])\n",
    "            km_driven.append(item['mileageFromOdometer'])\n",
    "            price.append(item['offers']['price'])\n",
    "            url.append(item['offers']['url'])\n",
    "            description.append(item['name'])\n",
    "        except NoSuchElementException:\n",
    "            pass \n",
    "\n",
    "\n",
    "    try:\n",
    "        time.sleep(3)\n",
    "        element = driver.find_element_by_link_text('Next ›')\n",
    "        actions = ActionChains(driver)\n",
    "        actions.move_to_element(element).perform()\n",
    "        time.sleep(5)\n",
    "        element.click()\n",
    "    except NoSuchElementException:\n",
    "        break"
   ]
  },
  {
   "cell_type": "code",
   "execution_count": 62,
   "metadata": {},
   "outputs": [
    {
     "data": {
      "text/html": [
       "<div>\n",
       "<style scoped>\n",
       "    .dataframe tbody tr th:only-of-type {\n",
       "        vertical-align: middle;\n",
       "    }\n",
       "\n",
       "    .dataframe tbody tr th {\n",
       "        vertical-align: top;\n",
       "    }\n",
       "\n",
       "    .dataframe thead th {\n",
       "        text-align: right;\n",
       "    }\n",
       "</style>\n",
       "<table border=\"1\" class=\"dataframe\">\n",
       "  <thead>\n",
       "    <tr style=\"text-align: right;\">\n",
       "      <th></th>\n",
       "      <th>Make</th>\n",
       "      <th>Model_Year</th>\n",
       "      <th>Fuel_Type</th>\n",
       "      <th>Transmission</th>\n",
       "      <th>Engine_Capacity</th>\n",
       "      <th>Kms_Driven</th>\n",
       "      <th>Price</th>\n",
       "      <th>Url</th>\n",
       "      <th>Description</th>\n",
       "    </tr>\n",
       "  </thead>\n",
       "  <tbody>\n",
       "    <tr>\n",
       "      <th>0</th>\n",
       "      <td>FAW</td>\n",
       "      <td>2015</td>\n",
       "      <td>Petrol</td>\n",
       "      <td>Manual</td>\n",
       "      <td>1300cc</td>\n",
       "      <td>170,000 km</td>\n",
       "      <td>1200000</td>\n",
       "      <td>https://www.pakwheels.com/used-cars/faw-v2-201...</td>\n",
       "      <td>FAW V2 2015 for sale in Lahore</td>\n",
       "    </tr>\n",
       "    <tr>\n",
       "      <th>1</th>\n",
       "      <td>FAW</td>\n",
       "      <td>2017</td>\n",
       "      <td>Petrol</td>\n",
       "      <td>Manual</td>\n",
       "      <td>1300cc</td>\n",
       "      <td>53,000 km</td>\n",
       "      <td>1199000</td>\n",
       "      <td>https://www.pakwheels.com/used-cars/faw-v2-201...</td>\n",
       "      <td>FAW V2 2017 for sale in Lahore</td>\n",
       "    </tr>\n",
       "    <tr>\n",
       "      <th>2</th>\n",
       "      <td>FAW</td>\n",
       "      <td>2016</td>\n",
       "      <td>Petrol</td>\n",
       "      <td>Manual</td>\n",
       "      <td>1000cc</td>\n",
       "      <td>115,000 km</td>\n",
       "      <td>750000</td>\n",
       "      <td>https://www.pakwheels.com/used-cars/faw-x-pv-2...</td>\n",
       "      <td>FAW X-PV 2016 for sale in Chakwal</td>\n",
       "    </tr>\n",
       "    <tr>\n",
       "      <th>3</th>\n",
       "      <td>FAW</td>\n",
       "      <td>2013</td>\n",
       "      <td>Petrol</td>\n",
       "      <td>Manual</td>\n",
       "      <td>1000cc</td>\n",
       "      <td>208,979 km</td>\n",
       "      <td>750000</td>\n",
       "      <td>https://www.pakwheels.com/used-cars/faw-x-pv-2...</td>\n",
       "      <td>FAW X-PV 2013 for sale in Rawalpindi</td>\n",
       "    </tr>\n",
       "    <tr>\n",
       "      <th>4</th>\n",
       "      <td>FAW</td>\n",
       "      <td>2015</td>\n",
       "      <td>Petrol</td>\n",
       "      <td>Manual</td>\n",
       "      <td>1300cc</td>\n",
       "      <td>66,579 km</td>\n",
       "      <td>1200000</td>\n",
       "      <td>https://www.pakwheels.com/used-cars/faw-v2-201...</td>\n",
       "      <td>FAW V2 2015 for sale in Islamabad</td>\n",
       "    </tr>\n",
       "  </tbody>\n",
       "</table>\n",
       "</div>"
      ],
      "text/plain": [
       "  Make  Model_Year Fuel_Type Transmission Engine_Capacity  Kms_Driven  \\\n",
       "0  FAW        2015    Petrol       Manual          1300cc  170,000 km   \n",
       "1  FAW        2017    Petrol       Manual          1300cc   53,000 km   \n",
       "2  FAW        2016    Petrol       Manual          1000cc  115,000 km   \n",
       "3  FAW        2013    Petrol       Manual          1000cc  208,979 km   \n",
       "4  FAW        2015    Petrol       Manual          1300cc   66,579 km   \n",
       "\n",
       "     Price                                                Url  \\\n",
       "0  1200000  https://www.pakwheels.com/used-cars/faw-v2-201...   \n",
       "1  1199000  https://www.pakwheels.com/used-cars/faw-v2-201...   \n",
       "2   750000  https://www.pakwheels.com/used-cars/faw-x-pv-2...   \n",
       "3   750000  https://www.pakwheels.com/used-cars/faw-x-pv-2...   \n",
       "4  1200000  https://www.pakwheels.com/used-cars/faw-v2-201...   \n",
       "\n",
       "                            Description  \n",
       "0        FAW V2 2015 for sale in Lahore  \n",
       "1        FAW V2 2017 for sale in Lahore  \n",
       "2     FAW X-PV 2016 for sale in Chakwal  \n",
       "3  FAW X-PV 2013 for sale in Rawalpindi  \n",
       "4     FAW V2 2015 for sale in Islamabad  "
      ]
     },
     "execution_count": 62,
     "metadata": {},
     "output_type": "execute_result"
    }
   ],
   "source": [
    "faw = pd.DataFrame({'Make':brand, 'Model_Year':year, 'Fuel_Type':fuelType, \n",
    "             'Transmission':transmission, 'Engine_Capacity':cc, 'Kms_Driven':km_driven,\n",
    "             'Price':price, 'Url':url, 'Description':description})\n",
    "faw.head()"
   ]
  },
  {
   "cell_type": "code",
   "execution_count": 63,
   "metadata": {},
   "outputs": [],
   "source": [
    "faw.drop_duplicates(inplace=True)"
   ]
  },
  {
   "cell_type": "code",
   "execution_count": 64,
   "metadata": {},
   "outputs": [],
   "source": [
    "faw.to_csv('FAW', index=False)"
   ]
  },
  {
   "cell_type": "code",
   "execution_count": 65,
   "metadata": {},
   "outputs": [
    {
     "data": {
      "text/plain": [
       "(489, 9)"
      ]
     },
     "execution_count": 65,
     "metadata": {},
     "output_type": "execute_result"
    }
   ],
   "source": [
    "faw.shape"
   ]
  },
  {
   "cell_type": "code",
   "execution_count": null,
   "metadata": {},
   "outputs": [],
   "source": []
  },
  {
   "cell_type": "markdown",
   "metadata": {},
   "source": [
    "# Audi"
   ]
  },
  {
   "cell_type": "code",
   "execution_count": 66,
   "metadata": {},
   "outputs": [],
   "source": [
    "driver.find_element_by_link_text('Audi').click()"
   ]
  },
  {
   "cell_type": "code",
   "execution_count": 67,
   "metadata": {},
   "outputs": [],
   "source": [
    "# brand = []\n",
    "# year = []\n",
    "# fuelType = []\n",
    "# transmission = []\n",
    "# cc = []\n",
    "# km_driven = []\n",
    "# price = []\n",
    "# description = []\n",
    "# url = []"
   ]
  },
  {
   "cell_type": "code",
   "execution_count": 68,
   "metadata": {},
   "outputs": [],
   "source": [
    "import json\n",
    "\n",
    "for j in range(100):\n",
    "    time.sleep(10)\n",
    "    cards = driver.find_elements_by_css_selector('.classified-listing   ')\n",
    "    for i in cards:\n",
    "        try:\n",
    "            lib = i.find_element_by_tag_name('script').get_attribute('innerHTML')\n",
    "            item = json.loads(lib.replace('\\n', ''))\n",
    "            brand.append(item['brand']['name'])\n",
    "            year.append(item['modelDate'])\n",
    "            fuelType.append(item['fuelType'])\n",
    "            transmission.append(item['vehicleTransmission'])\n",
    "            cc.append(item['vehicleEngine']['engineDisplacement'])\n",
    "            km_driven.append(item['mileageFromOdometer'])\n",
    "            price.append(item['offers']['price'])\n",
    "            url.append(item['offers']['url'])\n",
    "            description.append(item['name'])\n",
    "        except NoSuchElementException:\n",
    "            pass \n",
    "\n",
    "\n",
    "    try:\n",
    "        time.sleep(3)\n",
    "        element = driver.find_element_by_link_text('Next ›')\n",
    "        actions = ActionChains(driver)\n",
    "        actions.move_to_element(element).perform()\n",
    "        time.sleep(5)\n",
    "        element.click()\n",
    "    except NoSuchElementException:\n",
    "        break"
   ]
  },
  {
   "cell_type": "code",
   "execution_count": 69,
   "metadata": {},
   "outputs": [
    {
     "data": {
      "text/html": [
       "<div>\n",
       "<style scoped>\n",
       "    .dataframe tbody tr th:only-of-type {\n",
       "        vertical-align: middle;\n",
       "    }\n",
       "\n",
       "    .dataframe tbody tr th {\n",
       "        vertical-align: top;\n",
       "    }\n",
       "\n",
       "    .dataframe thead th {\n",
       "        text-align: right;\n",
       "    }\n",
       "</style>\n",
       "<table border=\"1\" class=\"dataframe\">\n",
       "  <thead>\n",
       "    <tr style=\"text-align: right;\">\n",
       "      <th></th>\n",
       "      <th>Make</th>\n",
       "      <th>Model_Year</th>\n",
       "      <th>Fuel_Type</th>\n",
       "      <th>Transmission</th>\n",
       "      <th>Engine_Capacity</th>\n",
       "      <th>Kms_Driven</th>\n",
       "      <th>Price</th>\n",
       "      <th>Url</th>\n",
       "      <th>Description</th>\n",
       "    </tr>\n",
       "  </thead>\n",
       "  <tbody>\n",
       "    <tr>\n",
       "      <th>0</th>\n",
       "      <td>Audi</td>\n",
       "      <td>2018</td>\n",
       "      <td>Petrol</td>\n",
       "      <td>Automatic</td>\n",
       "      <td>1800cc</td>\n",
       "      <td>24,000 km</td>\n",
       "      <td>14000000</td>\n",
       "      <td>https://www.pakwheels.com/used-cars/audi-a6-20...</td>\n",
       "      <td>Audi A6 2018 for sale in Lahore</td>\n",
       "    </tr>\n",
       "    <tr>\n",
       "      <th>1</th>\n",
       "      <td>Audi</td>\n",
       "      <td>2019</td>\n",
       "      <td>Petrol</td>\n",
       "      <td>Automatic</td>\n",
       "      <td>1400cc</td>\n",
       "      <td>12,000 km</td>\n",
       "      <td>13900000</td>\n",
       "      <td>https://www.pakwheels.com/used-cars/audi-a5-20...</td>\n",
       "      <td>Audi A5 2019 for sale in Islamabad</td>\n",
       "    </tr>\n",
       "    <tr>\n",
       "      <th>2</th>\n",
       "      <td>Audi</td>\n",
       "      <td>2017</td>\n",
       "      <td>Petrol</td>\n",
       "      <td>Automatic</td>\n",
       "      <td>1400cc</td>\n",
       "      <td>72,000 km</td>\n",
       "      <td>8200000</td>\n",
       "      <td>https://www.pakwheels.com/used-cars/audi-a4-20...</td>\n",
       "      <td>Audi A4 2017 for sale in Lahore</td>\n",
       "    </tr>\n",
       "    <tr>\n",
       "      <th>3</th>\n",
       "      <td>Audi</td>\n",
       "      <td>2016</td>\n",
       "      <td>Petrol</td>\n",
       "      <td>Automatic</td>\n",
       "      <td>1400cc</td>\n",
       "      <td>22,000 km</td>\n",
       "      <td>6800000</td>\n",
       "      <td>https://www.pakwheels.com/used-cars/audi-a3-20...</td>\n",
       "      <td>Audi A3 2016 for sale in Gujranwala</td>\n",
       "    </tr>\n",
       "    <tr>\n",
       "      <th>4</th>\n",
       "      <td>Audi</td>\n",
       "      <td>2020</td>\n",
       "      <td>Hybrid</td>\n",
       "      <td>Automatic</td>\n",
       "      <td>230cc</td>\n",
       "      <td>2,900 km</td>\n",
       "      <td>14500000</td>\n",
       "      <td>https://www.pakwheels.com/used-cars/audi-e-tro...</td>\n",
       "      <td>Audi e-tron 2020 for sale in Karachi</td>\n",
       "    </tr>\n",
       "  </tbody>\n",
       "</table>\n",
       "</div>"
      ],
      "text/plain": [
       "   Make  Model_Year Fuel_Type Transmission Engine_Capacity Kms_Driven  \\\n",
       "0  Audi        2018    Petrol    Automatic          1800cc  24,000 km   \n",
       "1  Audi        2019    Petrol    Automatic          1400cc  12,000 km   \n",
       "2  Audi        2017    Petrol    Automatic          1400cc  72,000 km   \n",
       "3  Audi        2016    Petrol    Automatic          1400cc  22,000 km   \n",
       "4  Audi        2020    Hybrid    Automatic           230cc   2,900 km   \n",
       "\n",
       "      Price                                                Url  \\\n",
       "0  14000000  https://www.pakwheels.com/used-cars/audi-a6-20...   \n",
       "1  13900000  https://www.pakwheels.com/used-cars/audi-a5-20...   \n",
       "2   8200000  https://www.pakwheels.com/used-cars/audi-a4-20...   \n",
       "3   6800000  https://www.pakwheels.com/used-cars/audi-a3-20...   \n",
       "4  14500000  https://www.pakwheels.com/used-cars/audi-e-tro...   \n",
       "\n",
       "                            Description  \n",
       "0       Audi A6 2018 for sale in Lahore  \n",
       "1    Audi A5 2019 for sale in Islamabad  \n",
       "2       Audi A4 2017 for sale in Lahore  \n",
       "3   Audi A3 2016 for sale in Gujranwala  \n",
       "4  Audi e-tron 2020 for sale in Karachi  "
      ]
     },
     "execution_count": 69,
     "metadata": {},
     "output_type": "execute_result"
    }
   ],
   "source": [
    "audi = pd.DataFrame({'Make':brand, 'Model_Year':year, 'Fuel_Type':fuelType, \n",
    "             'Transmission':transmission, 'Engine_Capacity':cc, 'Kms_Driven':km_driven,\n",
    "             'Price':price, 'Url':url, 'Description':description})\n",
    "audi.head()"
   ]
  },
  {
   "cell_type": "code",
   "execution_count": 70,
   "metadata": {},
   "outputs": [],
   "source": [
    "audi.drop_duplicates(inplace=True)"
   ]
  },
  {
   "cell_type": "code",
   "execution_count": 71,
   "metadata": {},
   "outputs": [],
   "source": [
    "audi.to_csv('Audi', index=False)"
   ]
  },
  {
   "cell_type": "code",
   "execution_count": 72,
   "metadata": {},
   "outputs": [
    {
     "data": {
      "text/plain": [
       "(331, 9)"
      ]
     },
     "execution_count": 72,
     "metadata": {},
     "output_type": "execute_result"
    }
   ],
   "source": [
    "audi.shape"
   ]
  },
  {
   "cell_type": "code",
   "execution_count": null,
   "metadata": {},
   "outputs": [],
   "source": []
  },
  {
   "cell_type": "markdown",
   "metadata": {},
   "source": [
    "# DFSK"
   ]
  },
  {
   "cell_type": "code",
   "execution_count": 73,
   "metadata": {},
   "outputs": [],
   "source": [
    "driver.find_element_by_link_text('DFSK').click()"
   ]
  },
  {
   "cell_type": "code",
   "execution_count": 74,
   "metadata": {},
   "outputs": [],
   "source": [
    "# brand = []\n",
    "# year = []\n",
    "# fuelType = []\n",
    "# transmission = []\n",
    "# cc = []\n",
    "# km_driven = []\n",
    "# price = []\n",
    "# description = []\n",
    "# url = []"
   ]
  },
  {
   "cell_type": "code",
   "execution_count": 75,
   "metadata": {},
   "outputs": [],
   "source": [
    "import json\n",
    "\n",
    "for j in range(100):\n",
    "    time.sleep(10)\n",
    "    cards = driver.find_elements_by_css_selector('.classified-listing   ')\n",
    "    for i in cards:\n",
    "        try:\n",
    "            lib = i.find_element_by_tag_name('script').get_attribute('innerHTML')\n",
    "            item = json.loads(lib.replace('\\n', ''))\n",
    "            brand.append(item['brand']['name'])\n",
    "            year.append(item['modelDate'])\n",
    "            fuelType.append(item['fuelType'])\n",
    "            transmission.append(item['vehicleTransmission'])\n",
    "            cc.append(item['vehicleEngine']['engineDisplacement'])\n",
    "            km_driven.append(item['mileageFromOdometer'])\n",
    "            price.append(item['offers']['price'])\n",
    "            url.append(item['offers']['url'])\n",
    "            description.append(item['name'])\n",
    "        except NoSuchElementException:\n",
    "            pass \n",
    "\n",
    "\n",
    "    try:\n",
    "        time.sleep(3)\n",
    "        element = driver.find_element_by_link_text('Next ›')\n",
    "        actions = ActionChains(driver)\n",
    "        actions.move_to_element(element).perform()\n",
    "        time.sleep(5)\n",
    "        element.click()\n",
    "    except NoSuchElementException:\n",
    "        break"
   ]
  },
  {
   "cell_type": "code",
   "execution_count": 76,
   "metadata": {},
   "outputs": [
    {
     "data": {
      "text/html": [
       "<div>\n",
       "<style scoped>\n",
       "    .dataframe tbody tr th:only-of-type {\n",
       "        vertical-align: middle;\n",
       "    }\n",
       "\n",
       "    .dataframe tbody tr th {\n",
       "        vertical-align: top;\n",
       "    }\n",
       "\n",
       "    .dataframe thead th {\n",
       "        text-align: right;\n",
       "    }\n",
       "</style>\n",
       "<table border=\"1\" class=\"dataframe\">\n",
       "  <thead>\n",
       "    <tr style=\"text-align: right;\">\n",
       "      <th></th>\n",
       "      <th>Make</th>\n",
       "      <th>Model_Year</th>\n",
       "      <th>Fuel_Type</th>\n",
       "      <th>Transmission</th>\n",
       "      <th>Engine_Capacity</th>\n",
       "      <th>Kms_Driven</th>\n",
       "      <th>Price</th>\n",
       "      <th>Url</th>\n",
       "      <th>Description</th>\n",
       "    </tr>\n",
       "  </thead>\n",
       "  <tbody>\n",
       "    <tr>\n",
       "      <th>0</th>\n",
       "      <td>DFSK</td>\n",
       "      <td>2021</td>\n",
       "      <td>Petrol</td>\n",
       "      <td>Automatic</td>\n",
       "      <td>1500cc</td>\n",
       "      <td>1 km</td>\n",
       "      <td>4850000</td>\n",
       "      <td>https://www.pakwheels.com/used-cars/dfsk-glory...</td>\n",
       "      <td>DFSK Glory 580 2021 for sale in Sahiwal</td>\n",
       "    </tr>\n",
       "    <tr>\n",
       "      <th>1</th>\n",
       "      <td>DFSK</td>\n",
       "      <td>2021</td>\n",
       "      <td>Petrol</td>\n",
       "      <td>Automatic</td>\n",
       "      <td>1500cc</td>\n",
       "      <td>2,000 km</td>\n",
       "      <td>4850000</td>\n",
       "      <td>https://www.pakwheels.com/used-cars/dfsk-glory...</td>\n",
       "      <td>DFSK Glory 580 2021 for sale in Lahore</td>\n",
       "    </tr>\n",
       "    <tr>\n",
       "      <th>2</th>\n",
       "      <td>DFSK</td>\n",
       "      <td>2021</td>\n",
       "      <td>Petrol</td>\n",
       "      <td>Automatic</td>\n",
       "      <td>1500cc</td>\n",
       "      <td>11,001 km</td>\n",
       "      <td>4995000</td>\n",
       "      <td>https://www.pakwheels.com/used-cars/dfsk-glory...</td>\n",
       "      <td>DFSK Glory 580 2021 for sale in Islamabad</td>\n",
       "    </tr>\n",
       "    <tr>\n",
       "      <th>3</th>\n",
       "      <td>DFSK</td>\n",
       "      <td>2021</td>\n",
       "      <td>Petrol</td>\n",
       "      <td>Automatic</td>\n",
       "      <td>1500cc</td>\n",
       "      <td>1 km</td>\n",
       "      <td>4610000</td>\n",
       "      <td>https://www.pakwheels.com/used-cars/dfsk-glory...</td>\n",
       "      <td>DFSK Glory 580 2021 for sale in Islamabad</td>\n",
       "    </tr>\n",
       "    <tr>\n",
       "      <th>4</th>\n",
       "      <td>DFSK</td>\n",
       "      <td>2021</td>\n",
       "      <td>Petrol</td>\n",
       "      <td>Automatic</td>\n",
       "      <td>1500cc</td>\n",
       "      <td>100 km</td>\n",
       "      <td>4610000</td>\n",
       "      <td>https://www.pakwheels.com/used-cars/dfsk-glory...</td>\n",
       "      <td>DFSK Glory 580 2021 for sale in Gujranwala</td>\n",
       "    </tr>\n",
       "  </tbody>\n",
       "</table>\n",
       "</div>"
      ],
      "text/plain": [
       "   Make  Model_Year Fuel_Type Transmission Engine_Capacity Kms_Driven  \\\n",
       "0  DFSK        2021    Petrol    Automatic          1500cc       1 km   \n",
       "1  DFSK        2021    Petrol    Automatic          1500cc   2,000 km   \n",
       "2  DFSK        2021    Petrol    Automatic          1500cc  11,001 km   \n",
       "3  DFSK        2021    Petrol    Automatic          1500cc       1 km   \n",
       "4  DFSK        2021    Petrol    Automatic          1500cc     100 km   \n",
       "\n",
       "     Price                                                Url  \\\n",
       "0  4850000  https://www.pakwheels.com/used-cars/dfsk-glory...   \n",
       "1  4850000  https://www.pakwheels.com/used-cars/dfsk-glory...   \n",
       "2  4995000  https://www.pakwheels.com/used-cars/dfsk-glory...   \n",
       "3  4610000  https://www.pakwheels.com/used-cars/dfsk-glory...   \n",
       "4  4610000  https://www.pakwheels.com/used-cars/dfsk-glory...   \n",
       "\n",
       "                                  Description  \n",
       "0     DFSK Glory 580 2021 for sale in Sahiwal  \n",
       "1      DFSK Glory 580 2021 for sale in Lahore  \n",
       "2   DFSK Glory 580 2021 for sale in Islamabad  \n",
       "3   DFSK Glory 580 2021 for sale in Islamabad  \n",
       "4  DFSK Glory 580 2021 for sale in Gujranwala  "
      ]
     },
     "execution_count": 76,
     "metadata": {},
     "output_type": "execute_result"
    }
   ],
   "source": [
    "dfsk = pd.DataFrame({'Make':brand, 'Model_Year':year, 'Fuel_Type':fuelType, \n",
    "             'Transmission':transmission, 'Engine_Capacity':cc, 'Kms_Driven':km_driven,\n",
    "             'Price':price, 'Url':url, 'Description':description})\n",
    "dfsk.head()"
   ]
  },
  {
   "cell_type": "code",
   "execution_count": 77,
   "metadata": {},
   "outputs": [],
   "source": [
    "dfsk.drop_duplicates(inplace=True)"
   ]
  },
  {
   "cell_type": "code",
   "execution_count": 78,
   "metadata": {},
   "outputs": [],
   "source": [
    "dfsk.to_csv('DFSK', index=False)"
   ]
  },
  {
   "cell_type": "code",
   "execution_count": 79,
   "metadata": {},
   "outputs": [
    {
     "data": {
      "text/plain": [
       "(216, 9)"
      ]
     },
     "execution_count": 79,
     "metadata": {},
     "output_type": "execute_result"
    }
   ],
   "source": [
    "dfsk.shape"
   ]
  },
  {
   "cell_type": "code",
   "execution_count": null,
   "metadata": {},
   "outputs": [],
   "source": []
  },
  {
   "cell_type": "markdown",
   "metadata": {},
   "source": [
    "# Subaru"
   ]
  },
  {
   "cell_type": "code",
   "execution_count": 81,
   "metadata": {},
   "outputs": [],
   "source": [
    "driver.find_element_by_link_text('Subaru').click()"
   ]
  },
  {
   "cell_type": "code",
   "execution_count": 82,
   "metadata": {},
   "outputs": [],
   "source": [
    "# brand = []\n",
    "# year = []\n",
    "# fuelType = []\n",
    "# transmission = []\n",
    "# cc = []\n",
    "# km_driven = []\n",
    "# price = []\n",
    "# description = []\n",
    "# url = []"
   ]
  },
  {
   "cell_type": "code",
   "execution_count": 83,
   "metadata": {},
   "outputs": [],
   "source": [
    "import json\n",
    "\n",
    "for j in range(100):\n",
    "    time.sleep(10)\n",
    "    cards = driver.find_elements_by_css_selector('.classified-listing   ')\n",
    "    for i in cards:\n",
    "        try:\n",
    "            lib = i.find_element_by_tag_name('script').get_attribute('innerHTML')\n",
    "            item = json.loads(lib.replace('\\n', ''))\n",
    "            brand.append(item['brand']['name'])\n",
    "            year.append(item['modelDate'])\n",
    "            fuelType.append(item['fuelType'])\n",
    "            transmission.append(item['vehicleTransmission'])\n",
    "            cc.append(item['vehicleEngine']['engineDisplacement'])\n",
    "            km_driven.append(item['mileageFromOdometer'])\n",
    "            price.append(item['offers']['price'])\n",
    "            url.append(item['offers']['url'])\n",
    "            description.append(item['name'])\n",
    "        except NoSuchElementException:\n",
    "            pass \n",
    "\n",
    "\n",
    "    try:\n",
    "        time.sleep(3)\n",
    "        element = driver.find_element_by_link_text('Next ›')\n",
    "        actions = ActionChains(driver)\n",
    "        actions.move_to_element(element).perform()\n",
    "        time.sleep(5)\n",
    "        element.click()\n",
    "    except NoSuchElementException:\n",
    "        break"
   ]
  },
  {
   "cell_type": "code",
   "execution_count": 84,
   "metadata": {},
   "outputs": [
    {
     "data": {
      "text/html": [
       "<div>\n",
       "<style scoped>\n",
       "    .dataframe tbody tr th:only-of-type {\n",
       "        vertical-align: middle;\n",
       "    }\n",
       "\n",
       "    .dataframe tbody tr th {\n",
       "        vertical-align: top;\n",
       "    }\n",
       "\n",
       "    .dataframe thead th {\n",
       "        text-align: right;\n",
       "    }\n",
       "</style>\n",
       "<table border=\"1\" class=\"dataframe\">\n",
       "  <thead>\n",
       "    <tr style=\"text-align: right;\">\n",
       "      <th></th>\n",
       "      <th>Make</th>\n",
       "      <th>Model_Year</th>\n",
       "      <th>Fuel_Type</th>\n",
       "      <th>Transmission</th>\n",
       "      <th>Engine_Capacity</th>\n",
       "      <th>Kms_Driven</th>\n",
       "      <th>Price</th>\n",
       "      <th>Url</th>\n",
       "      <th>Description</th>\n",
       "    </tr>\n",
       "  </thead>\n",
       "  <tbody>\n",
       "    <tr>\n",
       "      <th>0</th>\n",
       "      <td>Subaru</td>\n",
       "      <td>2020</td>\n",
       "      <td>Petrol</td>\n",
       "      <td>Automatic</td>\n",
       "      <td>1000cc</td>\n",
       "      <td>12,000 km</td>\n",
       "      <td>2680000</td>\n",
       "      <td>https://www.pakwheels.com/used-cars/subaru-jus...</td>\n",
       "      <td>Subaru Justy 2020 for sale in Faisalabad</td>\n",
       "    </tr>\n",
       "    <tr>\n",
       "      <th>1</th>\n",
       "      <td>Subaru</td>\n",
       "      <td>2018</td>\n",
       "      <td>Petrol</td>\n",
       "      <td>Automatic</td>\n",
       "      <td>660cc</td>\n",
       "      <td>1,500 km</td>\n",
       "      <td>2350000</td>\n",
       "      <td>https://www.pakwheels.com/used-cars/subaru-ple...</td>\n",
       "      <td>Subaru Pleo 2018 for sale in Karachi</td>\n",
       "    </tr>\n",
       "    <tr>\n",
       "      <th>2</th>\n",
       "      <td>Subaru</td>\n",
       "      <td>2012</td>\n",
       "      <td>Petrol</td>\n",
       "      <td>Automatic</td>\n",
       "      <td>2400cc</td>\n",
       "      <td>80,000 km</td>\n",
       "      <td>2800000</td>\n",
       "      <td>https://www.pakwheels.com/used-cars/subaru-for...</td>\n",
       "      <td>Subaru Forester 2012 for sale in Islamabad</td>\n",
       "    </tr>\n",
       "    <tr>\n",
       "      <th>3</th>\n",
       "      <td>Subaru</td>\n",
       "      <td>2018</td>\n",
       "      <td>Petrol</td>\n",
       "      <td>Automatic</td>\n",
       "      <td>660cc</td>\n",
       "      <td>67,000 km</td>\n",
       "      <td>2000000</td>\n",
       "      <td>https://www.pakwheels.com/used-cars/subaru-ste...</td>\n",
       "      <td>Subaru Stella 2018 for sale in Sialkot</td>\n",
       "    </tr>\n",
       "    <tr>\n",
       "      <th>4</th>\n",
       "      <td>Subaru</td>\n",
       "      <td>2012</td>\n",
       "      <td>Petrol</td>\n",
       "      <td>Automatic</td>\n",
       "      <td>660cc</td>\n",
       "      <td>85,000 km</td>\n",
       "      <td>1330000</td>\n",
       "      <td>https://www.pakwheels.com/used-cars/subaru-ste...</td>\n",
       "      <td>Subaru Stella 2012 for sale in Lahore</td>\n",
       "    </tr>\n",
       "  </tbody>\n",
       "</table>\n",
       "</div>"
      ],
      "text/plain": [
       "     Make  Model_Year Fuel_Type Transmission Engine_Capacity Kms_Driven  \\\n",
       "0  Subaru        2020    Petrol    Automatic          1000cc  12,000 km   \n",
       "1  Subaru        2018    Petrol    Automatic           660cc   1,500 km   \n",
       "2  Subaru        2012    Petrol    Automatic          2400cc  80,000 km   \n",
       "3  Subaru        2018    Petrol    Automatic           660cc  67,000 km   \n",
       "4  Subaru        2012    Petrol    Automatic           660cc  85,000 km   \n",
       "\n",
       "     Price                                                Url  \\\n",
       "0  2680000  https://www.pakwheels.com/used-cars/subaru-jus...   \n",
       "1  2350000  https://www.pakwheels.com/used-cars/subaru-ple...   \n",
       "2  2800000  https://www.pakwheels.com/used-cars/subaru-for...   \n",
       "3  2000000  https://www.pakwheels.com/used-cars/subaru-ste...   \n",
       "4  1330000  https://www.pakwheels.com/used-cars/subaru-ste...   \n",
       "\n",
       "                                  Description  \n",
       "0    Subaru Justy 2020 for sale in Faisalabad  \n",
       "1        Subaru Pleo 2018 for sale in Karachi  \n",
       "2  Subaru Forester 2012 for sale in Islamabad  \n",
       "3      Subaru Stella 2018 for sale in Sialkot  \n",
       "4       Subaru Stella 2012 for sale in Lahore  "
      ]
     },
     "execution_count": 84,
     "metadata": {},
     "output_type": "execute_result"
    }
   ],
   "source": [
    "subaru = pd.DataFrame({'Make':brand, 'Model_Year':year, 'Fuel_Type':fuelType, \n",
    "             'Transmission':transmission, 'Engine_Capacity':cc, 'Kms_Driven':km_driven,\n",
    "             'Price':price, 'Url':url, 'Description':description})\n",
    "subaru.head()"
   ]
  },
  {
   "cell_type": "code",
   "execution_count": 85,
   "metadata": {},
   "outputs": [
    {
     "data": {
      "text/plain": [
       "(154, 9)"
      ]
     },
     "execution_count": 85,
     "metadata": {},
     "output_type": "execute_result"
    }
   ],
   "source": [
    "subaru.drop_duplicates(inplace=True)\n",
    "subaru.to_csv('Subaru', index=False)\n",
    "subaru.shape"
   ]
  },
  {
   "cell_type": "code",
   "execution_count": null,
   "metadata": {},
   "outputs": [],
   "source": []
  },
  {
   "cell_type": "markdown",
   "metadata": {},
   "source": [
    "# Daewoo"
   ]
  },
  {
   "cell_type": "code",
   "execution_count": 86,
   "metadata": {},
   "outputs": [],
   "source": [
    "driver.find_element_by_link_text('Daewoo').click()"
   ]
  },
  {
   "cell_type": "code",
   "execution_count": 87,
   "metadata": {},
   "outputs": [],
   "source": [
    "# brand = []\n",
    "# year = []\n",
    "# fuelType = []\n",
    "# transmission = []\n",
    "# cc = []\n",
    "# km_driven = []\n",
    "# price = []\n",
    "# description = []\n",
    "# url = []"
   ]
  },
  {
   "cell_type": "code",
   "execution_count": 89,
   "metadata": {},
   "outputs": [],
   "source": [
    "import json\n",
    "\n",
    "for j in range(98):\n",
    "    time.sleep(10)\n",
    "    cards = driver.find_elements_by_css_selector('.classified-listing   ')\n",
    "    for i in cards:\n",
    "        try:\n",
    "            lib = i.find_element_by_tag_name('script').get_attribute('innerHTML')\n",
    "            item = json.loads(lib.replace('\\n', ''))\n",
    "            brand.append(item['brand']['name'])\n",
    "            year.append(item['modelDate'])\n",
    "            fuelType.append(item['fuelType'])\n",
    "            transmission.append(item['vehicleTransmission'])\n",
    "            cc.append(item['vehicleEngine']['engineDisplacement'])\n",
    "            km_driven.append(item['mileageFromOdometer'])\n",
    "            price.append(item['offers']['price'])\n",
    "            url.append(item['offers']['url'])\n",
    "            description.append(item['name'])\n",
    "        except NoSuchElementException:\n",
    "            pass \n",
    "\n",
    "\n",
    "    try:\n",
    "        time.sleep(3)\n",
    "        element = driver.find_element_by_link_text('Next ›')\n",
    "        actions = ActionChains(driver)\n",
    "        actions.move_to_element(element).perform()\n",
    "        time.sleep(5)\n",
    "        element.click()\n",
    "    except NoSuchElementException:\n",
    "        break"
   ]
  },
  {
   "cell_type": "code",
   "execution_count": 90,
   "metadata": {},
   "outputs": [
    {
     "data": {
      "text/html": [
       "<div>\n",
       "<style scoped>\n",
       "    .dataframe tbody tr th:only-of-type {\n",
       "        vertical-align: middle;\n",
       "    }\n",
       "\n",
       "    .dataframe tbody tr th {\n",
       "        vertical-align: top;\n",
       "    }\n",
       "\n",
       "    .dataframe thead th {\n",
       "        text-align: right;\n",
       "    }\n",
       "</style>\n",
       "<table border=\"1\" class=\"dataframe\">\n",
       "  <thead>\n",
       "    <tr style=\"text-align: right;\">\n",
       "      <th></th>\n",
       "      <th>Make</th>\n",
       "      <th>Model_Year</th>\n",
       "      <th>Fuel_Type</th>\n",
       "      <th>Transmission</th>\n",
       "      <th>Engine_Capacity</th>\n",
       "      <th>Kms_Driven</th>\n",
       "      <th>Price</th>\n",
       "      <th>Url</th>\n",
       "      <th>Description</th>\n",
       "    </tr>\n",
       "  </thead>\n",
       "  <tbody>\n",
       "    <tr>\n",
       "      <th>0</th>\n",
       "      <td>Daewoo</td>\n",
       "      <td>1997</td>\n",
       "      <td>Petrol</td>\n",
       "      <td>Manual</td>\n",
       "      <td>1500cc</td>\n",
       "      <td>197,000 km</td>\n",
       "      <td>450000</td>\n",
       "      <td>https://www.pakwheels.com/used-cars/daewoo-rac...</td>\n",
       "      <td>Daewoo Racer 1997 for sale in Islamabad</td>\n",
       "    </tr>\n",
       "    <tr>\n",
       "      <th>1</th>\n",
       "      <td>Daewoo</td>\n",
       "      <td>1993</td>\n",
       "      <td>Petrol</td>\n",
       "      <td>Manual</td>\n",
       "      <td>1300cc</td>\n",
       "      <td>258,580 km</td>\n",
       "      <td>340000</td>\n",
       "      <td>https://www.pakwheels.com/used-cars/daewoo-rac...</td>\n",
       "      <td>Daewoo Racer 1993 for sale in Lahore</td>\n",
       "    </tr>\n",
       "    <tr>\n",
       "      <th>2</th>\n",
       "      <td>Daewoo</td>\n",
       "      <td>1993</td>\n",
       "      <td>CNG</td>\n",
       "      <td>Manual</td>\n",
       "      <td>1500cc</td>\n",
       "      <td>258,470 km</td>\n",
       "      <td>335000</td>\n",
       "      <td>https://www.pakwheels.com/used-cars/daewoo-rac...</td>\n",
       "      <td>Daewoo Racer 1993 for sale in Rawalpindi</td>\n",
       "    </tr>\n",
       "    <tr>\n",
       "      <th>3</th>\n",
       "      <td>Daewoo</td>\n",
       "      <td>1994</td>\n",
       "      <td>CNG</td>\n",
       "      <td>Manual</td>\n",
       "      <td>1500cc</td>\n",
       "      <td>65,000 km</td>\n",
       "      <td>300000</td>\n",
       "      <td>https://www.pakwheels.com/used-cars/daewoo-rac...</td>\n",
       "      <td>Daewoo Racer 1994 for sale in Hassan abdal</td>\n",
       "    </tr>\n",
       "    <tr>\n",
       "      <th>4</th>\n",
       "      <td>Daewoo</td>\n",
       "      <td>1993</td>\n",
       "      <td>Petrol</td>\n",
       "      <td>Manual</td>\n",
       "      <td>1500cc</td>\n",
       "      <td>200,000 km</td>\n",
       "      <td>485000</td>\n",
       "      <td>https://www.pakwheels.com/used-cars/daewoo-rac...</td>\n",
       "      <td>Daewoo Racer 1993 for sale in Islamabad</td>\n",
       "    </tr>\n",
       "  </tbody>\n",
       "</table>\n",
       "</div>"
      ],
      "text/plain": [
       "     Make  Model_Year Fuel_Type Transmission Engine_Capacity  Kms_Driven  \\\n",
       "0  Daewoo        1997    Petrol       Manual          1500cc  197,000 km   \n",
       "1  Daewoo        1993    Petrol       Manual          1300cc  258,580 km   \n",
       "2  Daewoo        1993       CNG       Manual          1500cc  258,470 km   \n",
       "3  Daewoo        1994       CNG       Manual          1500cc   65,000 km   \n",
       "4  Daewoo        1993    Petrol       Manual          1500cc  200,000 km   \n",
       "\n",
       "    Price                                                Url  \\\n",
       "0  450000  https://www.pakwheels.com/used-cars/daewoo-rac...   \n",
       "1  340000  https://www.pakwheels.com/used-cars/daewoo-rac...   \n",
       "2  335000  https://www.pakwheels.com/used-cars/daewoo-rac...   \n",
       "3  300000  https://www.pakwheels.com/used-cars/daewoo-rac...   \n",
       "4  485000  https://www.pakwheels.com/used-cars/daewoo-rac...   \n",
       "\n",
       "                                  Description  \n",
       "0     Daewoo Racer 1997 for sale in Islamabad  \n",
       "1        Daewoo Racer 1993 for sale in Lahore  \n",
       "2    Daewoo Racer 1993 for sale in Rawalpindi  \n",
       "3  Daewoo Racer 1994 for sale in Hassan abdal  \n",
       "4     Daewoo Racer 1993 for sale in Islamabad  "
      ]
     },
     "execution_count": 90,
     "metadata": {},
     "output_type": "execute_result"
    }
   ],
   "source": [
    "daewoo = pd.DataFrame({'Make':brand, 'Model_Year':year, 'Fuel_Type':fuelType, \n",
    "             'Transmission':transmission, 'Engine_Capacity':cc, 'Kms_Driven':km_driven,\n",
    "             'Price':price, 'Url':url, 'Description':description})\n",
    "daewoo.head()"
   ]
  },
  {
   "cell_type": "code",
   "execution_count": 91,
   "metadata": {},
   "outputs": [
    {
     "data": {
      "text/plain": [
       "(107, 9)"
      ]
     },
     "execution_count": 91,
     "metadata": {},
     "output_type": "execute_result"
    }
   ],
   "source": [
    "daewoo.drop_duplicates(inplace=True)\n",
    "daewoo.to_csv('Daewoo', index=False)\n",
    "daewoo.shape"
   ]
  },
  {
   "cell_type": "code",
   "execution_count": null,
   "metadata": {},
   "outputs": [],
   "source": []
  },
  {
   "cell_type": "code",
   "execution_count": null,
   "metadata": {},
   "outputs": [],
   "source": []
  }
 ],
 "metadata": {
  "kernelspec": {
   "display_name": "Python 3",
   "language": "python",
   "name": "python3"
  },
  "language_info": {
   "codemirror_mode": {
    "name": "ipython",
    "version": 3
   },
   "file_extension": ".py",
   "mimetype": "text/x-python",
   "name": "python",
   "nbconvert_exporter": "python",
   "pygments_lexer": "ipython3",
   "version": "3.6.13"
  }
 },
 "nbformat": 4,
 "nbformat_minor": 4
}
